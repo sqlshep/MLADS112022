{
 "cells": [
  {
   "cell_type": "markdown",
   "metadata": {},
   "source": [
    "# Python \n",
    "## Ignore any errors from the pip install\n"
   ]
  },
  {
   "cell_type": "code",
   "execution_count": null,
   "metadata": {},
   "outputs": [],
   "source": [
    "!pip install sklearn --upgrade\n",
    "\n",
    "!pip install pandas --upgrade\n",
    "\n",
    "!pip install numpy --upgrade\n"
   ]
  },
  {
   "cell_type": "markdown",
   "metadata": {},
   "source": [
    "### Getting Started with Print"
   ]
  },
  {
   "cell_type": "code",
   "execution_count": 2,
   "metadata": {
    "scrolled": true
   },
   "outputs": [
    {
     "name": "stdout",
     "output_type": "stream",
     "text": [
      "Hello Python\n"
     ]
    }
   ],
   "source": [
    "print(\"Hello Python\")"
   ]
  },
  {
   "cell_type": "code",
   "execution_count": null,
   "metadata": {},
   "outputs": [],
   "source": []
  },
  {
   "cell_type": "code",
   "execution_count": 3,
   "metadata": {},
   "outputs": [
    {
     "name": "stdout",
     "output_type": "stream",
     "text": [
      "3.0\n"
     ]
    }
   ],
   "source": [
    "print(9/3)"
   ]
  },
  {
   "cell_type": "code",
   "execution_count": null,
   "metadata": {},
   "outputs": [],
   "source": []
  },
  {
   "cell_type": "code",
   "execution_count": 4,
   "metadata": {},
   "outputs": [
    {
     "name": "stdout",
     "output_type": "stream",
     "text": [
      "Results of the 2019 Indy 500\n"
     ]
    }
   ],
   "source": [
    "\n",
    "x = '2019'\n",
    "y = 'Indy 500'\n",
    "\n",
    "print(\"Results of the {0} {1}\".format(x,y))"
   ]
  },
  {
   "cell_type": "code",
   "execution_count": null,
   "metadata": {},
   "outputs": [],
   "source": []
  },
  {
   "cell_type": "code",
   "execution_count": 5,
   "metadata": {},
   "outputs": [],
   "source": [
    "# this works in base python...\n",
    "#print(f'Results of the {x} {y}')"
   ]
  },
  {
   "cell_type": "code",
   "execution_count": 6,
   "metadata": {},
   "outputs": [
    {
     "name": "stdout",
     "output_type": "stream",
     "text": [
      "Results of the 2019 Indy 500\n"
     ]
    }
   ],
   "source": [
    "print('Results of the {} {}'.format(x,y))"
   ]
  },
  {
   "cell_type": "code",
   "execution_count": null,
   "metadata": {},
   "outputs": [],
   "source": []
  },
  {
   "cell_type": "code",
   "execution_count": 7,
   "metadata": {},
   "outputs": [
    {
     "name": "stdout",
     "output_type": "stream",
     "text": [
      "42,572,654 YES votes  49.67%\n"
     ]
    }
   ],
   "source": [
    "yes_votes = 42572654\n",
    "no_votes = 43132495\n",
    "\n",
    "percentage = yes_votes / (yes_votes + no_votes)\n",
    "\n",
    "print('{:,} YES votes  {:2.2%}'.format(yes_votes, percentage))"
   ]
  },
  {
   "cell_type": "code",
   "execution_count": null,
   "metadata": {},
   "outputs": [],
   "source": []
  },
  {
   "cell_type": "markdown",
   "metadata": {},
   "source": [
    "### Types"
   ]
  },
  {
   "cell_type": "markdown",
   "metadata": {},
   "source": [
    "#### Boolean"
   ]
  },
  {
   "cell_type": "code",
   "execution_count": 8,
   "metadata": {},
   "outputs": [
    {
     "name": "stdout",
     "output_type": "stream",
     "text": [
      "They do not Equal\n",
      "<class 'bool'>\n"
     ]
    }
   ],
   "source": [
    "myBool = True\n",
    "myOtherBool = False\n",
    "\n",
    "if (myBool == myOtherBool):\n",
    "    print(\"They Equal\")\n",
    "else: \n",
    "    print(\"They do not Equal\")\n",
    "        \n",
    "\n",
    "print(type(myBool))"
   ]
  },
  {
   "cell_type": "code",
   "execution_count": null,
   "metadata": {},
   "outputs": [],
   "source": []
  },
  {
   "cell_type": "code",
   "execution_count": 9,
   "metadata": {},
   "outputs": [
    {
     "name": "stdout",
     "output_type": "stream",
     "text": [
      "myInt is less than myOtherInt with 99\n"
     ]
    }
   ],
   "source": [
    "myInt = 99\n",
    "myOtherInt = 999\n",
    "\n",
    "if (myInt <= myOtherInt):\n",
    "    print(\"myInt is less than myOtherInt with {}\".format(myInt) )"
   ]
  },
  {
   "cell_type": "code",
   "execution_count": null,
   "metadata": {},
   "outputs": [],
   "source": []
  },
  {
   "cell_type": "markdown",
   "metadata": {},
   "source": [
    "#### Numeric Types"
   ]
  },
  {
   "cell_type": "code",
   "execution_count": 10,
   "metadata": {},
   "outputs": [
    {
     "data": {
      "text/plain": [
       "12.375"
      ]
     },
     "execution_count": 10,
     "metadata": {},
     "output_type": "execute_result"
    }
   ],
   "source": [
    "#Division\n",
    "99 / 8\n"
   ]
  },
  {
   "cell_type": "code",
   "execution_count": null,
   "metadata": {},
   "outputs": [],
   "source": []
  },
  {
   "cell_type": "code",
   "execution_count": 11,
   "metadata": {},
   "outputs": [
    {
     "data": {
      "text/plain": [
       "12"
      ]
     },
     "execution_count": 11,
     "metadata": {},
     "output_type": "execute_result"
    }
   ],
   "source": [
    "#Floor Division\n",
    "99 // 8"
   ]
  },
  {
   "cell_type": "code",
   "execution_count": null,
   "metadata": {},
   "outputs": [],
   "source": []
  },
  {
   "cell_type": "code",
   "execution_count": 12,
   "metadata": {},
   "outputs": [
    {
     "data": {
      "text/plain": [
       "3"
      ]
     },
     "execution_count": 12,
     "metadata": {},
     "output_type": "execute_result"
    }
   ],
   "source": [
    "# Remainder, Modulo\n",
    "99 % 8"
   ]
  },
  {
   "cell_type": "code",
   "execution_count": null,
   "metadata": {},
   "outputs": [],
   "source": []
  },
  {
   "cell_type": "code",
   "execution_count": 13,
   "metadata": {},
   "outputs": [
    {
     "data": {
      "text/plain": [
       "4500"
      ]
     },
     "execution_count": 13,
     "metadata": {},
     "output_type": "execute_result"
    }
   ],
   "source": [
    "# Absolute value\n",
    "abs(-4500)"
   ]
  },
  {
   "cell_type": "code",
   "execution_count": null,
   "metadata": {},
   "outputs": [],
   "source": []
  },
  {
   "cell_type": "code",
   "execution_count": 14,
   "metadata": {},
   "outputs": [
    {
     "data": {
      "text/plain": [
       "(12, 3)"
      ]
     },
     "execution_count": 14,
     "metadata": {},
     "output_type": "execute_result"
    }
   ],
   "source": [
    "#divmod\n",
    "divmod(99,8)"
   ]
  },
  {
   "cell_type": "code",
   "execution_count": null,
   "metadata": {},
   "outputs": [],
   "source": []
  },
  {
   "cell_type": "code",
   "execution_count": 15,
   "metadata": {},
   "outputs": [
    {
     "name": "stdout",
     "output_type": "stream",
     "text": [
      "16\n",
      "16\n"
     ]
    }
   ],
   "source": [
    "# Powers\n",
    "print(pow(2,4))\n",
    "\n",
    "print(2**4)"
   ]
  },
  {
   "cell_type": "code",
   "execution_count": null,
   "metadata": {},
   "outputs": [],
   "source": []
  },
  {
   "cell_type": "markdown",
   "metadata": {},
   "source": [
    "## Sequence types: Lists, tuples, range"
   ]
  },
  {
   "cell_type": "code",
   "execution_count": 16,
   "metadata": {},
   "outputs": [
    {
     "name": "stdout",
     "output_type": "stream",
     "text": [
      "<class 'list'>\n"
     ]
    }
   ],
   "source": [
    "\n",
    "myList = [\"One\", \"Two\", \"Three\", \"Four\",\"Five\", \"Six\", \"Seven\"]\n",
    "\n",
    "\n",
    "print(type(myList))"
   ]
  },
  {
   "cell_type": "code",
   "execution_count": null,
   "metadata": {},
   "outputs": [],
   "source": []
  },
  {
   "cell_type": "code",
   "execution_count": 17,
   "metadata": {},
   "outputs": [
    {
     "data": {
      "text/plain": [
       "'Two'"
      ]
     },
     "execution_count": 17,
     "metadata": {},
     "output_type": "execute_result"
    }
   ],
   "source": [
    "\n",
    "myList = [\"One\", \"Two\", \"Three\", \"Four\",\"Five\", \"Six\", \"Seven\"]\n",
    "\n",
    "\n",
    "# Element in index 1\n",
    "myList[1]\n",
    "\n",
    "# Element starting at index 1 inclusive\n",
    "#myList[1:]\n",
    "\n",
    "# Element starting at index 0 - 3 not inclusive of 4\n",
    "#myList[:4]\n",
    "\n",
    "# Element starting at index 2 - 3 not inclusive of 4\n",
    "#myList[2:4]"
   ]
  },
  {
   "cell_type": "code",
   "execution_count": 18,
   "metadata": {},
   "outputs": [
    {
     "data": {
      "text/plain": [
       "['Three', 'Four']"
      ]
     },
     "execution_count": 18,
     "metadata": {},
     "output_type": "execute_result"
    }
   ],
   "source": [
    "#slice a section from myList to make my tiny list \n",
    "myTinyList = myList[2:4]\n",
    "\n",
    "\n",
    "# Lets verify what i have in memory\n",
    "myTinyList"
   ]
  },
  {
   "cell_type": "code",
   "execution_count": 19,
   "metadata": {},
   "outputs": [
    {
     "data": {
      "text/plain": [
       "'T'"
      ]
     },
     "execution_count": 19,
     "metadata": {},
     "output_type": "execute_result"
    }
   ],
   "source": [
    "# Look at location 0,0\n",
    "myTinyList[0][0]"
   ]
  },
  {
   "cell_type": "markdown",
   "metadata": {},
   "source": [
    "### Sort and Reverse"
   ]
  },
  {
   "cell_type": "code",
   "execution_count": 20,
   "metadata": {},
   "outputs": [
    {
     "name": "stdout",
     "output_type": "stream",
     "text": [
      "['Five', 'Four', 'One', 'Seven', 'Six', 'Three', 'Two']\n",
      "['Two', 'Three', 'Six', 'Seven', 'One', 'Four', 'Five']\n"
     ]
    }
   ],
   "source": [
    "\n",
    "myList = [\"One\", \"Two\", \"Three\", \"Four\",\"Five\", \"Six\", \"Seven\"]\n",
    "\n",
    "#Sort \n",
    "myList.sort()\n",
    "print(myList)\n",
    "\n",
    "#Reverses\n",
    "myList.reverse()\n",
    "print(myList)"
   ]
  },
  {
   "cell_type": "markdown",
   "metadata": {},
   "source": [
    "### Updating a list"
   ]
  },
  {
   "cell_type": "code",
   "execution_count": 21,
   "metadata": {},
   "outputs": [
    {
     "data": {
      "text/plain": [
       "['Two', 'Zero', 'Six', 'Seven', 'One', 'Four', 'Five']"
      ]
     },
     "execution_count": 21,
     "metadata": {},
     "output_type": "execute_result"
    }
   ],
   "source": [
    "myList[1] = \"Zero\"\n",
    "\n",
    "myList\n",
    "\n"
   ]
  },
  {
   "cell_type": "markdown",
   "metadata": {},
   "source": [
    "### Add an element to a List"
   ]
  },
  {
   "cell_type": "code",
   "execution_count": 22,
   "metadata": {},
   "outputs": [
    {
     "data": {
      "text/plain": [
       "['Two', 'Zero', 'Six', 'Seven', 'One', 'Four', 'Five', 'Eight']"
      ]
     },
     "execution_count": 22,
     "metadata": {},
     "output_type": "execute_result"
    }
   ],
   "source": [
    "myList.append(\"Eight\")\n",
    "\n",
    "myList"
   ]
  },
  {
   "cell_type": "code",
   "execution_count": 23,
   "metadata": {},
   "outputs": [
    {
     "data": {
      "text/plain": [
       "list_iterator"
      ]
     },
     "execution_count": 23,
     "metadata": {},
     "output_type": "execute_result"
    }
   ],
   "source": [
    "myIterList = iter(myList)\n",
    "\n",
    "type(myIterList)"
   ]
  },
  {
   "cell_type": "code",
   "execution_count": 24,
   "metadata": {},
   "outputs": [
    {
     "name": "stdout",
     "output_type": "stream",
     "text": [
      "Two\n",
      "Zero\n",
      "Six\n",
      "Seven\n",
      "One\n",
      "Four\n",
      "Five\n",
      "Eight\n",
      "-999\n"
     ]
    }
   ],
   "source": [
    "print(next(myIterList))\n",
    "print(next(myIterList))\n",
    "print(next(myIterList))\n",
    "print(next(myIterList))\n",
    "print(next(myIterList))\n",
    "print(next(myIterList))\n",
    "print(next(myIterList))\n",
    "print(next(myIterList,\"-999\"))\n",
    "print(next(myIterList,\"-999\"))\n"
   ]
  },
  {
   "cell_type": "markdown",
   "metadata": {},
   "source": [
    "2d List"
   ]
  },
  {
   "cell_type": "code",
   "execution_count": 25,
   "metadata": {},
   "outputs": [
    {
     "data": {
      "text/plain": [
       "2"
      ]
     },
     "execution_count": 25,
     "metadata": {},
     "output_type": "execute_result"
    }
   ],
   "source": [
    "\n",
    "myList = [[\"One\",1], [\"Two\",2],[\"Three\",3], [\"Four\",4,], [\"Five\",5]]\n",
    "\n",
    "myList\n",
    "\n",
    "myList[1][1]"
   ]
  },
  {
   "cell_type": "markdown",
   "metadata": {},
   "source": [
    "### Removing elements from a list"
   ]
  },
  {
   "cell_type": "code",
   "execution_count": 26,
   "metadata": {},
   "outputs": [
    {
     "name": "stdout",
     "output_type": "stream",
     "text": [
      "['One', 2, 'Three', 4, 'Five', 6, 'Seven']\n",
      "['One', 2, 'Three', 4, 'Five', 'Seven']\n",
      "['One', 2, 'Three', 4, 'Seven']\n"
     ]
    }
   ],
   "source": [
    "\n",
    "myOtherList = [\"One\", 2, \"Three\", 4,\"Five\", 6, \"Seven\"]\n",
    "\n",
    "print(myOtherList)\n",
    "\n",
    "#pop 5th index element\n",
    "myOtherList.pop(5)\n",
    "\n",
    "print(myOtherList)\n",
    "\n",
    "#remove and \"Five\"\n",
    "myOtherList.remove(\"Five\")\n",
    "\n",
    "\n",
    "print(myOtherList)"
   ]
  },
  {
   "cell_type": "markdown",
   "metadata": {},
   "source": [
    "### Tuple"
   ]
  },
  {
   "cell_type": "code",
   "execution_count": 27,
   "metadata": {},
   "outputs": [
    {
     "name": "stdout",
     "output_type": "stream",
     "text": [
      "<class 'tuple'>\n"
     ]
    }
   ],
   "source": [
    "myTuple = (\"One\", \"Two\", \"Three\", \"Four\",\"Five\", \"Six\", \"Seven\")\n",
    "\n",
    "print(type(myTuple))"
   ]
  },
  {
   "cell_type": "code",
   "execution_count": 28,
   "metadata": {},
   "outputs": [
    {
     "name": "stdout",
     "output_type": "stream",
     "text": [
      "Two\n"
     ]
    }
   ],
   "source": [
    "print(myTuple[1])\n",
    "\n",
    "#myTuple[1] = \"Two\""
   ]
  },
  {
   "cell_type": "code",
   "execution_count": 29,
   "metadata": {},
   "outputs": [
    {
     "data": {
      "text/plain": [
       "('One', 2, 'Three', 4, 'Five', 6, 'Seven')"
      ]
     },
     "execution_count": 29,
     "metadata": {},
     "output_type": "execute_result"
    }
   ],
   "source": [
    "myOtherTuple = (\"One\", 2, \"Three\", 4,\"Five\", 6, \"Seven\")\n",
    "\n",
    "myOtherTuple"
   ]
  },
  {
   "cell_type": "markdown",
   "metadata": {},
   "source": [
    "### 2D Tuple"
   ]
  },
  {
   "cell_type": "code",
   "execution_count": 30,
   "metadata": {},
   "outputs": [
    {
     "data": {
      "text/plain": [
       "'Four'"
      ]
     },
     "execution_count": 30,
     "metadata": {},
     "output_type": "execute_result"
    }
   ],
   "source": [
    "\n",
    "my2dTuple = ([\"One\",1], [\"Two\",2],[\"Three\",3], [\"Four\",4,], [\"Five\",5])\n",
    "\n",
    "my2dTuple[3][0]"
   ]
  },
  {
   "cell_type": "code",
   "execution_count": 31,
   "metadata": {},
   "outputs": [
    {
     "name": "stdout",
     "output_type": "stream",
     "text": [
      "4\n",
      "2\n"
     ]
    }
   ],
   "source": [
    "myTuple = (\"One\", \"Two\", \"Three\", \"Three\", \"Three\", \"Three\",\"Four\",\"Five\", \"Six\", \"Seven\")\n",
    "\n",
    "\n",
    "# Find \"three, how may times does it occur\"\n",
    "print(myTuple.count(\"Three\"))\n",
    "\n",
    "# Where is three\n",
    "print(myTuple.index(\"Three\"))"
   ]
  },
  {
   "cell_type": "markdown",
   "metadata": {},
   "source": [
    "## Range"
   ]
  },
  {
   "cell_type": "code",
   "execution_count": 32,
   "metadata": {},
   "outputs": [
    {
     "data": {
      "text/plain": [
       "range(0, 10)"
      ]
     },
     "execution_count": 32,
     "metadata": {},
     "output_type": "execute_result"
    }
   ],
   "source": [
    "range(10)\n"
   ]
  },
  {
   "cell_type": "code",
   "execution_count": 33,
   "metadata": {},
   "outputs": [
    {
     "data": {
      "text/plain": [
       "[0, 5, 10, 15, 20, 25, 30, 35, 40, 45]"
      ]
     },
     "execution_count": 33,
     "metadata": {},
     "output_type": "execute_result"
    }
   ],
   "source": [
    "list(range(0,50,5))"
   ]
  },
  {
   "cell_type": "code",
   "execution_count": 34,
   "metadata": {},
   "outputs": [
    {
     "data": {
      "text/plain": [
       "[0, 1, 2, 3, 4, 5, 6, 7, 8, 9]"
      ]
     },
     "execution_count": 34,
     "metadata": {},
     "output_type": "execute_result"
    }
   ],
   "source": [
    "list(range(10))"
   ]
  },
  {
   "cell_type": "code",
   "execution_count": 35,
   "metadata": {},
   "outputs": [
    {
     "name": "stdout",
     "output_type": "stream",
     "text": [
      "<class 'list'>\n"
     ]
    }
   ],
   "source": [
    "x = list(range(10))\n",
    "x\n",
    "\n",
    "print(type(x))"
   ]
  },
  {
   "cell_type": "code",
   "execution_count": 36,
   "metadata": {},
   "outputs": [
    {
     "name": "stdout",
     "output_type": "stream",
     "text": [
      "0\n",
      "1\n",
      "2\n",
      "3\n",
      "4\n",
      "5\n",
      "6\n",
      "7\n",
      "8\n",
      "9\n"
     ]
    }
   ],
   "source": [
    "for i in range(0,10):\n",
    "    print (i)"
   ]
  },
  {
   "cell_type": "markdown",
   "metadata": {},
   "source": [
    "### Control Flow"
   ]
  },
  {
   "cell_type": "markdown",
   "metadata": {},
   "source": [
    "### if"
   ]
  },
  {
   "cell_type": "code",
   "execution_count": 37,
   "metadata": {},
   "outputs": [
    {
     "name": "stdout",
     "output_type": "stream",
     "text": [
      "x is less than 100 at 9\n"
     ]
    }
   ],
   "source": [
    "x = 9 \n",
    "\n",
    "if x < 100:\n",
    "    print(\"x is less than 100 at {}\".format(x))\n",
    "else: \n",
    "    print(\"x is greater than 100 at {}\".format(x))\n",
    "    "
   ]
  },
  {
   "cell_type": "code",
   "execution_count": 38,
   "metadata": {},
   "outputs": [
    {
     "name": "stdout",
     "output_type": "stream",
     "text": [
      "x is divisible by 2 at 5.0\n"
     ]
    }
   ],
   "source": [
    "x = 10\n",
    "\n",
    "if x % 2 == 0:\n",
    "    print(\"x is divisible by 2 at {}\".format(x/2))\n",
    "elif x % 3 == 0: \n",
    "    print(\"x is divisible by 3 at {}\".format(x/3))\n",
    "elif x % 5 == 0: \n",
    "    print(\"x is divisible by 5 at {}\".format(x/5))\n",
    "elif x % 7 == 0: \n",
    "    print(\"x is divisible by 7 at {}\".format(x/7))\n",
    "else:\n",
    "    print(\"{} is not divisible by 2,3,5,7 \".format(x))"
   ]
  },
  {
   "cell_type": "markdown",
   "metadata": {},
   "source": [
    "### for"
   ]
  },
  {
   "cell_type": "code",
   "execution_count": 39,
   "metadata": {},
   "outputs": [
    {
     "name": "stdout",
     "output_type": "stream",
     "text": [
      "0\n",
      "1\n",
      "2\n",
      "3\n",
      "4\n",
      "5\n",
      "6\n",
      "7\n",
      "8\n",
      "9\n"
     ]
    }
   ],
   "source": [
    "for x in range(10):\n",
    "    print(x)"
   ]
  },
  {
   "cell_type": "code",
   "execution_count": 40,
   "metadata": {},
   "outputs": [
    {
     "name": "stdout",
     "output_type": "stream",
     "text": [
      "One\n",
      "Two\n",
      "Three\n",
      "Four\n",
      "Five\n",
      "Six\n",
      "Seven\n"
     ]
    }
   ],
   "source": [
    "myList = [\"One\", \"Two\", \"Three\", \"Four\",\"Five\", \"Six\", \"Seven\"]\n",
    "\n",
    "for x in myList:\n",
    "    print(x)"
   ]
  },
  {
   "cell_type": "code",
   "execution_count": 41,
   "metadata": {},
   "outputs": [
    {
     "name": "stdout",
     "output_type": "stream",
     "text": [
      "One 3\n",
      "Two 3\n",
      "Three 5\n",
      "Four 4\n",
      "Five 4\n",
      "Six 3\n",
      "Omega 5\n"
     ]
    }
   ],
   "source": [
    "myList = [\"One\", \"Two\", \"Three\", \"Four\",\"Five\", \"Six\", \"Omega\", \"Seven\"]\n",
    "for x in myList:\n",
    "    print(x, len(x))\n",
    "    if x == \"Omega\":\n",
    "        break\n",
    "        "
   ]
  },
  {
   "cell_type": "code",
   "execution_count": 42,
   "metadata": {},
   "outputs": [
    {
     "name": "stdout",
     "output_type": "stream",
     "text": [
      "One 3\n",
      "Two 3\n",
      "Three 5\n",
      "Four 4\n",
      "Five 4\n",
      "Six 3\n",
      "Omega 5\n",
      "Seven 5\n"
     ]
    }
   ],
   "source": [
    "myList = [\"One\", \"Two\", \"Three\", \"Four\",\"Five\", \"Six\", \"Omega\", \"Seven\"]\n",
    "\n",
    "lenList = len(myList)-1\n",
    "i = 0\n",
    "while i <= lenList:\n",
    "    print(myList[i], len(myList[i]))\n",
    "    i = i + 1"
   ]
  },
  {
   "cell_type": "markdown",
   "metadata": {},
   "source": [
    "### Functions"
   ]
  },
  {
   "cell_type": "code",
   "execution_count": 43,
   "metadata": {},
   "outputs": [
    {
     "name": "stdout",
     "output_type": "stream",
     "text": [
      "Mary had a lttie lamb ,  Its fleece was white as snow\n"
     ]
    }
   ],
   "source": [
    "def printMary(x):\n",
    "        y = \"Its fleece was white as snow\"\n",
    "        print(x,\", \", y)\n",
    "    \n",
    "\n",
    "printMary(\"Mary had a lttie lamb\")"
   ]
  },
  {
   "cell_type": "code",
   "execution_count": 44,
   "metadata": {},
   "outputs": [
    {
     "name": "stdout",
     "output_type": "stream",
     "text": [
      "Mary had a lttie lamb ,  Its fleece was white as snow\n"
     ]
    }
   ],
   "source": [
    "def printMary(x,y):\n",
    "        print(x,\", \", y)\n",
    "\n",
    "        \n",
    "        \n",
    "y = \"Its fleece was white as snow\"\n",
    "\n",
    "printMary(\"Mary had a lttie lamb\",y)"
   ]
  },
  {
   "cell_type": "code",
   "execution_count": 45,
   "metadata": {},
   "outputs": [
    {
     "data": {
      "text/plain": [
       "28"
      ]
     },
     "execution_count": 45,
     "metadata": {},
     "output_type": "execute_result"
    }
   ],
   "source": [
    "def countString(x):\n",
    "        return len(x)\n",
    "\n",
    "y = \"Its fleece was white as snow\"    \n",
    "\n",
    "countString(y)"
   ]
  },
  {
   "cell_type": "code",
   "execution_count": 46,
   "metadata": {},
   "outputs": [
    {
     "data": {
      "text/plain": [
       "6"
      ]
     },
     "execution_count": 46,
     "metadata": {},
     "output_type": "execute_result"
    }
   ],
   "source": [
    "def countWords(x):\n",
    "        return len(x.split())\n",
    "\n",
    "y = \"Its fleece was white as snow\"    \n",
    "\n",
    "countWords(y)"
   ]
  },
  {
   "cell_type": "markdown",
   "metadata": {},
   "source": [
    "## Lamda, anonymous function"
   ]
  },
  {
   "cell_type": "code",
   "execution_count": 47,
   "metadata": {},
   "outputs": [
    {
     "data": {
      "text/plain": [
       "81"
      ]
     },
     "execution_count": 47,
     "metadata": {},
     "output_type": "execute_result"
    }
   ],
   "source": [
    "def square(x):\n",
    "    return x*x\n",
    "\n",
    "square(9)\n"
   ]
  },
  {
   "cell_type": "code",
   "execution_count": 48,
   "metadata": {},
   "outputs": [
    {
     "data": {
      "text/plain": [
       "81"
      ]
     },
     "execution_count": 48,
     "metadata": {},
     "output_type": "execute_result"
    }
   ],
   "source": [
    "square = (lambda x: x * x)\n",
    "\n",
    "square(9)"
   ]
  },
  {
   "cell_type": "code",
   "execution_count": 49,
   "metadata": {},
   "outputs": [
    {
     "name": "stdout",
     "output_type": "stream",
     "text": [
      "4\n",
      "16\n",
      "36\n",
      "64\n"
     ]
    }
   ],
   "source": [
    "myList = [2,4,6,8]\n",
    "\n",
    "square = map(lambda x: x * x, myList)\n",
    "\n",
    "for i in square:\n",
    "    print(i)"
   ]
  },
  {
   "cell_type": "code",
   "execution_count": 50,
   "metadata": {},
   "outputs": [],
   "source": [
    "import pandas as pd\n",
    "\n",
    "epaMpg = pd.read_csv (\"https://raw.githubusercontent.com/sqlshep/SQLShepBlog/master/data/epaMpg.csv\")\n",
    "\n",
    "\n"
   ]
  },
  {
   "cell_type": "markdown",
   "metadata": {},
   "source": [
    "Type, determine what type of object epaMPG is"
   ]
  },
  {
   "cell_type": "code",
   "execution_count": 51,
   "metadata": {},
   "outputs": [
    {
     "data": {
      "text/plain": [
       "pandas.core.frame.DataFrame"
      ]
     },
     "execution_count": 51,
     "metadata": {},
     "output_type": "execute_result"
    }
   ],
   "source": [
    "type(epaMpg)"
   ]
  },
  {
   "cell_type": "markdown",
   "metadata": {},
   "source": [
    "Head, get the first 5 and first rows of epaMPG"
   ]
  },
  {
   "cell_type": "code",
   "execution_count": 52,
   "metadata": {},
   "outputs": [
    {
     "data": {
      "text/html": [
       "<div>\n",
       "<style scoped>\n",
       "    .dataframe tbody tr th:only-of-type {\n",
       "        vertical-align: middle;\n",
       "    }\n",
       "\n",
       "    .dataframe tbody tr th {\n",
       "        vertical-align: top;\n",
       "    }\n",
       "\n",
       "    .dataframe thead th {\n",
       "        text-align: right;\n",
       "    }\n",
       "</style>\n",
       "<table border=\"1\" class=\"dataframe\">\n",
       "  <thead>\n",
       "    <tr style=\"text-align: right;\">\n",
       "      <th></th>\n",
       "      <th>RowNumber</th>\n",
       "      <th>Represented.Test.Veh.Make</th>\n",
       "      <th>Model</th>\n",
       "      <th>Vehicle.Type</th>\n",
       "      <th>HorsePower</th>\n",
       "      <th>Cylinders</th>\n",
       "      <th>Tested.Transmission.Type.Code</th>\n",
       "      <th>Tested.Transmission.Type</th>\n",
       "      <th>Gears</th>\n",
       "      <th>Drive.System.Code</th>\n",
       "      <th>Weight</th>\n",
       "      <th>AxleRatio</th>\n",
       "      <th>Test.Procedure.Cd</th>\n",
       "      <th>Test.Procedure.Description</th>\n",
       "      <th>Test.Fuel.Type.Cd</th>\n",
       "      <th>Test.Fuel.Type.Description</th>\n",
       "      <th>FuelEcon</th>\n",
       "    </tr>\n",
       "  </thead>\n",
       "  <tbody>\n",
       "    <tr>\n",
       "      <th>0</th>\n",
       "      <td>1</td>\n",
       "      <td>Aston Martin</td>\n",
       "      <td>Rapide S</td>\n",
       "      <td>Car</td>\n",
       "      <td>552</td>\n",
       "      <td>12</td>\n",
       "      <td>SA</td>\n",
       "      <td>Semi-Automatic</td>\n",
       "      <td>8</td>\n",
       "      <td>R</td>\n",
       "      <td>4750</td>\n",
       "      <td>2.73</td>\n",
       "      <td>21</td>\n",
       "      <td>Federal fuel 2-day exhaust (w/can load)</td>\n",
       "      <td>61</td>\n",
       "      <td>Tier 2 Cert Gasoline</td>\n",
       "      <td>17.3</td>\n",
       "    </tr>\n",
       "    <tr>\n",
       "      <th>1</th>\n",
       "      <td>2</td>\n",
       "      <td>Aston Martin</td>\n",
       "      <td>Vanquish</td>\n",
       "      <td>Car</td>\n",
       "      <td>568</td>\n",
       "      <td>12</td>\n",
       "      <td>SA</td>\n",
       "      <td>Semi-Automatic</td>\n",
       "      <td>8</td>\n",
       "      <td>R</td>\n",
       "      <td>4500</td>\n",
       "      <td>2.73</td>\n",
       "      <td>21</td>\n",
       "      <td>Federal fuel 2-day exhaust (w/can load)</td>\n",
       "      <td>61</td>\n",
       "      <td>Tier 2 Cert Gasoline</td>\n",
       "      <td>16.5</td>\n",
       "    </tr>\n",
       "    <tr>\n",
       "      <th>2</th>\n",
       "      <td>3</td>\n",
       "      <td>BENTLEY</td>\n",
       "      <td>Continental GT</td>\n",
       "      <td>Car</td>\n",
       "      <td>616</td>\n",
       "      <td>12</td>\n",
       "      <td>SA</td>\n",
       "      <td>Semi-Automatic</td>\n",
       "      <td>8</td>\n",
       "      <td>F</td>\n",
       "      <td>6000</td>\n",
       "      <td>2.85</td>\n",
       "      <td>90</td>\n",
       "      <td>US06</td>\n",
       "      <td>61</td>\n",
       "      <td>Tier 2 Cert Gasoline</td>\n",
       "      <td>17.4</td>\n",
       "    </tr>\n",
       "    <tr>\n",
       "      <th>3</th>\n",
       "      <td>4</td>\n",
       "      <td>BENTLEY</td>\n",
       "      <td>Continental GT</td>\n",
       "      <td>Car</td>\n",
       "      <td>616</td>\n",
       "      <td>12</td>\n",
       "      <td>SA</td>\n",
       "      <td>Semi-Automatic</td>\n",
       "      <td>8</td>\n",
       "      <td>F</td>\n",
       "      <td>6000</td>\n",
       "      <td>2.85</td>\n",
       "      <td>11</td>\n",
       "      <td>Cold CO</td>\n",
       "      <td>27</td>\n",
       "      <td>Cold CO Premium (Tier 2)</td>\n",
       "      <td>13.6</td>\n",
       "    </tr>\n",
       "    <tr>\n",
       "      <th>4</th>\n",
       "      <td>5</td>\n",
       "      <td>BMW</td>\n",
       "      <td>230i Convertible</td>\n",
       "      <td>Car</td>\n",
       "      <td>248</td>\n",
       "      <td>4</td>\n",
       "      <td>SA</td>\n",
       "      <td>Semi-Automatic</td>\n",
       "      <td>8</td>\n",
       "      <td>R</td>\n",
       "      <td>4000</td>\n",
       "      <td>2.81</td>\n",
       "      <td>3</td>\n",
       "      <td>HWFE</td>\n",
       "      <td>61</td>\n",
       "      <td>Tier 2 Cert Gasoline</td>\n",
       "      <td>45.8</td>\n",
       "    </tr>\n",
       "  </tbody>\n",
       "</table>\n",
       "</div>"
      ],
      "text/plain": [
       "   RowNumber Represented.Test.Veh.Make             Model Vehicle.Type  \\\n",
       "0          1              Aston Martin          Rapide S          Car   \n",
       "1          2              Aston Martin          Vanquish          Car   \n",
       "2          3                   BENTLEY    Continental GT          Car   \n",
       "3          4                   BENTLEY    Continental GT          Car   \n",
       "4          5                       BMW  230i Convertible          Car   \n",
       "\n",
       "   HorsePower  Cylinders Tested.Transmission.Type.Code  \\\n",
       "0         552         12                            SA   \n",
       "1         568         12                            SA   \n",
       "2         616         12                            SA   \n",
       "3         616         12                            SA   \n",
       "4         248          4                            SA   \n",
       "\n",
       "  Tested.Transmission.Type  Gears Drive.System.Code  Weight  AxleRatio  \\\n",
       "0           Semi-Automatic      8                 R    4750       2.73   \n",
       "1           Semi-Automatic      8                 R    4500       2.73   \n",
       "2           Semi-Automatic      8                 F    6000       2.85   \n",
       "3           Semi-Automatic      8                 F    6000       2.85   \n",
       "4           Semi-Automatic      8                 R    4000       2.81   \n",
       "\n",
       "   Test.Procedure.Cd               Test.Procedure.Description  \\\n",
       "0                 21  Federal fuel 2-day exhaust (w/can load)   \n",
       "1                 21  Federal fuel 2-day exhaust (w/can load)   \n",
       "2                 90                                     US06   \n",
       "3                 11                                  Cold CO   \n",
       "4                  3                                     HWFE   \n",
       "\n",
       "   Test.Fuel.Type.Cd Test.Fuel.Type.Description  FuelEcon  \n",
       "0                 61       Tier 2 Cert Gasoline      17.3  \n",
       "1                 61       Tier 2 Cert Gasoline      16.5  \n",
       "2                 61       Tier 2 Cert Gasoline      17.4  \n",
       "3                 27   Cold CO Premium (Tier 2)      13.6  \n",
       "4                 61       Tier 2 Cert Gasoline      45.8  "
      ]
     },
     "execution_count": 52,
     "metadata": {},
     "output_type": "execute_result"
    }
   ],
   "source": [
    "epaMpg.head(5)\n"
   ]
  },
  {
   "cell_type": "markdown",
   "metadata": {},
   "source": [
    "Return the columns in the dataframe"
   ]
  },
  {
   "cell_type": "code",
   "execution_count": 53,
   "metadata": {},
   "outputs": [
    {
     "data": {
      "text/plain": [
       "Index(['RowNumber', 'Represented.Test.Veh.Make', 'Model', 'Vehicle.Type',\n",
       "       'HorsePower', 'Cylinders', 'Tested.Transmission.Type.Code',\n",
       "       'Tested.Transmission.Type', 'Gears', 'Drive.System.Code', 'Weight',\n",
       "       'AxleRatio', 'Test.Procedure.Cd', 'Test.Procedure.Description',\n",
       "       'Test.Fuel.Type.Cd', 'Test.Fuel.Type.Description', 'FuelEcon'],\n",
       "      dtype='object')"
      ]
     },
     "execution_count": 53,
     "metadata": {},
     "output_type": "execute_result"
    }
   ],
   "source": [
    "epaMpg.columns"
   ]
  },
  {
   "cell_type": "markdown",
   "metadata": {},
   "source": [
    "Return the entire datafrma, do no tuse this on large data sets"
   ]
  },
  {
   "cell_type": "code",
   "execution_count": 54,
   "metadata": {},
   "outputs": [
    {
     "data": {
      "text/html": [
       "<div>\n",
       "<style scoped>\n",
       "    .dataframe tbody tr th:only-of-type {\n",
       "        vertical-align: middle;\n",
       "    }\n",
       "\n",
       "    .dataframe tbody tr th {\n",
       "        vertical-align: top;\n",
       "    }\n",
       "\n",
       "    .dataframe thead th {\n",
       "        text-align: right;\n",
       "    }\n",
       "</style>\n",
       "<table border=\"1\" class=\"dataframe\">\n",
       "  <thead>\n",
       "    <tr style=\"text-align: right;\">\n",
       "      <th></th>\n",
       "      <th>RowNumber</th>\n",
       "      <th>Represented.Test.Veh.Make</th>\n",
       "      <th>Model</th>\n",
       "      <th>Vehicle.Type</th>\n",
       "      <th>HorsePower</th>\n",
       "      <th>Cylinders</th>\n",
       "      <th>Tested.Transmission.Type.Code</th>\n",
       "      <th>Tested.Transmission.Type</th>\n",
       "      <th>Gears</th>\n",
       "      <th>Drive.System.Code</th>\n",
       "      <th>Weight</th>\n",
       "      <th>AxleRatio</th>\n",
       "      <th>Test.Procedure.Cd</th>\n",
       "      <th>Test.Procedure.Description</th>\n",
       "      <th>Test.Fuel.Type.Cd</th>\n",
       "      <th>Test.Fuel.Type.Description</th>\n",
       "      <th>FuelEcon</th>\n",
       "    </tr>\n",
       "  </thead>\n",
       "  <tbody>\n",
       "    <tr>\n",
       "      <th>0</th>\n",
       "      <td>1</td>\n",
       "      <td>Aston Martin</td>\n",
       "      <td>Rapide S</td>\n",
       "      <td>Car</td>\n",
       "      <td>552</td>\n",
       "      <td>12</td>\n",
       "      <td>SA</td>\n",
       "      <td>Semi-Automatic</td>\n",
       "      <td>8</td>\n",
       "      <td>R</td>\n",
       "      <td>4750</td>\n",
       "      <td>2.73</td>\n",
       "      <td>21</td>\n",
       "      <td>Federal fuel 2-day exhaust (w/can load)</td>\n",
       "      <td>61</td>\n",
       "      <td>Tier 2 Cert Gasoline</td>\n",
       "      <td>17.3</td>\n",
       "    </tr>\n",
       "    <tr>\n",
       "      <th>1</th>\n",
       "      <td>2</td>\n",
       "      <td>Aston Martin</td>\n",
       "      <td>Vanquish</td>\n",
       "      <td>Car</td>\n",
       "      <td>568</td>\n",
       "      <td>12</td>\n",
       "      <td>SA</td>\n",
       "      <td>Semi-Automatic</td>\n",
       "      <td>8</td>\n",
       "      <td>R</td>\n",
       "      <td>4500</td>\n",
       "      <td>2.73</td>\n",
       "      <td>21</td>\n",
       "      <td>Federal fuel 2-day exhaust (w/can load)</td>\n",
       "      <td>61</td>\n",
       "      <td>Tier 2 Cert Gasoline</td>\n",
       "      <td>16.5</td>\n",
       "    </tr>\n",
       "    <tr>\n",
       "      <th>2</th>\n",
       "      <td>3</td>\n",
       "      <td>BENTLEY</td>\n",
       "      <td>Continental GT</td>\n",
       "      <td>Car</td>\n",
       "      <td>616</td>\n",
       "      <td>12</td>\n",
       "      <td>SA</td>\n",
       "      <td>Semi-Automatic</td>\n",
       "      <td>8</td>\n",
       "      <td>F</td>\n",
       "      <td>6000</td>\n",
       "      <td>2.85</td>\n",
       "      <td>90</td>\n",
       "      <td>US06</td>\n",
       "      <td>61</td>\n",
       "      <td>Tier 2 Cert Gasoline</td>\n",
       "      <td>17.4</td>\n",
       "    </tr>\n",
       "    <tr>\n",
       "      <th>3</th>\n",
       "      <td>4</td>\n",
       "      <td>BENTLEY</td>\n",
       "      <td>Continental GT</td>\n",
       "      <td>Car</td>\n",
       "      <td>616</td>\n",
       "      <td>12</td>\n",
       "      <td>SA</td>\n",
       "      <td>Semi-Automatic</td>\n",
       "      <td>8</td>\n",
       "      <td>F</td>\n",
       "      <td>6000</td>\n",
       "      <td>2.85</td>\n",
       "      <td>11</td>\n",
       "      <td>Cold CO</td>\n",
       "      <td>27</td>\n",
       "      <td>Cold CO Premium (Tier 2)</td>\n",
       "      <td>13.6</td>\n",
       "    </tr>\n",
       "    <tr>\n",
       "      <th>4</th>\n",
       "      <td>5</td>\n",
       "      <td>BMW</td>\n",
       "      <td>230i Convertible</td>\n",
       "      <td>Car</td>\n",
       "      <td>248</td>\n",
       "      <td>4</td>\n",
       "      <td>SA</td>\n",
       "      <td>Semi-Automatic</td>\n",
       "      <td>8</td>\n",
       "      <td>R</td>\n",
       "      <td>4000</td>\n",
       "      <td>2.81</td>\n",
       "      <td>3</td>\n",
       "      <td>HWFE</td>\n",
       "      <td>61</td>\n",
       "      <td>Tier 2 Cert Gasoline</td>\n",
       "      <td>45.8</td>\n",
       "    </tr>\n",
       "    <tr>\n",
       "      <th>...</th>\n",
       "      <td>...</td>\n",
       "      <td>...</td>\n",
       "      <td>...</td>\n",
       "      <td>...</td>\n",
       "      <td>...</td>\n",
       "      <td>...</td>\n",
       "      <td>...</td>\n",
       "      <td>...</td>\n",
       "      <td>...</td>\n",
       "      <td>...</td>\n",
       "      <td>...</td>\n",
       "      <td>...</td>\n",
       "      <td>...</td>\n",
       "      <td>...</td>\n",
       "      <td>...</td>\n",
       "      <td>...</td>\n",
       "      <td>...</td>\n",
       "    </tr>\n",
       "    <tr>\n",
       "      <th>1029</th>\n",
       "      <td>1036</td>\n",
       "      <td>Volvo</td>\n",
       "      <td>XC60 T8 AWD</td>\n",
       "      <td>Both</td>\n",
       "      <td>313</td>\n",
       "      <td>4</td>\n",
       "      <td>SA</td>\n",
       "      <td>Semi-Automatic</td>\n",
       "      <td>8</td>\n",
       "      <td>A</td>\n",
       "      <td>5000</td>\n",
       "      <td>3.33</td>\n",
       "      <td>21</td>\n",
       "      <td>Federal fuel 2-day exhaust (w/can load)</td>\n",
       "      <td>61</td>\n",
       "      <td>Tier 2 Cert Gasoline</td>\n",
       "      <td>33.1</td>\n",
       "    </tr>\n",
       "    <tr>\n",
       "      <th>1030</th>\n",
       "      <td>1037</td>\n",
       "      <td>Volvo</td>\n",
       "      <td>XC90 T5 AWD</td>\n",
       "      <td>Both</td>\n",
       "      <td>250</td>\n",
       "      <td>4</td>\n",
       "      <td>SA</td>\n",
       "      <td>Semi-Automatic</td>\n",
       "      <td>8</td>\n",
       "      <td>F</td>\n",
       "      <td>5000</td>\n",
       "      <td>3.33</td>\n",
       "      <td>31</td>\n",
       "      <td>Federal fuel 3-day exhaust</td>\n",
       "      <td>61</td>\n",
       "      <td>Tier 2 Cert Gasoline</td>\n",
       "      <td>27.4</td>\n",
       "    </tr>\n",
       "    <tr>\n",
       "      <th>1031</th>\n",
       "      <td>1038</td>\n",
       "      <td>Volvo</td>\n",
       "      <td>XC90 T5 FWD</td>\n",
       "      <td>Both</td>\n",
       "      <td>250</td>\n",
       "      <td>4</td>\n",
       "      <td>SA</td>\n",
       "      <td>Semi-Automatic</td>\n",
       "      <td>8</td>\n",
       "      <td>F</td>\n",
       "      <td>4750</td>\n",
       "      <td>3.33</td>\n",
       "      <td>31</td>\n",
       "      <td>Federal fuel 3-day exhaust</td>\n",
       "      <td>61</td>\n",
       "      <td>Tier 2 Cert Gasoline</td>\n",
       "      <td>28.6</td>\n",
       "    </tr>\n",
       "    <tr>\n",
       "      <th>1032</th>\n",
       "      <td>1039</td>\n",
       "      <td>Volvo</td>\n",
       "      <td>XC90 T6 AWD</td>\n",
       "      <td>Both</td>\n",
       "      <td>316</td>\n",
       "      <td>4</td>\n",
       "      <td>SA</td>\n",
       "      <td>Semi-Automatic</td>\n",
       "      <td>8</td>\n",
       "      <td>F</td>\n",
       "      <td>5000</td>\n",
       "      <td>3.33</td>\n",
       "      <td>3</td>\n",
       "      <td>HWFE</td>\n",
       "      <td>61</td>\n",
       "      <td>Tier 2 Cert Gasoline</td>\n",
       "      <td>37.9</td>\n",
       "    </tr>\n",
       "    <tr>\n",
       "      <th>1033</th>\n",
       "      <td>1040</td>\n",
       "      <td>Volvo</td>\n",
       "      <td>XC90 T8 AWD</td>\n",
       "      <td>Both</td>\n",
       "      <td>313</td>\n",
       "      <td>4</td>\n",
       "      <td>SA</td>\n",
       "      <td>Semi-Automatic</td>\n",
       "      <td>8</td>\n",
       "      <td>A</td>\n",
       "      <td>5500</td>\n",
       "      <td>3.33</td>\n",
       "      <td>21</td>\n",
       "      <td>Federal fuel 2-day exhaust (w/can load)</td>\n",
       "      <td>61</td>\n",
       "      <td>Tier 2 Cert Gasoline</td>\n",
       "      <td>33.3</td>\n",
       "    </tr>\n",
       "  </tbody>\n",
       "</table>\n",
       "<p>1034 rows × 17 columns</p>\n",
       "</div>"
      ],
      "text/plain": [
       "      RowNumber Represented.Test.Veh.Make             Model Vehicle.Type  \\\n",
       "0             1              Aston Martin          Rapide S          Car   \n",
       "1             2              Aston Martin          Vanquish          Car   \n",
       "2             3                   BENTLEY    Continental GT          Car   \n",
       "3             4                   BENTLEY    Continental GT          Car   \n",
       "4             5                       BMW  230i Convertible          Car   \n",
       "...         ...                       ...               ...          ...   \n",
       "1029       1036                     Volvo       XC60 T8 AWD         Both   \n",
       "1030       1037                     Volvo       XC90 T5 AWD         Both   \n",
       "1031       1038                     Volvo       XC90 T5 FWD         Both   \n",
       "1032       1039                     Volvo       XC90 T6 AWD         Both   \n",
       "1033       1040                     Volvo       XC90 T8 AWD         Both   \n",
       "\n",
       "      HorsePower  Cylinders Tested.Transmission.Type.Code  \\\n",
       "0            552         12                            SA   \n",
       "1            568         12                            SA   \n",
       "2            616         12                            SA   \n",
       "3            616         12                            SA   \n",
       "4            248          4                            SA   \n",
       "...          ...        ...                           ...   \n",
       "1029         313          4                            SA   \n",
       "1030         250          4                            SA   \n",
       "1031         250          4                            SA   \n",
       "1032         316          4                            SA   \n",
       "1033         313          4                            SA   \n",
       "\n",
       "     Tested.Transmission.Type  Gears Drive.System.Code  Weight  AxleRatio  \\\n",
       "0              Semi-Automatic      8                 R    4750       2.73   \n",
       "1              Semi-Automatic      8                 R    4500       2.73   \n",
       "2              Semi-Automatic      8                 F    6000       2.85   \n",
       "3              Semi-Automatic      8                 F    6000       2.85   \n",
       "4              Semi-Automatic      8                 R    4000       2.81   \n",
       "...                       ...    ...               ...     ...        ...   \n",
       "1029           Semi-Automatic      8                 A    5000       3.33   \n",
       "1030           Semi-Automatic      8                 F    5000       3.33   \n",
       "1031           Semi-Automatic      8                 F    4750       3.33   \n",
       "1032           Semi-Automatic      8                 F    5000       3.33   \n",
       "1033           Semi-Automatic      8                 A    5500       3.33   \n",
       "\n",
       "      Test.Procedure.Cd               Test.Procedure.Description  \\\n",
       "0                    21  Federal fuel 2-day exhaust (w/can load)   \n",
       "1                    21  Federal fuel 2-day exhaust (w/can load)   \n",
       "2                    90                                     US06   \n",
       "3                    11                                  Cold CO   \n",
       "4                     3                                     HWFE   \n",
       "...                 ...                                      ...   \n",
       "1029                 21  Federal fuel 2-day exhaust (w/can load)   \n",
       "1030                 31               Federal fuel 3-day exhaust   \n",
       "1031                 31               Federal fuel 3-day exhaust   \n",
       "1032                  3                                     HWFE   \n",
       "1033                 21  Federal fuel 2-day exhaust (w/can load)   \n",
       "\n",
       "      Test.Fuel.Type.Cd Test.Fuel.Type.Description  FuelEcon  \n",
       "0                    61       Tier 2 Cert Gasoline      17.3  \n",
       "1                    61       Tier 2 Cert Gasoline      16.5  \n",
       "2                    61       Tier 2 Cert Gasoline      17.4  \n",
       "3                    27   Cold CO Premium (Tier 2)      13.6  \n",
       "4                    61       Tier 2 Cert Gasoline      45.8  \n",
       "...                 ...                        ...       ...  \n",
       "1029                 61       Tier 2 Cert Gasoline      33.1  \n",
       "1030                 61       Tier 2 Cert Gasoline      27.4  \n",
       "1031                 61       Tier 2 Cert Gasoline      28.6  \n",
       "1032                 61       Tier 2 Cert Gasoline      37.9  \n",
       "1033                 61       Tier 2 Cert Gasoline      33.3  \n",
       "\n",
       "[1034 rows x 17 columns]"
      ]
     },
     "execution_count": 54,
     "metadata": {},
     "output_type": "execute_result"
    }
   ],
   "source": [
    "epaMpg"
   ]
  },
  {
   "cell_type": "code",
   "execution_count": 55,
   "metadata": {},
   "outputs": [
    {
     "data": {
      "text/html": [
       "<div>\n",
       "<style scoped>\n",
       "    .dataframe tbody tr th:only-of-type {\n",
       "        vertical-align: middle;\n",
       "    }\n",
       "\n",
       "    .dataframe tbody tr th {\n",
       "        vertical-align: top;\n",
       "    }\n",
       "\n",
       "    .dataframe thead th {\n",
       "        text-align: right;\n",
       "    }\n",
       "</style>\n",
       "<table border=\"1\" class=\"dataframe\">\n",
       "  <thead>\n",
       "    <tr style=\"text-align: right;\">\n",
       "      <th></th>\n",
       "      <th>RowNumber</th>\n",
       "      <th>HorsePower</th>\n",
       "      <th>Cylinders</th>\n",
       "      <th>Gears</th>\n",
       "      <th>Weight</th>\n",
       "      <th>AxleRatio</th>\n",
       "      <th>Test.Procedure.Cd</th>\n",
       "      <th>Test.Fuel.Type.Cd</th>\n",
       "      <th>FuelEcon</th>\n",
       "    </tr>\n",
       "  </thead>\n",
       "  <tbody>\n",
       "    <tr>\n",
       "      <th>count</th>\n",
       "      <td>1034.000000</td>\n",
       "      <td>1034.000000</td>\n",
       "      <td>1034.000000</td>\n",
       "      <td>1034.000000</td>\n",
       "      <td>1034.000000</td>\n",
       "      <td>1034.000000</td>\n",
       "      <td>1034.000000</td>\n",
       "      <td>1034.000000</td>\n",
       "      <td>1034.000000</td>\n",
       "    </tr>\n",
       "    <tr>\n",
       "      <th>mean</th>\n",
       "      <td>521.361702</td>\n",
       "      <td>291.824952</td>\n",
       "      <td>5.431335</td>\n",
       "      <td>6.509671</td>\n",
       "      <td>4191.852031</td>\n",
       "      <td>3.411064</td>\n",
       "      <td>24.993230</td>\n",
       "      <td>56.366538</td>\n",
       "      <td>28.216538</td>\n",
       "    </tr>\n",
       "    <tr>\n",
       "      <th>std</th>\n",
       "      <td>300.241933</td>\n",
       "      <td>144.294932</td>\n",
       "      <td>1.905214</td>\n",
       "      <td>1.992824</td>\n",
       "      <td>787.821434</td>\n",
       "      <td>0.586484</td>\n",
       "      <td>22.078601</td>\n",
       "      <td>11.633650</td>\n",
       "      <td>9.496233</td>\n",
       "    </tr>\n",
       "    <tr>\n",
       "      <th>min</th>\n",
       "      <td>1.000000</td>\n",
       "      <td>72.000000</td>\n",
       "      <td>3.000000</td>\n",
       "      <td>1.000000</td>\n",
       "      <td>2375.000000</td>\n",
       "      <td>1.560000</td>\n",
       "      <td>2.000000</td>\n",
       "      <td>19.000000</td>\n",
       "      <td>9.200000</td>\n",
       "    </tr>\n",
       "    <tr>\n",
       "      <th>25%</th>\n",
       "      <td>262.250000</td>\n",
       "      <td>181.000000</td>\n",
       "      <td>4.000000</td>\n",
       "      <td>6.000000</td>\n",
       "      <td>3625.000000</td>\n",
       "      <td>3.070000</td>\n",
       "      <td>11.000000</td>\n",
       "      <td>61.000000</td>\n",
       "      <td>21.525000</td>\n",
       "    </tr>\n",
       "    <tr>\n",
       "      <th>50%</th>\n",
       "      <td>520.500000</td>\n",
       "      <td>271.500000</td>\n",
       "      <td>4.000000</td>\n",
       "      <td>7.000000</td>\n",
       "      <td>4000.000000</td>\n",
       "      <td>3.360000</td>\n",
       "      <td>21.000000</td>\n",
       "      <td>61.000000</td>\n",
       "      <td>26.800000</td>\n",
       "    </tr>\n",
       "    <tr>\n",
       "      <th>75%</th>\n",
       "      <td>781.750000</td>\n",
       "      <td>355.000000</td>\n",
       "      <td>6.000000</td>\n",
       "      <td>8.000000</td>\n",
       "      <td>4750.000000</td>\n",
       "      <td>3.700000</td>\n",
       "      <td>31.000000</td>\n",
       "      <td>61.000000</td>\n",
       "      <td>33.400000</td>\n",
       "    </tr>\n",
       "    <tr>\n",
       "      <th>max</th>\n",
       "      <td>1040.000000</td>\n",
       "      <td>1500.000000</td>\n",
       "      <td>16.000000</td>\n",
       "      <td>10.000000</td>\n",
       "      <td>6500.000000</td>\n",
       "      <td>5.440000</td>\n",
       "      <td>95.000000</td>\n",
       "      <td>61.000000</td>\n",
       "      <td>71.600000</td>\n",
       "    </tr>\n",
       "  </tbody>\n",
       "</table>\n",
       "</div>"
      ],
      "text/plain": [
       "         RowNumber   HorsePower    Cylinders        Gears       Weight  \\\n",
       "count  1034.000000  1034.000000  1034.000000  1034.000000  1034.000000   \n",
       "mean    521.361702   291.824952     5.431335     6.509671  4191.852031   \n",
       "std     300.241933   144.294932     1.905214     1.992824   787.821434   \n",
       "min       1.000000    72.000000     3.000000     1.000000  2375.000000   \n",
       "25%     262.250000   181.000000     4.000000     6.000000  3625.000000   \n",
       "50%     520.500000   271.500000     4.000000     7.000000  4000.000000   \n",
       "75%     781.750000   355.000000     6.000000     8.000000  4750.000000   \n",
       "max    1040.000000  1500.000000    16.000000    10.000000  6500.000000   \n",
       "\n",
       "         AxleRatio  Test.Procedure.Cd  Test.Fuel.Type.Cd     FuelEcon  \n",
       "count  1034.000000        1034.000000        1034.000000  1034.000000  \n",
       "mean      3.411064          24.993230          56.366538    28.216538  \n",
       "std       0.586484          22.078601          11.633650     9.496233  \n",
       "min       1.560000           2.000000          19.000000     9.200000  \n",
       "25%       3.070000          11.000000          61.000000    21.525000  \n",
       "50%       3.360000          21.000000          61.000000    26.800000  \n",
       "75%       3.700000          31.000000          61.000000    33.400000  \n",
       "max       5.440000          95.000000          61.000000    71.600000  "
      ]
     },
     "execution_count": 55,
     "metadata": {},
     "output_type": "execute_result"
    }
   ],
   "source": [
    "epaMpg.describe()"
   ]
  },
  {
   "cell_type": "code",
   "execution_count": null,
   "metadata": {},
   "outputs": [],
   "source": []
  },
  {
   "cell_type": "code",
   "execution_count": null,
   "metadata": {},
   "outputs": [],
   "source": []
  }
 ],
 "metadata": {
  "kernelspec": {
   "display_name": "Python 3 (ipykernel)",
   "language": "python",
   "name": "python3"
  },
  "language_info": {
   "codemirror_mode": {
    "name": "ipython",
    "version": 3
   },
   "file_extension": ".py",
   "mimetype": "text/x-python",
   "name": "python",
   "nbconvert_exporter": "python",
   "pygments_lexer": "ipython3",
   "version": "3.8.5"
  },
  "name": "Lab Python Pt 1",
  "notebookId": 708371272747119
 },
 "nbformat": 4,
 "nbformat_minor": 1
}
