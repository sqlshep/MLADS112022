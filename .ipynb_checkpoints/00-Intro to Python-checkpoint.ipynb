{
 "cells": [
  {
   "cell_type": "markdown",
   "metadata": {},
   "source": [
    "# Python "
   ]
  },
  {
   "cell_type": "code",
   "execution_count": null,
   "metadata": {},
   "outputs": [],
   "source": [
    "!pip install sklearn --upgrade\n",
    "\n",
    "!pip install pandas --upgrade\n",
    "\n",
    "!pip install numpy --upgrade\n"
   ]
  },
  {
   "cell_type": "markdown",
   "metadata": {},
   "source": [
    "### Getting Started with Print"
   ]
  },
  {
   "cell_type": "code",
   "execution_count": null,
   "metadata": {
    "scrolled": true
   },
   "outputs": [],
   "source": [
    "print(\"Hello Python\")"
   ]
  },
  {
   "cell_type": "code",
   "execution_count": null,
   "metadata": {},
   "outputs": [],
   "source": []
  },
  {
   "cell_type": "code",
   "execution_count": null,
   "metadata": {},
   "outputs": [],
   "source": [
    "print(9/3)"
   ]
  },
  {
   "cell_type": "code",
   "execution_count": null,
   "metadata": {},
   "outputs": [],
   "source": []
  },
  {
   "cell_type": "code",
   "execution_count": null,
   "metadata": {},
   "outputs": [],
   "source": [
    "\n",
    "x = '2019'\n",
    "y = 'Indy 500'\n",
    "\n",
    "print(\"Results of the {0} {1}\".format(x,y))"
   ]
  },
  {
   "cell_type": "code",
   "execution_count": null,
   "metadata": {},
   "outputs": [],
   "source": []
  },
  {
   "cell_type": "code",
   "execution_count": null,
   "metadata": {},
   "outputs": [],
   "source": [
    "# this works in base python...\n",
    "#print(f'Results of the {x} {y}')"
   ]
  },
  {
   "cell_type": "code",
   "execution_count": null,
   "metadata": {},
   "outputs": [],
   "source": [
    "print('Results of the {} {}'.format(x,y))"
   ]
  },
  {
   "cell_type": "code",
   "execution_count": null,
   "metadata": {},
   "outputs": [],
   "source": []
  },
  {
   "cell_type": "code",
   "execution_count": null,
   "metadata": {},
   "outputs": [],
   "source": [
    "yes_votes = 42572654\n",
    "no_votes = 43132495\n",
    "\n",
    "percentage = yes_votes / (yes_votes + no_votes)\n",
    "\n",
    "print('{:,} YES votes  {:2.2%}'.format(yes_votes, percentage))"
   ]
  },
  {
   "cell_type": "code",
   "execution_count": null,
   "metadata": {},
   "outputs": [],
   "source": []
  },
  {
   "cell_type": "markdown",
   "metadata": {},
   "source": [
    "### Types"
   ]
  },
  {
   "cell_type": "markdown",
   "metadata": {},
   "source": [
    "#### Boolean"
   ]
  },
  {
   "cell_type": "code",
   "execution_count": null,
   "metadata": {},
   "outputs": [],
   "source": [
    "myBool = True\n",
    "myOtherBool = False\n",
    "\n",
    "if (myBool == myOtherBool):\n",
    "    print(\"They Equal\")\n",
    "else: \n",
    "    print(\"They do not Equal\")\n",
    "        \n",
    "\n",
    "print(type(myBool))"
   ]
  },
  {
   "cell_type": "code",
   "execution_count": null,
   "metadata": {},
   "outputs": [],
   "source": []
  },
  {
   "cell_type": "code",
   "execution_count": null,
   "metadata": {},
   "outputs": [],
   "source": [
    "myInt = 99\n",
    "myOtherInt = 999\n",
    "\n",
    "if (myInt <= myOtherInt):\n",
    "    print(\"myInt is less than myOtherInt with {}\".format(myInt) )"
   ]
  },
  {
   "cell_type": "code",
   "execution_count": null,
   "metadata": {},
   "outputs": [],
   "source": []
  },
  {
   "cell_type": "markdown",
   "metadata": {},
   "source": [
    "#### Numeric Types"
   ]
  },
  {
   "cell_type": "code",
   "execution_count": null,
   "metadata": {},
   "outputs": [],
   "source": [
    "#Division\n",
    "99 / 8\n"
   ]
  },
  {
   "cell_type": "code",
   "execution_count": null,
   "metadata": {},
   "outputs": [],
   "source": []
  },
  {
   "cell_type": "code",
   "execution_count": null,
   "metadata": {},
   "outputs": [],
   "source": [
    "#Floor Division\n",
    "99 // 8"
   ]
  },
  {
   "cell_type": "code",
   "execution_count": null,
   "metadata": {},
   "outputs": [],
   "source": []
  },
  {
   "cell_type": "code",
   "execution_count": null,
   "metadata": {},
   "outputs": [],
   "source": [
    "# Remainder, Modulo\n",
    "99 % 8"
   ]
  },
  {
   "cell_type": "code",
   "execution_count": null,
   "metadata": {},
   "outputs": [],
   "source": []
  },
  {
   "cell_type": "code",
   "execution_count": null,
   "metadata": {},
   "outputs": [],
   "source": [
    "# Absolute value\n",
    "abs(-4500)"
   ]
  },
  {
   "cell_type": "code",
   "execution_count": null,
   "metadata": {},
   "outputs": [],
   "source": []
  },
  {
   "cell_type": "code",
   "execution_count": null,
   "metadata": {},
   "outputs": [],
   "source": [
    "#divmod\n",
    "divmod(99,8)"
   ]
  },
  {
   "cell_type": "code",
   "execution_count": null,
   "metadata": {},
   "outputs": [],
   "source": []
  },
  {
   "cell_type": "code",
   "execution_count": null,
   "metadata": {},
   "outputs": [],
   "source": [
    "# Powers\n",
    "print(pow(2,4))\n",
    "\n",
    "print(2**4)"
   ]
  },
  {
   "cell_type": "code",
   "execution_count": null,
   "metadata": {},
   "outputs": [],
   "source": []
  },
  {
   "cell_type": "markdown",
   "metadata": {},
   "source": [
    "## Sequence types: Lists, tuples, range"
   ]
  },
  {
   "cell_type": "code",
   "execution_count": null,
   "metadata": {},
   "outputs": [],
   "source": [
    "\n",
    "myList = [\"One\", \"Two\", \"Three\", \"Four\",\"Five\", \"Six\", \"Seven\"]\n",
    "\n",
    "\n",
    "print(type(myList))"
   ]
  },
  {
   "cell_type": "code",
   "execution_count": null,
   "metadata": {},
   "outputs": [],
   "source": []
  },
  {
   "cell_type": "code",
   "execution_count": null,
   "metadata": {},
   "outputs": [],
   "source": [
    "\n",
    "myList = [\"One\", \"Two\", \"Three\", \"Four\",\"Five\", \"Six\", \"Seven\"]\n",
    "\n",
    "\n",
    "# Element in index 1\n",
    "myList[1]\n",
    "\n",
    "# Element starting at index 1 inclusive\n",
    "#myList[1:]\n",
    "\n",
    "# Element starting at index 0 - 3 not inclusive of 4\n",
    "#myList[:4]\n",
    "\n",
    "# Element starting at index 2 - 3 not inclusive of 4\n",
    "#myList[2:4]"
   ]
  },
  {
   "cell_type": "code",
   "execution_count": null,
   "metadata": {},
   "outputs": [],
   "source": [
    "#slice a section from myList to make my tiny list \n",
    "myTinyList = myList[2:4]\n",
    "\n",
    "\n",
    "# Lets verify what i have in memory\n",
    "myTinyList"
   ]
  },
  {
   "cell_type": "code",
   "execution_count": null,
   "metadata": {},
   "outputs": [],
   "source": [
    "# Look at location 0,0\n",
    "myTinyList[0][0]"
   ]
  },
  {
   "cell_type": "markdown",
   "metadata": {},
   "source": [
    "### Sort and Reverse"
   ]
  },
  {
   "cell_type": "code",
   "execution_count": null,
   "metadata": {},
   "outputs": [],
   "source": [
    "\n",
    "myList = [\"One\", \"Two\", \"Three\", \"Four\",\"Five\", \"Six\", \"Seven\"]\n",
    "\n",
    "#Sort \n",
    "myList.sort()\n",
    "print(myList)\n",
    "\n",
    "#Reverses\n",
    "myList.reverse()\n",
    "print(myList)"
   ]
  },
  {
   "cell_type": "markdown",
   "metadata": {},
   "source": [
    "### Updating a list"
   ]
  },
  {
   "cell_type": "code",
   "execution_count": null,
   "metadata": {},
   "outputs": [],
   "source": [
    "myList[1] = \"Zero\"\n",
    "\n",
    "myList\n",
    "\n"
   ]
  },
  {
   "cell_type": "markdown",
   "metadata": {},
   "source": [
    "### Add an element to a List"
   ]
  },
  {
   "cell_type": "code",
   "execution_count": null,
   "metadata": {},
   "outputs": [],
   "source": [
    "myList.append(\"Eight\")\n",
    "\n",
    "myList"
   ]
  },
  {
   "cell_type": "code",
   "execution_count": null,
   "metadata": {},
   "outputs": [],
   "source": [
    "myIterList = iter(myList)\n",
    "\n",
    "type(myIterList)"
   ]
  },
  {
   "cell_type": "code",
   "execution_count": null,
   "metadata": {},
   "outputs": [],
   "source": [
    "print(next(myIterList))\n",
    "print(next(myIterList))\n",
    "print(next(myIterList))\n",
    "print(next(myIterList))\n",
    "print(next(myIterList))\n",
    "print(next(myIterList))\n",
    "print(next(myIterList))\n",
    "print(next(myIterList,\"-999\"))\n",
    "print(next(myIterList,\"-999\"))\n"
   ]
  },
  {
   "cell_type": "markdown",
   "metadata": {},
   "source": [
    "2d List"
   ]
  },
  {
   "cell_type": "code",
   "execution_count": null,
   "metadata": {},
   "outputs": [],
   "source": [
    "\n",
    "myList = [[\"One\",1], [\"Two\",2],[\"Three\",3], [\"Four\",4,], [\"Five\",5]]\n",
    "\n",
    "myList\n",
    "\n",
    "myList[1][1]"
   ]
  },
  {
   "cell_type": "markdown",
   "metadata": {},
   "source": [
    "### Removing elements from a list"
   ]
  },
  {
   "cell_type": "code",
   "execution_count": null,
   "metadata": {},
   "outputs": [],
   "source": [
    "\n",
    "myOtherList = [\"One\", 2, \"Three\", 4,\"Five\", 6, \"Seven\"]\n",
    "\n",
    "print(myOtherList)\n",
    "\n",
    "#pop 5th index element\n",
    "myOtherList.pop(5)\n",
    "\n",
    "print(myOtherList)\n",
    "\n",
    "#remove and \"Five\"\n",
    "myOtherList.remove(\"Five\")\n",
    "\n",
    "\n",
    "print(myOtherList)"
   ]
  },
  {
   "cell_type": "markdown",
   "metadata": {},
   "source": [
    "### Tuple"
   ]
  },
  {
   "cell_type": "code",
   "execution_count": null,
   "metadata": {},
   "outputs": [],
   "source": [
    "myTuple = (\"One\", \"Two\", \"Three\", \"Four\",\"Five\", \"Six\", \"Seven\")\n",
    "\n",
    "print(type(myTuple))"
   ]
  },
  {
   "cell_type": "code",
   "execution_count": null,
   "metadata": {},
   "outputs": [],
   "source": [
    "print(myTuple[1])\n",
    "\n",
    "#myTuple[1] = \"Two\""
   ]
  },
  {
   "cell_type": "code",
   "execution_count": null,
   "metadata": {},
   "outputs": [],
   "source": [
    "myOtherTuple = (\"One\", 2, \"Three\", 4,\"Five\", 6, \"Seven\")\n",
    "\n",
    "myOtherTuple"
   ]
  },
  {
   "cell_type": "markdown",
   "metadata": {},
   "source": [
    "### 2D Tuple"
   ]
  },
  {
   "cell_type": "code",
   "execution_count": null,
   "metadata": {},
   "outputs": [],
   "source": [
    "\n",
    "my2dTuple = ([\"One\",1], [\"Two\",2],[\"Three\",3], [\"Four\",4,], [\"Five\",5])\n",
    "\n",
    "my2dTuple[3][0]"
   ]
  },
  {
   "cell_type": "code",
   "execution_count": null,
   "metadata": {},
   "outputs": [],
   "source": [
    "myTuple = (\"One\", \"Two\", \"Three\", \"Three\", \"Three\", \"Three\",\"Four\",\"Five\", \"Six\", \"Seven\")\n",
    "\n",
    "\n",
    "# Find \"three, how may times does it occur\"\n",
    "print(myTuple.count(\"Three\"))\n",
    "\n",
    "# Where is three\n",
    "print(myTuple.index(\"Three\"))"
   ]
  },
  {
   "cell_type": "markdown",
   "metadata": {},
   "source": [
    "## Range"
   ]
  },
  {
   "cell_type": "code",
   "execution_count": null,
   "metadata": {},
   "outputs": [],
   "source": [
    "range(10)\n"
   ]
  },
  {
   "cell_type": "code",
   "execution_count": null,
   "metadata": {},
   "outputs": [],
   "source": [
    "list(range(0,50,5))"
   ]
  },
  {
   "cell_type": "code",
   "execution_count": null,
   "metadata": {},
   "outputs": [],
   "source": [
    "list(range(10))"
   ]
  },
  {
   "cell_type": "code",
   "execution_count": null,
   "metadata": {},
   "outputs": [],
   "source": [
    "x = list(range(10))\n",
    "x\n",
    "\n",
    "print(type(x))"
   ]
  },
  {
   "cell_type": "code",
   "execution_count": null,
   "metadata": {},
   "outputs": [],
   "source": [
    "for i in range(0,10):\n",
    "    print (i)"
   ]
  },
  {
   "cell_type": "markdown",
   "metadata": {},
   "source": [
    "### Control Flow"
   ]
  },
  {
   "cell_type": "markdown",
   "metadata": {},
   "source": [
    "### if"
   ]
  },
  {
   "cell_type": "code",
   "execution_count": null,
   "metadata": {},
   "outputs": [],
   "source": [
    "x = 9 \n",
    "\n",
    "if x < 100:\n",
    "    print(\"x is less than 100 at {}\".format(x))\n",
    "else: \n",
    "    print(\"x is greater than 100 at {}\".format(x))\n",
    "    "
   ]
  },
  {
   "cell_type": "code",
   "execution_count": null,
   "metadata": {},
   "outputs": [],
   "source": [
    "x = 10\n",
    "\n",
    "if x % 2 == 0:\n",
    "    print(\"x is divisible by 2 at {}\".format(x/2))\n",
    "elif x % 3 == 0: \n",
    "    print(\"x is divisible by 3 at {}\".format(x/3))\n",
    "elif x % 5 == 0: \n",
    "    print(\"x is divisible by 5 at {}\".format(x/5))\n",
    "elif x % 7 == 0: \n",
    "    print(\"x is divisible by 7 at {}\".format(x/7))\n",
    "else:\n",
    "    print(\"{} is not divisible by 2,3,5,7 \".format(x))"
   ]
  },
  {
   "cell_type": "markdown",
   "metadata": {},
   "source": [
    "### for"
   ]
  },
  {
   "cell_type": "code",
   "execution_count": null,
   "metadata": {},
   "outputs": [],
   "source": [
    "for x in range(10):\n",
    "    print(x)"
   ]
  },
  {
   "cell_type": "code",
   "execution_count": null,
   "metadata": {},
   "outputs": [],
   "source": [
    "myList = [\"One\", \"Two\", \"Three\", \"Four\",\"Five\", \"Six\", \"Seven\"]\n",
    "\n",
    "for x in myList:\n",
    "    print(x)"
   ]
  },
  {
   "cell_type": "code",
   "execution_count": null,
   "metadata": {},
   "outputs": [],
   "source": [
    "myList = [\"One\", \"Two\", \"Three\", \"Four\",\"Five\", \"Six\", \"Omega\", \"Seven\"]\n",
    "for x in myList:\n",
    "    print(x, len(x))\n",
    "    if x == \"Omega\":\n",
    "        break\n",
    "        "
   ]
  },
  {
   "cell_type": "code",
   "execution_count": null,
   "metadata": {},
   "outputs": [],
   "source": [
    "myList = [\"One\", \"Two\", \"Three\", \"Four\",\"Five\", \"Six\", \"Omega\", \"Seven\"]\n",
    "\n",
    "lenList = len(myList)-1\n",
    "i = 0\n",
    "while i <= lenList:\n",
    "    print(myList[i], len(myList[i]))\n",
    "    i = i + 1"
   ]
  },
  {
   "cell_type": "markdown",
   "metadata": {},
   "source": [
    "### Functions"
   ]
  },
  {
   "cell_type": "code",
   "execution_count": null,
   "metadata": {},
   "outputs": [],
   "source": [
    "def printMary(x):\n",
    "        y = \"Its fleece was white as snow\"\n",
    "        print(x,\", \", y)\n",
    "    \n",
    "\n",
    "printMary(\"Mary had a lttie lamb\")"
   ]
  },
  {
   "cell_type": "code",
   "execution_count": null,
   "metadata": {},
   "outputs": [],
   "source": [
    "def printMary(x,y):\n",
    "        print(x,\", \", y)\n",
    "\n",
    "        \n",
    "        \n",
    "y = \"Its fleece was white as snow\"\n",
    "\n",
    "printMary(\"Mary had a lttie lamb\",y)"
   ]
  },
  {
   "cell_type": "code",
   "execution_count": null,
   "metadata": {},
   "outputs": [],
   "source": [
    "def countString(x):\n",
    "        return len(x)\n",
    "\n",
    "y = \"Its fleece was white as snow\"    \n",
    "\n",
    "countString(y)"
   ]
  },
  {
   "cell_type": "code",
   "execution_count": null,
   "metadata": {},
   "outputs": [],
   "source": [
    "def countWords(x):\n",
    "        return len(x.split())\n",
    "\n",
    "y = \"Its fleece was white as snow\"    \n",
    "\n",
    "countWords(y)"
   ]
  },
  {
   "cell_type": "markdown",
   "metadata": {},
   "source": [
    "## Lamda, anonymous function"
   ]
  },
  {
   "cell_type": "code",
   "execution_count": null,
   "metadata": {},
   "outputs": [],
   "source": [
    "def square(x):\n",
    "    return x*x\n",
    "\n",
    "square(9)\n"
   ]
  },
  {
   "cell_type": "code",
   "execution_count": null,
   "metadata": {},
   "outputs": [],
   "source": [
    "square = (lambda x: x * x)\n",
    "\n",
    "square(9)"
   ]
  },
  {
   "cell_type": "code",
   "execution_count": null,
   "metadata": {},
   "outputs": [],
   "source": [
    "myList = [2,4,6,8]\n",
    "\n",
    "square = map(lambda x: x * x, myList)\n",
    "\n",
    "for i in square:\n",
    "    print(i)"
   ]
  },
  {
   "cell_type": "code",
   "execution_count": null,
   "metadata": {},
   "outputs": [],
   "source": [
    "import pandas as pd\n",
    "\n",
    "epaMpg = pd.read_csv (\"https://raw.githubusercontent.com/sqlshep/SQLShepBlog/master/data/epaMpg.csv\")\n",
    "\n",
    "\n"
   ]
  },
  {
   "cell_type": "markdown",
   "metadata": {},
   "source": [
    "Type, determine what type of object epaMPG is"
   ]
  },
  {
   "cell_type": "code",
   "execution_count": null,
   "metadata": {},
   "outputs": [],
   "source": [
    "type(epaMpg)"
   ]
  },
  {
   "cell_type": "markdown",
   "metadata": {},
   "source": [
    "Head, get the first 5 and first rows of epaMPG"
   ]
  },
  {
   "cell_type": "code",
   "execution_count": null,
   "metadata": {},
   "outputs": [],
   "source": [
    "epaMpg.head(5)\n"
   ]
  },
  {
   "cell_type": "markdown",
   "metadata": {},
   "source": [
    "Return the columns in the dataframe"
   ]
  },
  {
   "cell_type": "code",
   "execution_count": null,
   "metadata": {},
   "outputs": [],
   "source": [
    "epaMpg.columns"
   ]
  },
  {
   "cell_type": "markdown",
   "metadata": {},
   "source": [
    "Return the entire datafrma, do no tuse this on large data sets"
   ]
  },
  {
   "cell_type": "code",
   "execution_count": null,
   "metadata": {},
   "outputs": [],
   "source": [
    "epaMpg"
   ]
  },
  {
   "cell_type": "code",
   "execution_count": null,
   "metadata": {},
   "outputs": [],
   "source": [
    "epaMpg.describe()"
   ]
  },
  {
   "cell_type": "code",
   "execution_count": null,
   "metadata": {},
   "outputs": [],
   "source": []
  },
  {
   "cell_type": "code",
   "execution_count": null,
   "metadata": {},
   "outputs": [],
   "source": []
  }
 ],
 "metadata": {
  "kernelspec": {
   "display_name": "Python 3 (ipykernel)",
   "language": "python",
   "name": "python3"
  },
  "language_info": {
   "codemirror_mode": {
    "name": "ipython",
    "version": 3
   },
   "file_extension": ".py",
   "mimetype": "text/x-python",
   "name": "python",
   "nbconvert_exporter": "python",
   "pygments_lexer": "ipython3",
   "version": "3.8.5"
  },
  "name": "Lab Python Pt 1",
  "notebookId": 708371272747119
 },
 "nbformat": 4,
 "nbformat_minor": 1
}
