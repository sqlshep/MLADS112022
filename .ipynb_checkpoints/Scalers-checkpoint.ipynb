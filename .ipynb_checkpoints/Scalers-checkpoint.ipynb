{
 "cells": [
  {
   "cell_type": "code",
   "execution_count": 15,
   "id": "b500fcf5",
   "metadata": {},
   "outputs": [
    {
     "data": {
      "text/plain": [
       "array([[ 0.33333333, -0.25      ,  1.        ],\n",
       "       [ 1.        ,  1.        ,  0.25      ],\n",
       "       [ 0.        ,  0.025     , -0.005     ]])"
      ]
     },
     "execution_count": 15,
     "metadata": {},
     "output_type": "execute_result"
    }
   ],
   "source": [
    "from sklearn.preprocessing import MaxAbsScaler\n",
    "\n",
    "X = [[ 10., -10.,  200.],\n",
    "     [ 30.,  40.,  50.],\n",
    "     [ 0.,  1., -1.]]\n",
    "\n",
    "transformer = MaxAbsScaler().fit(X)\n",
    "transformer\n",
    "\n",
    "transformer.transform(X)"
   ]
  },
  {
   "cell_type": "code",
   "execution_count": 16,
   "id": "670c6fb6",
   "metadata": {},
   "outputs": [
    {
     "name": "stdout",
     "output_type": "stream",
     "text": [
      "StandardScaler(copy=True, with_mean=True, with_std=True)\n",
      "[13.33333333 10.33333333 83.        ]\n",
      "[[-0.26726124 -0.94781764  1.37144955]\n",
      " [ 1.33630621  1.38288148 -0.3868191 ]\n",
      " [-1.06904497 -0.43506384 -0.98463045]]\n"
     ]
    }
   ],
   "source": [
    "from sklearn.preprocessing import StandardScaler\n",
    "data = [[ 10., -10.,  200.],\n",
    "     [ 30.,  40.,  50.],\n",
    "     [ 0.,  1., -1.]]\n",
    "scaler = StandardScaler()\n",
    "print(scaler.fit(data))\n",
    "\n",
    "print(scaler.mean_)\n",
    "\n",
    "print(scaler.transform(data))\n",
    "\n"
   ]
  },
  {
   "cell_type": "code",
   "execution_count": 20,
   "id": "49e56d65",
   "metadata": {},
   "outputs": [
    {
     "data": {
      "text/plain": [
       "array([[ 0.04987547, -0.04987547,  0.99750934],\n",
       "       [ 0.42426407,  0.56568542,  0.70710678],\n",
       "       [ 0.        ,  0.70710678, -0.70710678]])"
      ]
     },
     "execution_count": 20,
     "metadata": {},
     "output_type": "execute_result"
    }
   ],
   "source": [
    "from sklearn.preprocessing import normalize\n",
    "\n",
    "X = [[ 10., -10.,  200.],\n",
    "     [ 30.,  40.,  50.],\n",
    "     [ 0.,  1., -1.]]\n",
    "X_normalized = normalize(X, norm='l2')\n",
    "\n",
    "X_normalized\n"
   ]
  },
  {
   "cell_type": "code",
   "execution_count": null,
   "id": "b853e9a7",
   "metadata": {},
   "outputs": [],
   "source": []
  }
 ],
 "metadata": {
  "kernelspec": {
   "display_name": "Python 3",
   "language": "python",
   "name": "python3"
  },
  "language_info": {
   "codemirror_mode": {
    "name": "ipython",
    "version": 3
   },
   "file_extension": ".py",
   "mimetype": "text/x-python",
   "name": "python",
   "nbconvert_exporter": "python",
   "pygments_lexer": "ipython3",
   "version": "3.8.8"
  }
 },
 "nbformat": 4,
 "nbformat_minor": 5
}
