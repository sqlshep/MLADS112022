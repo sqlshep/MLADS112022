{
 "cells": [
  {
   "cell_type": "markdown",
   "metadata": {},
   "source": [
    "# Automated Machine Learning\n",
    "_**Classification of credit card fraudulent transactions with local run **_\n",
    "\n",
    "## Contents\n",
    "1. [Introduction](#Introduction)\n",
    "1. [Setup](#Setup)\n",
    "1. [Train](#Train)\n",
    "1. [Results](#Results)\n",
    "1. [Test](#Tests)\n",
    "1. [Explanation](#Explanation)\n",
    "1. [Acknowledgements](#Acknowledgements)"
   ]
  },
  {
   "cell_type": "markdown",
   "metadata": {},
   "source": [
    "## Introduction\n",
    "\n",
    "In this example we use the associated credit card dataset to showcase how you can use AutoML for a simple classification problem. The goal is to predict if a credit card transaction is considered a fraudulent charge.\n",
    "\n",
    "This notebook is using the local machine compute to train the model.\n",
    "\n",
    "If you are using an Azure Machine Learning Compute Instance, you are all set. Otherwise, go through the [configuration](../../../configuration.ipynb) notebook first if you haven't already to establish your connection to the AzureML Workspace. \n",
    "\n",
    "In this notebook you will learn how to:\n",
    "1. Create an experiment using an existing workspace.\n",
    "2. Configure AutoML using `AutoMLConfig`.\n",
    "3. Train the model.\n",
    "4. Explore the results.\n",
    "5. Test the fitted model.\n",
    "6. Explore any model's explanation and explore feature importance in azure portal.\n",
    "7. Create an AKS cluster, deploy the webservice of AutoML scoring model and the explainer model to the AKS and consume the web service."
   ]
  },
  {
   "cell_type": "markdown",
   "metadata": {},
   "source": [
    "## Setup\n",
    "\n",
    "As part of the setup you have already created an Azure ML `Workspace` object. For Automated ML you will need to create an `Experiment` object, which is a named object in a `Workspace` used to run experiments."
   ]
  },
  {
   "cell_type": "code",
   "execution_count": 1,
   "metadata": {
    "gather": {
     "logged": 1646937833272
    }
   },
   "outputs": [],
   "source": [
    "import logging\n",
    "\n",
    "from matplotlib import pyplot as plt\n",
    "import pandas as pd\n",
    "\n",
    "import azureml.core\n",
    "from azureml.core.experiment import Experiment\n",
    "from azureml.core.workspace import Workspace\n",
    "from azureml.core.dataset import Dataset\n",
    "from azureml.train.automl import AutoMLConfig\n",
    "from azureml.interpret import ExplanationClient"
   ]
  },
  {
   "cell_type": "markdown",
   "metadata": {},
   "source": [
    "This sample notebook may use features that are not available in previous versions of the Azure ML SDK."
   ]
  },
  {
   "cell_type": "code",
   "execution_count": 2,
   "metadata": {
    "gather": {
     "logged": 1646937842000
    }
   },
   "outputs": [
    {
     "data": {
      "text/html": [
       "<div>\n",
       "<style scoped>\n",
       "    .dataframe tbody tr th:only-of-type {\n",
       "        vertical-align: middle;\n",
       "    }\n",
       "\n",
       "    .dataframe tbody tr th {\n",
       "        vertical-align: top;\n",
       "    }\n",
       "\n",
       "    .dataframe thead th {\n",
       "        text-align: right;\n",
       "    }\n",
       "</style>\n",
       "<table border=\"1\" class=\"dataframe\">\n",
       "  <thead>\n",
       "    <tr style=\"text-align: right;\">\n",
       "      <th></th>\n",
       "      <th></th>\n",
       "    </tr>\n",
       "  </thead>\n",
       "  <tbody>\n",
       "    <tr>\n",
       "      <th>Subscription ID</th>\n",
       "      <td>d83b98a9-eaa6-475f-9ae6-1ef35394a1e5</td>\n",
       "    </tr>\n",
       "    <tr>\n",
       "      <th>Workspace</th>\n",
       "      <td>shepml</td>\n",
       "    </tr>\n",
       "    <tr>\n",
       "      <th>Resource Group</th>\n",
       "      <td>rg-ml-workspace</td>\n",
       "    </tr>\n",
       "    <tr>\n",
       "      <th>Location</th>\n",
       "      <td>eastus2</td>\n",
       "    </tr>\n",
       "    <tr>\n",
       "      <th>Experiment Name</th>\n",
       "      <td>automl-classification-ccard-local</td>\n",
       "    </tr>\n",
       "  </tbody>\n",
       "</table>\n",
       "</div>"
      ],
      "text/plain": [
       "                                                     \n",
       "Subscription ID  d83b98a9-eaa6-475f-9ae6-1ef35394a1e5\n",
       "Workspace        shepml                              \n",
       "Resource Group   rg-ml-workspace                     \n",
       "Location         eastus2                             \n",
       "Experiment Name  automl-classification-ccard-local   "
      ]
     },
     "execution_count": 2,
     "metadata": {},
     "output_type": "execute_result"
    }
   ],
   "source": [
    "ws = Workspace.from_config()\n",
    "\n",
    "# choose a name for experiment\n",
    "experiment_name = \"automl-classification-ccard-local\"\n",
    "\n",
    "experiment = Experiment(ws, experiment_name)\n",
    "\n",
    "output = {}\n",
    "output[\"Subscription ID\"] = ws.subscription_id\n",
    "output[\"Workspace\"] = ws.name\n",
    "output[\"Resource Group\"] = ws.resource_group\n",
    "output[\"Location\"] = ws.location\n",
    "output[\"Experiment Name\"] = experiment.name\n",
    "pd.set_option(\"display.max_colwidth\", -1)\n",
    "outputDf = pd.DataFrame(data=output, index=[\"\"])\n",
    "outputDf.T"
   ]
  },
  {
   "cell_type": "markdown",
   "metadata": {},
   "source": [
    "### Load Data\n",
    "\n",
    "Load the credit card dataset from a csv file containing both training features and labels. The features are inputs to the model, while the training labels represent the expected output of the model. Next, we'll split the data using random_split and extract the training data for the model."
   ]
  },
  {
   "cell_type": "code",
   "execution_count": 3,
   "metadata": {
    "gather": {
     "logged": 1646937855040
    }
   },
   "outputs": [],
   "source": [
    "data = \"https://automlsamplenotebookdata.blob.core.windows.net/automl-sample-notebook-data/creditcard.csv\"\n",
    "dataset = Dataset.Tabular.from_delimited_files(data)\n",
    "training_data, validation_data = dataset.random_split(percentage=0.8, seed=223)\n",
    "label_column_name = \"Class\""
   ]
  },
  {
   "cell_type": "markdown",
   "metadata": {},
   "source": [
    "## Train\n",
    "\n",
    "Instantiate a AutoMLConfig object. This defines the settings and data used to run the experiment.\n",
    "\n",
    "|Property|Description|\n",
    "|-|-|\n",
    "|**task**|classification or regression|\n",
    "|**primary_metric**|This is the metric that you want to optimize. Classification supports the following primary metrics: <br><i>accuracy</i><br><i>AUC_weighted</i><br><i>average_precision_score_weighted</i><br><i>norm_macro_recall</i><br><i>precision_score_weighted</i>|\n",
    "|**enable_early_stopping**|Stop the run if the metric score is not showing improvement.|\n",
    "|**n_cross_validations**|Number of cross validation splits.|\n",
    "|**training_data**|Input dataset, containing both features and label column.|\n",
    "|**label_column_name**|The name of the label column.|\n",
    "\n",
    "**_You can find more information about primary metrics_** [here](https://docs.microsoft.com/en-us/azure/machine-learning/service/how-to-configure-auto-train#primary-metric)"
   ]
  },
  {
   "cell_type": "code",
   "execution_count": 4,
   "metadata": {
    "gather": {
     "logged": 1646937856830
    },
    "name": "enable-ensemble"
   },
   "outputs": [
    {
     "name": "stdout",
     "output_type": "stream",
     "text": [
      "No run_configuration provided, running on local with default configuration\n"
     ]
    },
    {
     "name": "stderr",
     "output_type": "stream",
     "text": [
      "2022-11-07:15:16:22,279 INFO     [modeling_bert.py:226] Better speed can be achieved with apex installed from https://www.github.com/nvidia/apex .\n",
      "2022-11-07:15:16:22,295 INFO     [modeling_xlnet.py:339] Better speed can be achieved with apex installed from https://www.github.com/nvidia/apex .\n",
      "2022-11-07:15:16:28,953 INFO     [utils.py:159] NumExpr defaulting to 4 threads.\n"
     ]
    },
    {
     "name": "stdout",
     "output_type": "stream",
     "text": [
      "Running in the active local environment.\n"
     ]
    },
    {
     "data": {
      "text/html": [
       "<table style=\"width:100%\"><tr><th>Experiment</th><th>Id</th><th>Type</th><th>Status</th><th>Details Page</th><th>Docs Page</th></tr><tr><td>automl-classification-ccard-local</td><td>AutoML_fe8fdb6e-e088-486b-8f24-f4211bfb3334</td><td>automl</td><td>Preparing</td><td><a href=\"https://ml.azure.com/runs/AutoML_fe8fdb6e-e088-486b-8f24-f4211bfb3334?wsid=/subscriptions/d83b98a9-eaa6-475f-9ae6-1ef35394a1e5/resourcegroups/rg-ml-workspace/workspaces/shepml&amp;tid=72f988bf-86f1-41af-91ab-2d7cd011db47\" target=\"_blank\" rel=\"noopener\">Link to Azure Machine Learning studio</a></td><td><a href=\"https://docs.microsoft.com/en-us/python/api/overview/azure/ml/intro?view=azure-ml-py\" target=\"_blank\" rel=\"noopener\">Link to Documentation</a></td></tr></table>"
      ],
      "text/plain": [
       "<IPython.core.display.HTML object>"
      ]
     },
     "metadata": {},
     "output_type": "display_data"
    },
    {
     "name": "stdout",
     "output_type": "stream",
     "text": [
      "Current status: DatasetEvaluation. Gathering dataset statistics.\n",
      "Current status: FeaturesGeneration. Generating features for the dataset.\n",
      "Current status: DatasetFeaturization. Beginning to fit featurizers and featurize the dataset.\n",
      "Current status: DatasetFeaturizationCompleted. Completed fit featurizers and featurizing the dataset.\n",
      "Current status: DatasetBalancing. Performing class balancing sweeping\n",
      "Current status: DatasetCrossValidationSplit. Generating individually featurized CV splits.\n",
      "\n",
      "********************************************************************************************\n",
      "DATA GUARDRAILS: \n",
      "\n",
      "TYPE:         Class balancing detection\n",
      "STATUS:       ALERTED\n",
      "DESCRIPTION:  To decrease model bias, please cancel the current run and fix balancing problem.\n",
      "              Learn more about imbalanced data: https://aka.ms/AutomatedMLImbalancedData\n",
      "DETAILS:      Imbalanced data can lead to a falsely perceived positive effect of a model's accuracy because the input data has bias towards one class.\n",
      "+------------------------------+--------------------------------+--------------------------------------+\n",
      "|Size of the smallest class    |Name/Label of the smallest class|Number of samples in the training data|\n",
      "+==============================+================================+======================================+\n",
      "|339                           |True                            |199193                                |\n",
      "+------------------------------+--------------------------------+--------------------------------------+\n",
      "\n",
      "********************************************************************************************\n",
      "\n",
      "TYPE:         Missing feature values imputation\n",
      "STATUS:       DONE\n",
      "DESCRIPTION:  If the missing values are expected, let the run complete. Otherwise cancel the current run and use a script to customize the handling of missing feature values that may be more appropriate based on the data type and business requirement.\n",
      "              Learn more about missing value imputation: https://aka.ms/AutomatedMLFeaturization\n",
      "DETAILS:      \n",
      "+------------------------------+------------------------------+------------------------------+\n",
      "|Column name                   |Missing value count           |Imputation type               |\n",
      "+==============================+==============================+==============================+\n",
      "|Time                          |1                             |mean                          |\n",
      "+------------------------------+------------------------------+------------------------------+\n",
      "\n",
      "********************************************************************************************\n",
      "\n",
      "TYPE:         High cardinality feature detection\n",
      "STATUS:       PASSED\n",
      "DESCRIPTION:  Your inputs were analyzed, and no high cardinality features were detected.\n",
      "              Learn more about high cardinality feature handling: https://aka.ms/AutomatedMLFeaturization\n",
      "\n",
      "********************************************************************************************\n",
      "Current status: ModelSelection. Beginning model selection.\n",
      "\n",
      "********************************************************************************************\n",
      "ITER: The iteration being evaluated.\n",
      "PIPELINE: A summary description of the pipeline being evaluated.\n",
      "DURATION: Time taken for the current iteration.\n",
      "METRIC: The result of computing score on the fitted pipeline.\n",
      "BEST: The best observed score thus far.\n",
      "********************************************************************************************\n",
      "\n",
      " ITER   PIPELINE                                       DURATION            METRIC      BEST\n",
      "    0   MaxAbsScaler LightGBM                          0:00:46             0.9977    0.9977\n",
      "    1   MaxAbsScaler XGBoostClassifier                 0:02:52             0.9997    0.9997\n",
      "    2   MaxAbsScaler ExtremeRandomTrees                0:00:47             0.9993    0.9997\n",
      "    3   SparseNormalizer XGBoostClassifier             0:00:44             0.9991    0.9997\n",
      "    4   MaxAbsScaler LightGBM                          0:00:34             0.9994    0.9997\n",
      "    5   MaxAbsScaler LogisticRegression                0:00:49             0.9995    0.9997\n",
      "    6   SparseNormalizer XGBoostClassifier             0:00:55             0.9993    0.9997\n",
      "    7   StandardScalerWrapper LogisticRegression       0:00:53             0.9995    0.9997\n",
      "    8   MaxAbsScaler ExtremeRandomTrees                0:01:06             0.9994    0.9997\n",
      "    9   StandardScalerWrapper ExtremeRandomTrees       0:00:38             0.9994    0.9997\n",
      "   10   MaxAbsScaler LightGBM                          0:00:38             0.9994    0.9997\n",
      "   11   StandardScalerWrapper XGBoostClassifier        0:00:49             0.9995    0.9997\n",
      "   12   StandardScalerWrapper LogisticRegression       0:01:26             0.9995    0.9997\n",
      "   13   SparseNormalizer XGBoostClassifier             0:00:51             0.9991    0.9997\n",
      "   14   MinMaxScaler ExtremeRandomTrees                0:00:50             0.9995    0.9997\n",
      "   15   StandardScalerWrapper XGBoostClassifier        0:00:44             0.9994    0.9997\n",
      "   16   StandardScalerWrapper XGBoostClassifier        0:00:46             0.9994    0.9997\n",
      "   17   StandardScalerWrapper XGBoostClassifier        0:04:32             0.9997    0.9997\n",
      "   18   StandardScalerWrapper XGBoostClassifier        0:00:56             0.9994    0.9997\n",
      "   19   StandardScalerWrapper RandomForest             0:02:47             0.9994    0.9997\n",
      "   20   MaxAbsScaler RandomForest                      0:06:04             0.9994    0.9997\n",
      "   21   VotingEnsemble                                 0:01:23             0.9997    0.9997\n",
      "Stopping criteria reached at iteration 22. Ending experiment.\n",
      "********************************************************************************************\n",
      "Current status: BestRunExplainModel. Best run model explanations started\n",
      "Current status: ModelExplanationDataSetSetup. Model explanations data setup completed\n",
      "Current status: PickSurrogateModel. Choosing LightGBM as the surrogate model for explanations\n",
      "Current status: EngineeredFeatureExplanations. Computation of engineered features started\n"
     ]
    },
    {
     "name": "stderr",
     "output_type": "stream",
     "text": [
      "2022-11-07:15:51:33,36 INFO     [explanation_client.py:334] Using default datastore for uploads\n"
     ]
    },
    {
     "name": "stdout",
     "output_type": "stream",
     "text": [
      "Current status: EngineeredFeatureExplanations. Computation of engineered features completed\n",
      "Current status: RawFeaturesExplanations. Computation of raw features started\n",
      "Current status: RawFeaturesExplanations. Computation of raw features completed\n",
      "Current status: BestRunExplainModel. Best run model explanations completed\n",
      "********************************************************************************************\n"
     ]
    }
   ],
   "source": [
    "data = \"https://automlsamplenotebookdata.blob.core.windows.net/automl-sample-notebook-data/creditcard.csv\"\n",
    "dataset = Dataset.Tabular.from_delimited_files(data)\n",
    "training_data, validation_data = dataset.random_split(percentage=0.7)\n",
    "label_column_name = \"Class\"\n",
    "\n",
    "automl_settings = {\n",
    "    \"n_cross_validations\": 3, #Number of cross validation splits.\n",
    "    \"primary_metric\": \"average_precision_score_weighted\", #This is the metric that you want to optimize.\n",
    "    #\"primary_metric\": \"f1_score_weighted\",\n",
    "    \"experiment_timeout_hours\": 0.5, #percentage of an hour you want this to run\n",
    "    \"verbosity\": logging.INFO, #logging info level, debug, info, warning, error, critical \n",
    "    \"enable_stack_ensemble\": False, # VotingEnsembled is enabled by defualt\n",
    "}\n",
    "\n",
    "automl_config = AutoMLConfig(\n",
    "    task=\"classification\",\n",
    "    debug_log=\"automl_errors.log\",\n",
    "    training_data=training_data,\n",
    "    label_column_name=label_column_name,\n",
    "    **automl_settings,\n",
    ")\n",
    "\n",
    "local_run = experiment.submit(automl_config, show_output=True)"
   ]
  },
  {
   "cell_type": "markdown",
   "metadata": {},
   "source": [
    "Call the `submit` method on the experiment object and pass the run configuration. Depending on the data and the number of iterations this can run for a while.\n",
    "In this example, we specify `show_output = True` to print currently running iterations to the console."
   ]
  },
  {
   "cell_type": "code",
   "execution_count": 5,
   "metadata": {
    "gather": {
     "logged": 1646938961233
    }
   },
   "outputs": [],
   "source": [
    "#local_run = experiment.submit(automl_config, show_output=True)"
   ]
  },
  {
   "cell_type": "code",
   "execution_count": 6,
   "metadata": {},
   "outputs": [],
   "source": [
    "# If you need to retrieve a run that already started, use the following code\n",
    "# from azureml.train.automl.run import AutoMLRun\n",
    "# local_run = AutoMLRun(experiment = experiment, run_id = '<replace with your run id>')"
   ]
  },
  {
   "cell_type": "markdown",
   "metadata": {},
   "source": [
    "## Results"
   ]
  },
  {
   "cell_type": "markdown",
   "metadata": {},
   "source": [
    "#### Widget for Monitoring Runs\n",
    "\n",
    "The widget will first report a \"loading\" status while running the first iteration. After completing the first iteration, an auto-updating graph and table will be shown. The widget will refresh once per minute, so you should see the graph update as child runs complete.\n",
    "\n",
    "**Note:** The widget displays a link at the bottom. Use this link to open a web interface to explore the individual run details"
   ]
  },
  {
   "cell_type": "code",
   "execution_count": 7,
   "metadata": {
    "gather": {
     "logged": 1646938961502
    },
    "scrolled": false
   },
   "outputs": [
    {
     "data": {
      "application/vnd.jupyter.widget-view+json": {
       "model_id": "1e9ac3fe55e54cd7979115f7d8f0691a",
       "version_major": 2,
       "version_minor": 0
      },
      "text/plain": [
       "_AutoMLWidget(widget_settings={'childWidgetDisplay': 'popup', 'send_telemetry': False, 'log_level': 'INFO', 's…"
      ]
     },
     "metadata": {},
     "output_type": "display_data"
    },
    {
     "data": {
      "application/aml.mini.widget.v1": "{\"status\": \"Completed\", \"workbench_run_details_uri\": \"https://ml.azure.com/runs/AutoML_fe8fdb6e-e088-486b-8f24-f4211bfb3334?wsid=/subscriptions/d83b98a9-eaa6-475f-9ae6-1ef35394a1e5/resourcegroups/rg-ml-workspace/workspaces/shepml&tid=72f988bf-86f1-41af-91ab-2d7cd011db47\", \"run_id\": \"AutoML_fe8fdb6e-e088-486b-8f24-f4211bfb3334\", \"run_properties\": {\"run_id\": \"AutoML_fe8fdb6e-e088-486b-8f24-f4211bfb3334\", \"created_utc\": \"2022-11-07T15:16:38.230731Z\", \"properties\": {\"num_iterations\": \"1000\", \"training_type\": \"TrainFull\", \"acquisition_function\": \"EI\", \"primary_metric\": \"average_precision_score_weighted\", \"train_split\": \"0\", \"acquisition_parameter\": \"0\", \"num_cross_validation\": \"3\", \"target\": \"local\", \"AMLSettingsJsonString\": \"{\\\"path\\\":null,\\\"name\\\":\\\"automl-classification-ccard-local\\\",\\\"subscription_id\\\":\\\"d83b98a9-eaa6-475f-9ae6-1ef35394a1e5\\\",\\\"resource_group\\\":\\\"rg-ml-workspace\\\",\\\"workspace_name\\\":\\\"shepml\\\",\\\"region\\\":\\\"eastus2\\\",\\\"compute_target\\\":\\\"local\\\",\\\"spark_service\\\":null,\\\"azure_service\\\":\\\"Microsoft.AzureNotebookVM\\\",\\\"many_models\\\":false,\\\"pipeline_fetch_max_batch_size\\\":1,\\\"enable_batch_run\\\":false,\\\"enable_run_restructure\\\":false,\\\"start_auxiliary_runs_before_parent_complete\\\":false,\\\"enable_code_generation\\\":false,\\\"iterations\\\":1000,\\\"primary_metric\\\":\\\"average_precision_score_weighted\\\",\\\"task_type\\\":\\\"classification\\\",\\\"positive_label\\\":null,\\\"data_script\\\":null,\\\"test_size\\\":0.0,\\\"test_include_predictions_only\\\":false,\\\"validation_size\\\":0.0,\\\"n_cross_validations\\\":3,\\\"y_min\\\":null,\\\"y_max\\\":null,\\\"num_classes\\\":null,\\\"featurization\\\":\\\"auto\\\",\\\"_ignore_package_version_incompatibilities\\\":false,\\\"is_timeseries\\\":false,\\\"max_cores_per_iteration\\\":1,\\\"max_concurrent_iterations\\\":1,\\\"iteration_timeout_minutes\\\":null,\\\"mem_in_mb\\\":null,\\\"enforce_time_on_windows\\\":false,\\\"experiment_timeout_minutes\\\":30,\\\"experiment_exit_score\\\":null,\\\"whitelist_models\\\":null,\\\"blacklist_algos\\\":[\\\"TensorFlowLinearClassifier\\\",\\\"TensorFlowDNN\\\"],\\\"supported_models\\\":[\\\"DecisionTree\\\",\\\"XGBoostClassifier\\\",\\\"GradientBoosting\\\",\\\"TensorFlowDNN\\\",\\\"BernoulliNaiveBayes\\\",\\\"LightGBM\\\",\\\"AveragedPerceptronClassifier\\\",\\\"LogisticRegression\\\",\\\"TabnetClassifier\\\",\\\"LinearSVM\\\",\\\"MultinomialNaiveBayes\\\",\\\"SGD\\\",\\\"ExtremeRandomTrees\\\",\\\"SVM\\\",\\\"KNN\\\",\\\"RandomForest\\\",\\\"TensorFlowLinearClassifier\\\"],\\\"private_models\\\":[],\\\"auto_blacklist\\\":true,\\\"blacklist_samples_reached\\\":false,\\\"exclude_nan_labels\\\":true,\\\"verbosity\\\":20,\\\"_debug_log\\\":\\\"automl_errors.log\\\",\\\"show_warnings\\\":false,\\\"model_explainability\\\":true,\\\"service_url\\\":null,\\\"sdk_url\\\":null,\\\"sdk_packages\\\":null,\\\"enable_onnx_compatible_models\\\":false,\\\"enable_split_onnx_featurizer_estimator_models\\\":false,\\\"vm_type\\\":null,\\\"telemetry_verbosity\\\":20,\\\"send_telemetry\\\":true,\\\"enable_dnn\\\":false,\\\"scenario\\\":\\\"SDK-1.13.0\\\",\\\"environment_label\\\":null,\\\"save_mlflow\\\":false,\\\"enable_categorical_indicators\\\":false,\\\"force_text_dnn\\\":false,\\\"enable_feature_sweeping\\\":true,\\\"enable_early_stopping\\\":true,\\\"early_stopping_n_iters\\\":10,\\\"arguments\\\":null,\\\"dataset_id\\\":\\\"00f42159-b29c-4351-b15d-d0748a55720b\\\",\\\"hyperdrive_config\\\":null,\\\"validation_dataset_id\\\":null,\\\"run_source\\\":null,\\\"metrics\\\":null,\\\"enable_metric_confidence\\\":false,\\\"enable_ensembling\\\":true,\\\"enable_stack_ensembling\\\":false,\\\"ensemble_iterations\\\":15,\\\"enable_tf\\\":false,\\\"enable_subsampling\\\":null,\\\"subsample_seed\\\":null,\\\"enable_nimbusml\\\":false,\\\"enable_streaming\\\":false,\\\"force_streaming\\\":false,\\\"track_child_runs\\\":true,\\\"allowed_private_models\\\":[],\\\"label_column_name\\\":\\\"Class\\\",\\\"weight_column_name\\\":null,\\\"cv_split_column_names\\\":null,\\\"enable_local_managed\\\":false,\\\"_local_managed_run_id\\\":null,\\\"cost_mode\\\":1,\\\"lag_length\\\":0,\\\"metric_operation\\\":\\\"maximize\\\",\\\"preprocess\\\":true}\", \"DataPrepJsonString\": \"{\\\\\\\"training_data\\\\\\\": {\\\\\\\"datasetId\\\\\\\": \\\\\\\"00f42159-b29c-4351-b15d-d0748a55720b\\\\\\\"}, \\\\\\\"datasets\\\\\\\": 0}\", \"EnableSubsampling\": null, \"runTemplate\": \"AutoML\", \"azureml.runsource\": \"automl\", \"display_task_type\": \"classification\", \"dependencies_versions\": \"{\\\"azureml-widgets\\\": \\\"1.38.0\\\", \\\"azureml-train\\\": \\\"1.38.0\\\", \\\"azureml-train-restclients-hyperdrive\\\": \\\"1.38.0\\\", \\\"azureml-train-core\\\": \\\"1.38.0\\\", \\\"azureml-train-automl\\\": \\\"1.38.0\\\", \\\"azureml-train-automl-runtime\\\": \\\"1.38.0\\\", \\\"azureml-train-automl-client\\\": \\\"1.38.0\\\", \\\"azureml-tensorboard\\\": \\\"1.38.0\\\", \\\"azureml-telemetry\\\": \\\"1.38.0\\\", \\\"azureml-sdk\\\": \\\"1.38.0\\\", \\\"azureml-responsibleai\\\": \\\"1.38.0\\\", \\\"azureml-pipeline\\\": \\\"1.38.0\\\", \\\"azureml-pipeline-steps\\\": \\\"1.38.0\\\", \\\"azureml-pipeline-core\\\": \\\"1.38.0\\\", \\\"azureml-opendatasets\\\": \\\"1.38.0\\\", \\\"azureml-mlflow\\\": \\\"1.38.0\\\", \\\"azureml-interpret\\\": \\\"1.38.0\\\", \\\"azureml-inference-server-http\\\": \\\"0.4.2\\\", \\\"azureml-explain-model\\\": \\\"1.38.0\\\", \\\"azureml-defaults\\\": \\\"1.38.0\\\", \\\"azureml-dataset-runtime\\\": \\\"1.38.0\\\", \\\"azureml-dataprep\\\": \\\"2.26.0\\\", \\\"azureml-dataprep-rslex\\\": \\\"2.2.0\\\", \\\"azureml-dataprep-native\\\": \\\"38.0.0\\\", \\\"azureml-datadrift\\\": \\\"1.38.0\\\", \\\"azureml-core\\\": \\\"1.38.0\\\", \\\"azureml-contrib-services\\\": \\\"1.38.0\\\", \\\"azureml-contrib-server\\\": \\\"1.38.0\\\", \\\"azureml-contrib-reinforcementlearning\\\": \\\"1.38.0\\\", \\\"azureml-contrib-pipeline-steps\\\": \\\"1.38.0\\\", \\\"azureml-contrib-notebook\\\": \\\"1.38.0\\\", \\\"azureml-contrib-fairness\\\": \\\"1.38.0\\\", \\\"azureml-contrib-dataset\\\": \\\"1.38.0\\\", \\\"azureml-contrib-automl-pipeline-steps\\\": \\\"1.38.0\\\", \\\"azureml-cli-common\\\": \\\"1.38.0\\\", \\\"azureml-automl-runtime\\\": \\\"1.38.0\\\", \\\"azureml-automl-dnn-nlp\\\": \\\"1.38.0\\\", \\\"azureml-automl-core\\\": \\\"1.38.0\\\", \\\"azureml-accel-models\\\": \\\"1.38.0\\\"}\", \"_aml_system_scenario_identification\": \"Local.Parent\", \"ClientSdkVersion\": \"1.38.0\", \"ClientType\": \"SDK\", \"environment_cpu_name\": \"AzureML-AutoML\", \"environment_cpu_label\": \"py36\", \"environment_gpu_name\": \"AzureML-AutoML-GPU\", \"environment_gpu_label\": \"py36\", \"root_attribution\": \"automl\", \"attribution\": \"AutoML\", \"Orchestrator\": \"AutoML\", \"_azureml.ComputeTargetType\": \"local\", \"ProblemInfoJsonString\": \"{\\\"dataset_num_categorical\\\": 0, \\\"is_sparse\\\": false, \\\"subsampling\\\": false, \\\"has_extra_col\\\": true, \\\"dataset_classes\\\": 2, \\\"dataset_features\\\": 30, \\\"dataset_samples\\\": 199193, \\\"single_frequency_class_detected\\\": false}\", \"azureml.git.repository_uri\": \"https://github.com/sqlshep/MLADS112022.git\", \"mlflow.source.git.repoURL\": \"https://github.com/sqlshep/MLADS112022.git\", \"azureml.git.branch\": \"main\", \"mlflow.source.git.branch\": \"main\", \"azureml.git.commit\": \"0ef75354582ca0ebe7b7a69e621d171da99cb093\", \"mlflow.source.git.commit\": \"0ef75354582ca0ebe7b7a69e621d171da99cb093\", \"azureml.git.dirty\": \"True\"}, \"tags\": {\"model_explain_run\": \"best_run\", \"_aml_system_automl_run_workspace_id\": \"159e7260-d6e4-4d6a-88cf-34c1a4bd15ee\", \"best_score\": \"0.9997086415272535\", \"best_pipeline\": \"XGBoostClassifier\", \"automl_best_child_run_id\": \"AutoML_fe8fdb6e-e088-486b-8f24-f4211bfb3334_17\", \"model_explain_best_run_child_id\": \"AutoML_fe8fdb6e-e088-486b-8f24-f4211bfb3334_17\"}, \"end_time_utc\": \"2022-11-07T15:49:53.39576Z\", \"status\": \"Completed\", \"log_files\": {}, \"log_groups\": [], \"run_duration\": \"0:33:15\", \"run_number\": \"1667834198\", \"run_queued_details\": {\"status\": \"Completed\", \"details\": null}}, \"child_runs\": [{\"run_id\": \"AutoML_fe8fdb6e-e088-486b-8f24-f4211bfb3334_0\", \"run_number\": 1667834251, \"metric\": null, \"status\": \"Completed\", \"run_type\": null, \"training_percent\": \"100\", \"start_time\": \"2022-11-07T15:17:31.46319Z\", \"end_time\": \"2022-11-07T15:18:17.863223Z\", \"created_time\": \"2022-11-07T15:17:31.362131Z\", \"created_time_dt\": \"2022-11-07T15:17:31.362131Z\", \"duration\": \"0:00:46\", \"iteration\": \"0\", \"goal\": \"average_precision_score_weighted_max\", \"run_name\": \"MaxAbsScaler, LightGBM\", \"run_properties\": \"copy=True\", \"primary_metric\": 0.99767901, \"best_metric\": 0.99767901}, {\"run_id\": \"AutoML_fe8fdb6e-e088-486b-8f24-f4211bfb3334_1\", \"run_number\": 1667834298, \"metric\": null, \"status\": \"Completed\", \"run_type\": null, \"training_percent\": \"100\", \"start_time\": \"2022-11-07T15:18:18.208444Z\", \"end_time\": \"2022-11-07T15:21:10.178503Z\", \"created_time\": \"2022-11-07T15:18:18.086301Z\", \"created_time_dt\": \"2022-11-07T15:18:18.086301Z\", \"duration\": \"0:02:52\", \"iteration\": \"1\", \"goal\": \"average_precision_score_weighted_max\", \"run_name\": \"MaxAbsScaler, XGBoostClassifier\", \"run_properties\": \"copy=True\", \"primary_metric\": 0.99969497, \"best_metric\": 0.99969497}, {\"run_id\": \"AutoML_fe8fdb6e-e088-486b-8f24-f4211bfb3334_2\", \"run_number\": 1667834470, \"metric\": null, \"status\": \"Completed\", \"run_type\": null, \"training_percent\": \"100\", \"start_time\": \"2022-11-07T15:21:11.072844Z\", \"end_time\": \"2022-11-07T15:21:58.598988Z\", \"created_time\": \"2022-11-07T15:21:10.947462Z\", \"created_time_dt\": \"2022-11-07T15:21:10.947462Z\", \"duration\": \"0:00:47\", \"iteration\": \"2\", \"goal\": \"average_precision_score_weighted_max\", \"run_name\": \"MaxAbsScaler, ExtremeRandomTrees\", \"run_properties\": \"copy=True\", \"primary_metric\": 0.99931969, \"best_metric\": 0.99969497}, {\"run_id\": \"AutoML_fe8fdb6e-e088-486b-8f24-f4211bfb3334_3\", \"run_number\": 1667834519, \"metric\": null, \"status\": \"Completed\", \"run_type\": null, \"training_percent\": \"100\", \"start_time\": \"2022-11-07T15:21:59.783196Z\", \"end_time\": \"2022-11-07T15:22:44.28874Z\", \"created_time\": \"2022-11-07T15:21:59.701827Z\", \"created_time_dt\": \"2022-11-07T15:21:59.701827Z\", \"duration\": \"0:00:44\", \"iteration\": \"3\", \"goal\": \"average_precision_score_weighted_max\", \"run_name\": \"SparseNormalizer, XGBoostClassifier\", \"run_properties\": \"copy=True, norm='l2'\", \"primary_metric\": 0.99911201, \"best_metric\": 0.99969497}, {\"run_id\": \"AutoML_fe8fdb6e-e088-486b-8f24-f4211bfb3334_4\", \"run_number\": 1667834565, \"metric\": null, \"status\": \"Completed\", \"run_type\": null, \"training_percent\": \"100\", \"start_time\": \"2022-11-07T15:22:45.707808Z\", \"end_time\": \"2022-11-07T15:23:19.672471Z\", \"created_time\": \"2022-11-07T15:22:45.611083Z\", \"created_time_dt\": \"2022-11-07T15:22:45.611083Z\", \"duration\": \"0:00:34\", \"iteration\": \"4\", \"goal\": \"average_precision_score_weighted_max\", \"run_name\": \"MaxAbsScaler, LightGBM\", \"run_properties\": \"copy=True\", \"primary_metric\": 0.99938456, \"best_metric\": 0.99969497}, {\"run_id\": \"AutoML_fe8fdb6e-e088-486b-8f24-f4211bfb3334_5\", \"run_number\": 1667834600, \"metric\": null, \"status\": \"Completed\", \"run_type\": null, \"training_percent\": \"100\", \"start_time\": \"2022-11-07T15:23:20.835297Z\", \"end_time\": \"2022-11-07T15:24:10.592435Z\", \"created_time\": \"2022-11-07T15:23:20.739762Z\", \"created_time_dt\": \"2022-11-07T15:23:20.739762Z\", \"duration\": \"0:00:49\", \"iteration\": \"5\", \"goal\": \"average_precision_score_weighted_max\", \"run_name\": \"MaxAbsScaler, LogisticRegression\", \"run_properties\": \"copy=True\", \"primary_metric\": 0.99948485, \"best_metric\": 0.99969497}, {\"run_id\": \"AutoML_fe8fdb6e-e088-486b-8f24-f4211bfb3334_6\", \"run_number\": 1667834651, \"metric\": null, \"status\": \"Completed\", \"run_type\": null, \"training_percent\": \"100\", \"start_time\": \"2022-11-07T15:24:11.737703Z\", \"end_time\": \"2022-11-07T15:25:07.246402Z\", \"created_time\": \"2022-11-07T15:24:11.631195Z\", \"created_time_dt\": \"2022-11-07T15:24:11.631195Z\", \"duration\": \"0:00:55\", \"iteration\": \"6\", \"goal\": \"average_precision_score_weighted_max\", \"run_name\": \"SparseNormalizer, XGBoostClassifier\", \"run_properties\": \"copy=True, norm='max'\", \"primary_metric\": 0.99929839, \"best_metric\": 0.99969497}, {\"run_id\": \"AutoML_fe8fdb6e-e088-486b-8f24-f4211bfb3334_7\", \"run_number\": 1667834708, \"metric\": null, \"status\": \"Completed\", \"run_type\": null, \"training_percent\": \"100\", \"start_time\": \"2022-11-07T15:25:08.394929Z\", \"end_time\": \"2022-11-07T15:26:01.49235Z\", \"created_time\": \"2022-11-07T15:25:08.285446Z\", \"created_time_dt\": \"2022-11-07T15:25:08.285446Z\", \"duration\": \"0:00:53\", \"iteration\": \"7\", \"goal\": \"average_precision_score_weighted_max\", \"run_name\": \"StandardScalerWrapper, LogisticRegression\", \"run_properties\": \"\\n    copy=True,\\n    with_mean=True,\\n    with_std=False\\n\", \"primary_metric\": 0.99948889, \"best_metric\": 0.99969497}, {\"run_id\": \"AutoML_fe8fdb6e-e088-486b-8f24-f4211bfb3334_8\", \"run_number\": 1667834762, \"metric\": null, \"status\": \"Completed\", \"run_type\": null, \"training_percent\": \"100\", \"start_time\": \"2022-11-07T15:26:02.695836Z\", \"end_time\": \"2022-11-07T15:27:09.606907Z\", \"created_time\": \"2022-11-07T15:26:02.582351Z\", \"created_time_dt\": \"2022-11-07T15:26:02.582351Z\", \"duration\": \"0:01:07\", \"iteration\": \"8\", \"goal\": \"average_precision_score_weighted_max\", \"run_name\": \"MaxAbsScaler, ExtremeRandomTrees\", \"run_properties\": \"copy=True\", \"primary_metric\": 0.99938386, \"best_metric\": 0.99969497}, {\"run_id\": \"AutoML_fe8fdb6e-e088-486b-8f24-f4211bfb3334_9\", \"run_number\": 1667834830, \"metric\": null, \"status\": \"Completed\", \"run_type\": null, \"training_percent\": \"100\", \"start_time\": \"2022-11-07T15:27:10.85759Z\", \"end_time\": \"2022-11-07T15:27:49.498181Z\", \"created_time\": \"2022-11-07T15:27:10.748821Z\", \"created_time_dt\": \"2022-11-07T15:27:10.748821Z\", \"duration\": \"0:00:38\", \"iteration\": \"9\", \"goal\": \"average_precision_score_weighted_max\", \"run_name\": \"StandardScalerWrapper, ExtremeRandomTrees\", \"run_properties\": \"\\n    copy=True,\\n    with_mean=True,\\n    with_std=True\\n\", \"primary_metric\": 0.99938917, \"best_metric\": 0.99969497}, {\"run_id\": \"AutoML_fe8fdb6e-e088-486b-8f24-f4211bfb3334_10\", \"run_number\": 1667834870, \"metric\": null, \"status\": \"Completed\", \"run_type\": null, \"training_percent\": \"100\", \"start_time\": \"2022-11-07T15:27:50.707903Z\", \"end_time\": \"2022-11-07T15:28:28.777748Z\", \"created_time\": \"2022-11-07T15:27:50.568847Z\", \"created_time_dt\": \"2022-11-07T15:27:50.568847Z\", \"duration\": \"0:00:38\", \"iteration\": \"10\", \"goal\": \"average_precision_score_weighted_max\", \"run_name\": \"MaxAbsScaler, LightGBM\", \"run_properties\": \"copy=True\", \"primary_metric\": 0.99941901, \"best_metric\": 0.99969497}, {\"run_id\": \"AutoML_fe8fdb6e-e088-486b-8f24-f4211bfb3334_11\", \"run_number\": 1667834909, \"metric\": null, \"status\": \"Completed\", \"run_type\": null, \"training_percent\": \"100\", \"start_time\": \"2022-11-07T15:28:29.922321Z\", \"end_time\": \"2022-11-07T15:29:19.372957Z\", \"created_time\": \"2022-11-07T15:28:29.822317Z\", \"created_time_dt\": \"2022-11-07T15:28:29.822317Z\", \"duration\": \"0:00:49\", \"iteration\": \"11\", \"goal\": \"average_precision_score_weighted_max\", \"run_name\": \"StandardScalerWrapper, XGBoostClassifier\", \"run_properties\": \"\\n    copy=True,\\n    with_mean=False,\\n    with_std=False\\n\", \"primary_metric\": 0.99947299, \"best_metric\": 0.99969497}, {\"run_id\": \"AutoML_fe8fdb6e-e088-486b-8f24-f4211bfb3334_12\", \"run_number\": 1667834960, \"metric\": null, \"status\": \"Completed\", \"run_type\": null, \"training_percent\": \"100\", \"start_time\": \"2022-11-07T15:29:20.755412Z\", \"end_time\": \"2022-11-07T15:30:47.467818Z\", \"created_time\": \"2022-11-07T15:29:20.638234Z\", \"created_time_dt\": \"2022-11-07T15:29:20.638234Z\", \"duration\": \"0:01:26\", \"iteration\": \"12\", \"goal\": \"average_precision_score_weighted_max\", \"run_name\": \"StandardScalerWrapper, LogisticRegression\", \"run_properties\": \"\\n    copy=True,\\n    with_mean=True,\\n    with_std=True\\n\", \"primary_metric\": 0.99949039, \"best_metric\": 0.99969497}, {\"run_id\": \"AutoML_fe8fdb6e-e088-486b-8f24-f4211bfb3334_13\", \"run_number\": 1667835048, \"metric\": null, \"status\": \"Completed\", \"run_type\": null, \"training_percent\": \"100\", \"start_time\": \"2022-11-07T15:30:48.704182Z\", \"end_time\": \"2022-11-07T15:31:39.732027Z\", \"created_time\": \"2022-11-07T15:30:48.574423Z\", \"created_time_dt\": \"2022-11-07T15:30:48.574423Z\", \"duration\": \"0:00:51\", \"iteration\": \"13\", \"goal\": \"average_precision_score_weighted_max\", \"run_name\": \"SparseNormalizer, XGBoostClassifier\", \"run_properties\": \"copy=True, norm='max'\", \"primary_metric\": 0.99913055, \"best_metric\": 0.99969497}, {\"run_id\": \"AutoML_fe8fdb6e-e088-486b-8f24-f4211bfb3334_14\", \"run_number\": 1667835100, \"metric\": null, \"status\": \"Completed\", \"run_type\": null, \"training_percent\": \"100\", \"start_time\": \"2022-11-07T15:31:41.085052Z\", \"end_time\": \"2022-11-07T15:32:31.640382Z\", \"created_time\": \"2022-11-07T15:31:40.846709Z\", \"created_time_dt\": \"2022-11-07T15:31:40.846709Z\", \"duration\": \"0:00:50\", \"iteration\": \"14\", \"goal\": \"average_precision_score_weighted_max\", \"run_name\": \"MinMaxScaler, ExtremeRandomTrees\", \"run_properties\": \"copy=True, feature_range=(0, 1\", \"primary_metric\": 0.99948309, \"best_metric\": 0.99969497}, {\"run_id\": \"AutoML_fe8fdb6e-e088-486b-8f24-f4211bfb3334_15\", \"run_number\": 1667835152, \"metric\": null, \"status\": \"Completed\", \"run_type\": null, \"training_percent\": \"100\", \"start_time\": \"2022-11-07T15:32:32.785155Z\", \"end_time\": \"2022-11-07T15:33:16.865545Z\", \"created_time\": \"2022-11-07T15:32:32.659308Z\", \"created_time_dt\": \"2022-11-07T15:32:32.659308Z\", \"duration\": \"0:00:44\", \"iteration\": \"15\", \"goal\": \"average_precision_score_weighted_max\", \"run_name\": \"StandardScalerWrapper, XGBoostClassifier\", \"run_properties\": \"\\n    copy=True,\\n    with_mean=False,\\n    with_std=False\\n\", \"primary_metric\": 0.99937931, \"best_metric\": 0.99969497}, {\"run_id\": \"AutoML_fe8fdb6e-e088-486b-8f24-f4211bfb3334_16\", \"run_number\": 1667835198, \"metric\": null, \"status\": \"Completed\", \"run_type\": null, \"training_percent\": \"100\", \"start_time\": \"2022-11-07T15:33:18.134927Z\", \"end_time\": \"2022-11-07T15:34:04.200101Z\", \"created_time\": \"2022-11-07T15:33:18.022877Z\", \"created_time_dt\": \"2022-11-07T15:33:18.022877Z\", \"duration\": \"0:00:46\", \"iteration\": \"16\", \"goal\": \"average_precision_score_weighted_max\", \"run_name\": \"StandardScalerWrapper, XGBoostClassifier\", \"run_properties\": \"\\n    copy=True,\\n    with_mean=False,\\n    with_std=False\\n\", \"primary_metric\": 0.99938175, \"best_metric\": 0.99969497}, {\"run_id\": \"AutoML_fe8fdb6e-e088-486b-8f24-f4211bfb3334_17\", \"run_number\": 1667835245, \"metric\": null, \"status\": \"Completed\", \"run_type\": null, \"training_percent\": \"100\", \"start_time\": \"2022-11-07T15:34:05.431971Z\", \"end_time\": \"2022-11-07T15:38:38.227791Z\", \"created_time\": \"2022-11-07T15:34:05.321048Z\", \"created_time_dt\": \"2022-11-07T15:34:05.321048Z\", \"duration\": \"0:04:32\", \"iteration\": \"17\", \"goal\": \"average_precision_score_weighted_max\", \"run_name\": \"StandardScalerWrapper, XGBoostClassifier\", \"run_properties\": \"\\n    copy=True,\\n    with_mean=False,\\n    with_std=False\\n\", \"primary_metric\": 0.99970864, \"best_metric\": 0.99970864}, {\"run_id\": \"AutoML_fe8fdb6e-e088-486b-8f24-f4211bfb3334_18\", \"run_number\": 1667835519, \"metric\": null, \"status\": \"Completed\", \"run_type\": null, \"training_percent\": \"100\", \"start_time\": \"2022-11-07T15:38:39.414383Z\", \"end_time\": \"2022-11-07T15:39:35.927666Z\", \"created_time\": \"2022-11-07T15:38:39.315563Z\", \"created_time_dt\": \"2022-11-07T15:38:39.315563Z\", \"duration\": \"0:00:56\", \"iteration\": \"18\", \"goal\": \"average_precision_score_weighted_max\", \"run_name\": \"StandardScalerWrapper, XGBoostClassifier\", \"run_properties\": \"\\n    copy=True,\\n    with_mean=False,\\n    with_std=False\\n\", \"primary_metric\": 0.99936037, \"best_metric\": 0.99970864}, {\"run_id\": \"AutoML_fe8fdb6e-e088-486b-8f24-f4211bfb3334_19\", \"run_number\": 1667835577, \"metric\": null, \"status\": \"Completed\", \"run_type\": null, \"training_percent\": \"100\", \"start_time\": \"2022-11-07T15:39:37.155299Z\", \"end_time\": \"2022-11-07T15:42:24.067014Z\", \"created_time\": \"2022-11-07T15:39:37.053555Z\", \"created_time_dt\": \"2022-11-07T15:39:37.053555Z\", \"duration\": \"0:02:47\", \"iteration\": \"19\", \"goal\": \"average_precision_score_weighted_max\", \"run_name\": \"StandardScalerWrapper, RandomForest\", \"run_properties\": \"\\n    copy=True,\\n    with_mean=False,\\n    with_std=False\\n\", \"primary_metric\": 0.99937036, \"best_metric\": 0.99970864}, {\"run_id\": \"AutoML_fe8fdb6e-e088-486b-8f24-f4211bfb3334_20\", \"run_number\": 1667835745, \"metric\": null, \"status\": \"Completed\", \"run_type\": null, \"training_percent\": \"100\", \"start_time\": \"2022-11-07T15:42:25.257268Z\", \"end_time\": \"2022-11-07T15:48:29.618529Z\", \"created_time\": \"2022-11-07T15:42:25.158163Z\", \"created_time_dt\": \"2022-11-07T15:42:25.158163Z\", \"duration\": \"0:06:04\", \"iteration\": \"20\", \"goal\": \"average_precision_score_weighted_max\", \"run_name\": \"MaxAbsScaler, RandomForest\", \"run_properties\": \"copy=True\", \"primary_metric\": 0.99936695, \"best_metric\": 0.99970864}, {\"run_id\": \"AutoML_fe8fdb6e-e088-486b-8f24-f4211bfb3334_21\", \"run_number\": 1667836109, \"metric\": null, \"status\": \"Completed\", \"run_type\": null, \"training_percent\": \"100\", \"start_time\": \"2022-11-07T15:48:29.95157Z\", \"end_time\": \"2022-11-07T15:49:53.027671Z\", \"created_time\": \"2022-11-07T15:48:29.849924Z\", \"created_time_dt\": \"2022-11-07T15:48:29.849924Z\", \"duration\": \"0:01:23\", \"iteration\": \"21\", \"goal\": \"average_precision_score_weighted_max\", \"run_name\": \"VotingEnsemble\", \"run_properties\": \"\\n    estimators=[('17', Pipeline(\\n        memory=None,\\n        steps=[('standardscalerwrapper', StandardScalerWrapper(\\n            copy=True,\\n            with_mean=False,\\n            with_std=False\\n        \", \"primary_metric\": 0.999704, \"best_metric\": 0.99970864}], \"children_metrics\": {\"categories\": [0], \"series\": {\"average_precision_score_weighted\": [{\"categories\": [\"0\", \"1\", \"2\", \"3\", \"4\", \"5\", \"6\", \"7\", \"8\", \"9\", \"10\", \"11\", \"12\", \"13\", \"14\", \"15\", \"16\", \"17\", \"18\", \"19\", \"20\", \"21\"], \"mode\": \"markers\", \"name\": \"average_precision_score_weighted\", \"stepped\": false, \"type\": \"scatter\", \"data\": [0.9976790106767558, 0.9996949721691379, 0.9993196899796198, 0.9991120066856588, 0.9993845576801701, 0.9994848510885938, 0.9992983888380943, 0.9994888907311156, 0.9993838631497113, 0.9993891674495173, 0.999419013308339, 0.9994729893690496, 0.9994903884614516, 0.9991305500000937, 0.9994830901963375, 0.9993793077472461, 0.9993817503571858, 0.9997086415272535, 0.9993603683369816, 0.9993703605241125, 0.99936695190447, 0.9997039980724242]}, {\"categories\": [\"0\", \"1\", \"2\", \"3\", \"4\", \"5\", \"6\", \"7\", \"8\", \"9\", \"10\", \"11\", \"12\", \"13\", \"14\", \"15\", \"16\", \"17\", \"18\", \"19\", \"20\", \"21\"], \"mode\": \"lines\", \"name\": \"average_precision_score_weighted_max\", \"stepped\": true, \"type\": \"scatter\", \"data\": [0.9976790106767558, 0.9996949721691379, 0.9996949721691379, 0.9996949721691379, 0.9996949721691379, 0.9996949721691379, 0.9996949721691379, 0.9996949721691379, 0.9996949721691379, 0.9996949721691379, 0.9996949721691379, 0.9996949721691379, 0.9996949721691379, 0.9996949721691379, 0.9996949721691379, 0.9996949721691379, 0.9996949721691379, 0.9997086415272535, 0.9997086415272535, 0.9997086415272535, 0.9997086415272535, 0.9997086415272535]}], \"weighted_accuracy\": [{\"categories\": [\"0\", \"1\", \"2\", \"3\", \"4\", \"5\", \"6\", \"7\", \"8\", \"9\", \"10\", \"11\", \"12\", \"13\", \"14\", \"15\", \"16\", \"17\", \"18\", \"19\", \"20\", \"21\"], \"mode\": \"markers\", \"name\": \"weighted_accuracy\", \"stepped\": false, \"type\": \"scatter\", \"data\": [0.9973182272214792, 0.999883738750991, 0.9907012187342769, 0.9999483408041437, 0.9999970908680065, 0.9731357853485966, 0.9999584512297366, 0.9998479509607229, 0.9956999047008819, 0.9999970908680065, 0.9998078390172095, 0.9999087396166627, 0.9733570584709147, 0.999963487588931, 0.9811718071986376, 0.9998884839280086, 0.9998834726064931, 0.999923944368916, 0.9998282371756763, 0.9749661395830254, 0.9999970908680065, 0.99986364072161]}, {\"categories\": [\"0\", \"1\", \"2\", \"3\", \"4\", \"5\", \"6\", \"7\", \"8\", \"9\", \"10\", \"11\", \"12\", \"13\", \"14\", \"15\", \"16\", \"17\", \"18\", \"19\", \"20\", \"21\"], \"mode\": \"lines\", \"name\": \"weighted_accuracy_max\", \"stepped\": true, \"type\": \"scatter\", \"data\": [0.9973182272214792, 0.999883738750991, 0.999883738750991, 0.9999483408041437, 0.9999970908680065, 0.9999970908680065, 0.9999970908680065, 0.9999970908680065, 0.9999970908680065, 0.9999970908680065, 0.9999970908680065, 0.9999970908680065, 0.9999970908680065, 0.9999970908680065, 0.9999970908680065, 0.9999970908680065, 0.9999970908680065, 0.9999970908680065, 0.9999970908680065, 0.9999970908680065, 0.9999970908680065, 0.9999970908680065]}], \"AUC_micro\": [{\"categories\": [\"0\", \"1\", \"2\", \"3\", \"4\", \"5\", \"6\", \"7\", \"8\", \"9\", \"10\", \"11\", \"12\", \"13\", \"14\", \"15\", \"16\", \"17\", \"18\", \"19\", \"20\", \"21\"], \"mode\": \"markers\", \"name\": \"AUC_micro\", \"stepped\": false, \"type\": \"scatter\", \"data\": [0.9967987969031645, 0.9999467677813679, 0.9990949803011523, 0.9996259457682486, 0.9998770594145464, 0.9938225229726388, 0.9997247842540539, 0.9997867408373441, 0.9994518664226617, 0.9998733175423112, 0.9999177125321558, 0.9997967235526186, 0.9937213730505011, 0.9996320787319694, 0.9977661735020568, 0.9997222143464737, 0.9997222691632176, 0.9999445299777684, 0.9997124442570976, 0.9966390283015851, 0.999889003266231, 0.9999451553334079]}, {\"categories\": [\"0\", \"1\", \"2\", \"3\", \"4\", \"5\", \"6\", \"7\", \"8\", \"9\", \"10\", \"11\", \"12\", \"13\", \"14\", \"15\", \"16\", \"17\", \"18\", \"19\", \"20\", \"21\"], \"mode\": \"lines\", \"name\": \"AUC_micro_max\", \"stepped\": true, \"type\": \"scatter\", \"data\": [0.9967987969031645, 0.9999467677813679, 0.9999467677813679, 0.9999467677813679, 0.9999467677813679, 0.9999467677813679, 0.9999467677813679, 0.9999467677813679, 0.9999467677813679, 0.9999467677813679, 0.9999467677813679, 0.9999467677813679, 0.9999467677813679, 0.9999467677813679, 0.9999467677813679, 0.9999467677813679, 0.9999467677813679, 0.9999467677813679, 0.9999467677813679, 0.9999467677813679, 0.9999467677813679, 0.9999467677813679]}], \"precision_score_macro\": [{\"categories\": [\"0\", \"1\", \"2\", \"3\", \"4\", \"5\", \"6\", \"7\", \"8\", \"9\", \"10\", \"11\", \"12\", \"13\", \"14\", \"15\", \"16\", \"17\", \"18\", \"19\", \"20\", \"21\"], \"mode\": \"markers\", \"name\": \"precision_score_macro\", \"stepped\": false, \"type\": \"scatter\", \"data\": [0.6285281205683021, 0.9603521662607718, 0.5854008409555934, 0.9732191985385518, 0.49914906629419376, 0.5270921666695519, 0.9784476069434924, 0.9369409948709809, 0.6242963366949394, 0.49914906629419376, 0.925204299983669, 0.9658880674793076, 0.5272125886667505, 0.9811635734309153, 0.5367420265658279, 0.9576484573698831, 0.9562895965849769, 0.972860865798698, 0.9400044346533544, 0.5293475040655241, 0.49914906629419376, 0.9546983764684249]}, {\"categories\": [\"0\", \"1\", \"2\", \"3\", \"4\", \"5\", \"6\", \"7\", \"8\", \"9\", \"10\", \"11\", \"12\", \"13\", \"14\", \"15\", \"16\", \"17\", \"18\", \"19\", \"20\", \"21\"], \"mode\": \"lines\", \"name\": \"precision_score_macro_max\", \"stepped\": true, \"type\": \"scatter\", \"data\": [0.6285281205683021, 0.9603521662607718, 0.9603521662607718, 0.9732191985385518, 0.9732191985385518, 0.9732191985385518, 0.9784476069434924, 0.9784476069434924, 0.9784476069434924, 0.9784476069434924, 0.9784476069434924, 0.9784476069434924, 0.9784476069434924, 0.9811635734309153, 0.9811635734309153, 0.9811635734309153, 0.9811635734309153, 0.9811635734309153, 0.9811635734309153, 0.9811635734309153, 0.9811635734309153, 0.9811635734309153]}], \"precision_score_micro\": [{\"categories\": [\"0\", \"1\", \"2\", \"3\", \"4\", \"5\", \"6\", \"7\", \"8\", \"9\", \"10\", \"11\", \"12\", \"13\", \"14\", \"15\", \"16\", \"17\", \"18\", \"19\", \"20\", \"21\"], \"mode\": \"markers\", \"name\": \"precision_score_micro\", \"stepped\": false, \"type\": \"scatter\", \"data\": [0.9965159367844686, 0.9995331162747535, 0.9904514600439467, 0.9991465564052552, 0.9982981325883875, 0.9730211306469662, 0.9991867186355664, 0.9991565966414934, 0.9954215280492716, 0.9982981325883875, 0.9991867179550825, 0.9994728734963566, 0.9732370034004331, 0.9991967590230232, 0.9809983266405505, 0.9993724679583834, 0.9993774882655257, 0.9995582176592469, 0.9993674482561156, 0.9748334285597089, 0.9982981325883875, 0.9995230757360782]}, {\"categories\": [\"0\", \"1\", \"2\", \"3\", \"4\", \"5\", \"6\", \"7\", \"8\", \"9\", \"10\", \"11\", \"12\", \"13\", \"14\", \"15\", \"16\", \"17\", \"18\", \"19\", \"20\", \"21\"], \"mode\": \"lines\", \"name\": \"precision_score_micro_max\", \"stepped\": true, \"type\": \"scatter\", \"data\": [0.9965159367844686, 0.9995331162747535, 0.9995331162747535, 0.9995331162747535, 0.9995331162747535, 0.9995331162747535, 0.9995331162747535, 0.9995331162747535, 0.9995331162747535, 0.9995331162747535, 0.9995331162747535, 0.9995331162747535, 0.9995331162747535, 0.9995331162747535, 0.9995331162747535, 0.9995331162747535, 0.9995331162747535, 0.9995582176592469, 0.9995582176592469, 0.9995582176592469, 0.9995582176592469, 0.9995582176592469]}], \"average_precision_score_macro\": [{\"categories\": [\"0\", \"1\", \"2\", \"3\", \"4\", \"5\", \"6\", \"7\", \"8\", \"9\", \"10\", \"11\", \"12\", \"13\", \"14\", \"15\", \"16\", \"17\", \"18\", \"19\", \"20\", \"21\"], \"mode\": \"markers\", \"name\": \"average_precision_score_macro\", \"stepped\": false, \"type\": \"scatter\", \"data\": [0.5950482742115816, 0.9203407537890481, 0.8203138929659776, 0.8474772417422587, 0.8450387671920475, 0.8623740762103843, 0.8732613394893023, 0.8684413167785849, 0.8375305992939411, 0.8449738719908796, 0.8485123528222198, 0.9075955677712826, 0.8645588452797147, 0.8509564572342017, 0.8581746891844193, 0.898436308760823, 0.899055952580472, 0.9238404853685491, 0.8957521198806783, 0.8302285896657745, 0.8370179147071654, 0.9218657979061234]}, {\"categories\": [\"0\", \"1\", \"2\", \"3\", \"4\", \"5\", \"6\", \"7\", \"8\", \"9\", \"10\", \"11\", \"12\", \"13\", \"14\", \"15\", \"16\", \"17\", \"18\", \"19\", \"20\", \"21\"], \"mode\": \"lines\", \"name\": \"average_precision_score_macro_max\", \"stepped\": true, \"type\": \"scatter\", \"data\": [0.5950482742115816, 0.9203407537890481, 0.9203407537890481, 0.9203407537890481, 0.9203407537890481, 0.9203407537890481, 0.9203407537890481, 0.9203407537890481, 0.9203407537890481, 0.9203407537890481, 0.9203407537890481, 0.9203407537890481, 0.9203407537890481, 0.9203407537890481, 0.9203407537890481, 0.9203407537890481, 0.9203407537890481, 0.9238404853685491, 0.9238404853685491, 0.9238404853685491, 0.9238404853685491, 0.9238404853685491]}], \"balanced_accuracy\": [{\"categories\": [\"0\", \"1\", \"2\", \"3\", \"4\", \"5\", \"6\", \"7\", \"8\", \"9\", \"10\", \"11\", \"12\", \"13\", \"14\", \"15\", \"16\", \"17\", \"18\", \"19\", \"20\", \"21\"], \"mode\": \"markers\", \"name\": \"balanced_accuracy\", \"stepped\": false, \"type\": \"scatter\", \"data\": [0.7612164249190343, 0.8963526776598707, 0.9166834794278461, 0.7636156151507904, 0.5, 0.9388632737543386, 0.7724788094517713, 0.7958786092879745, 0.9134031076698585, 0.5, 0.8170914381920915, 0.871100463377774, 0.9374724133680554, 0.7740991974225903, 0.9296831602686164, 0.8478680303497073, 0.8506903744842393, 0.8919437109930642, 0.8637718205212591, 0.935246661401241, 0.5, 0.8992565508084702]}, {\"categories\": [\"0\", \"1\", \"2\", \"3\", \"4\", \"5\", \"6\", \"7\", \"8\", \"9\", \"10\", \"11\", \"12\", \"13\", \"14\", \"15\", \"16\", \"17\", \"18\", \"19\", \"20\", \"21\"], \"mode\": \"lines\", \"name\": \"balanced_accuracy_max\", \"stepped\": true, \"type\": \"scatter\", \"data\": [0.7612164249190343, 0.8963526776598707, 0.9166834794278461, 0.9166834794278461, 0.9166834794278461, 0.9388632737543386, 0.9388632737543386, 0.9388632737543386, 0.9388632737543386, 0.9388632737543386, 0.9388632737543386, 0.9388632737543386, 0.9388632737543386, 0.9388632737543386, 0.9388632737543386, 0.9388632737543386, 0.9388632737543386, 0.9388632737543386, 0.9388632737543386, 0.9388632737543386, 0.9388632737543386, 0.9388632737543386]}], \"f1_score_macro\": [{\"categories\": [\"0\", \"1\", \"2\", \"3\", \"4\", \"5\", \"6\", \"7\", \"8\", \"9\", \"10\", \"11\", \"12\", \"13\", \"14\", \"15\", \"16\", \"17\", \"18\", \"19\", \"20\", \"21\"], \"mode\": \"markers\", \"name\": \"f1_score_macro\", \"stepped\": false, \"type\": \"scatter\", \"data\": [0.6704941296998556, 0.9258843038887693, 0.6337913602017458, 0.8383493238722698, 0.49957417043444113, 0.5444171996788718, 0.8470589495996871, 0.852047731202791, 0.6902186540962578, 0.49957417043444113, 0.8631934692828541, 0.913053583225682, 0.5446826703598445, 0.8491542199960236, 0.5631835555482644, 0.8950227503468332, 0.8962728401844297, 0.9285760634510855, 0.8977799514557473, 0.5487756568948519, 0.49957417043444113, 0.9250611283680087]}, {\"categories\": [\"0\", \"1\", \"2\", \"3\", \"4\", \"5\", \"6\", \"7\", \"8\", \"9\", \"10\", \"11\", \"12\", \"13\", \"14\", \"15\", \"16\", \"17\", \"18\", \"19\", \"20\", \"21\"], \"mode\": \"lines\", \"name\": \"f1_score_macro_max\", \"stepped\": true, \"type\": \"scatter\", \"data\": [0.6704941296998556, 0.9258843038887693, 0.9258843038887693, 0.9258843038887693, 0.9258843038887693, 0.9258843038887693, 0.9258843038887693, 0.9258843038887693, 0.9258843038887693, 0.9258843038887693, 0.9258843038887693, 0.9258843038887693, 0.9258843038887693, 0.9258843038887693, 0.9258843038887693, 0.9258843038887693, 0.9258843038887693, 0.9285760634510855, 0.9285760634510855, 0.9285760634510855, 0.9285760634510855, 0.9285760634510855]}], \"AUC_macro\": [{\"categories\": [\"0\", \"1\", \"2\", \"3\", \"4\", \"5\", \"6\", \"7\", \"8\", \"9\", \"10\", \"11\", \"12\", \"13\", \"14\", \"15\", \"16\", \"17\", \"18\", \"19\", \"20\", \"21\"], \"mode\": \"markers\", \"name\": \"AUC_macro\", \"stepped\": false, \"type\": \"scatter\", \"data\": [0.7403747330404911, 0.9843721572189811, 0.9724194987015978, 0.8897701352265273, 0.964199071593597, 0.9814407507646505, 0.9193031972224553, 0.9794978157590651, 0.9756398486502688, 0.9632325588112604, 0.9758527174370194, 0.9400741754595995, 0.9810900912819266, 0.8916454560633339, 0.9825532326049444, 0.9181659092643016, 0.9181799569115912, 0.9836723531210131, 0.9153277770971422, 0.9775573743913505, 0.9677784513234359, 0.9855589969368346]}, {\"categories\": [\"0\", \"1\", \"2\", \"3\", \"4\", \"5\", \"6\", \"7\", \"8\", \"9\", \"10\", \"11\", \"12\", \"13\", \"14\", \"15\", \"16\", \"17\", \"18\", \"19\", \"20\", \"21\"], \"mode\": \"lines\", \"name\": \"AUC_macro_max\", \"stepped\": true, \"type\": \"scatter\", \"data\": [0.7403747330404911, 0.9843721572189811, 0.9843721572189811, 0.9843721572189811, 0.9843721572189811, 0.9843721572189811, 0.9843721572189811, 0.9843721572189811, 0.9843721572189811, 0.9843721572189811, 0.9843721572189811, 0.9843721572189811, 0.9843721572189811, 0.9843721572189811, 0.9843721572189811, 0.9843721572189811, 0.9843721572189811, 0.9843721572189811, 0.9843721572189811, 0.9843721572189811, 0.9843721572189811, 0.9855589969368346]}], \"recall_score_macro\": [{\"categories\": [\"0\", \"1\", \"2\", \"3\", \"4\", \"5\", \"6\", \"7\", \"8\", \"9\", \"10\", \"11\", \"12\", \"13\", \"14\", \"15\", \"16\", \"17\", \"18\", \"19\", \"20\", \"21\"], \"mode\": \"markers\", \"name\": \"recall_score_macro\", \"stepped\": false, \"type\": \"scatter\", \"data\": [0.7612164249190343, 0.8963526776598707, 0.9166834794278461, 0.7636156151507904, 0.5, 0.9388632737543386, 0.7724788094517713, 0.7958786092879745, 0.9134031076698585, 0.5, 0.8170914381920915, 0.871100463377774, 0.9374724133680554, 0.7740991974225903, 0.9296831602686164, 0.8478680303497073, 0.8506903744842393, 0.8919437109930642, 0.8637718205212591, 0.935246661401241, 0.5, 0.8992565508084702]}, {\"categories\": [\"0\", \"1\", \"2\", \"3\", \"4\", \"5\", \"6\", \"7\", \"8\", \"9\", \"10\", \"11\", \"12\", \"13\", \"14\", \"15\", \"16\", \"17\", \"18\", \"19\", \"20\", \"21\"], \"mode\": \"lines\", \"name\": \"recall_score_macro_max\", \"stepped\": true, \"type\": \"scatter\", \"data\": [0.7612164249190343, 0.8963526776598707, 0.9166834794278461, 0.9166834794278461, 0.9166834794278461, 0.9388632737543386, 0.9388632737543386, 0.9388632737543386, 0.9388632737543386, 0.9388632737543386, 0.9388632737543386, 0.9388632737543386, 0.9388632737543386, 0.9388632737543386, 0.9388632737543386, 0.9388632737543386, 0.9388632737543386, 0.9388632737543386, 0.9388632737543386, 0.9388632737543386, 0.9388632737543386, 0.9388632737543386]}], \"AUC_weighted\": [{\"categories\": [\"0\", \"1\", \"2\", \"3\", \"4\", \"5\", \"6\", \"7\", \"8\", \"9\", \"10\", \"11\", \"12\", \"13\", \"14\", \"15\", \"16\", \"17\", \"18\", \"19\", \"20\", \"21\"], \"mode\": \"markers\", \"name\": \"AUC_weighted\", \"stepped\": false, \"type\": \"scatter\", \"data\": [0.7412299394976828, 0.9843715004604242, 0.972419498701598, 0.8897701352265273, 0.964199071593597, 0.981442010071433, 0.9193031972224553, 0.9794978157590654, 0.9756398486502689, 0.9632325588112604, 0.9758527174370194, 0.9400741754595995, 0.9810893860735118, 0.8916454560633338, 0.9825532326049445, 0.9181659092643014, 0.9181799569115912, 0.9836728900298993, 0.9153277770971422, 0.9775573743913505, 0.9677784513234357, 0.9855589969368346]}, {\"categories\": [\"0\", \"1\", \"2\", \"3\", \"4\", \"5\", \"6\", \"7\", \"8\", \"9\", \"10\", \"11\", \"12\", \"13\", \"14\", \"15\", \"16\", \"17\", \"18\", \"19\", \"20\", \"21\"], \"mode\": \"lines\", \"name\": \"AUC_weighted_max\", \"stepped\": true, \"type\": \"scatter\", \"data\": [0.7412299394976828, 0.9843715004604242, 0.9843715004604242, 0.9843715004604242, 0.9843715004604242, 0.9843715004604242, 0.9843715004604242, 0.9843715004604242, 0.9843715004604242, 0.9843715004604242, 0.9843715004604242, 0.9843715004604242, 0.9843715004604242, 0.9843715004604242, 0.9843715004604242, 0.9843715004604242, 0.9843715004604242, 0.9843715004604242, 0.9843715004604242, 0.9843715004604242, 0.9843715004604242, 0.9855589969368346]}], \"average_precision_score_micro\": [{\"categories\": [\"0\", \"1\", \"2\", \"3\", \"4\", \"5\", \"6\", \"7\", \"8\", \"9\", \"10\", \"11\", \"12\", \"13\", \"14\", \"15\", \"16\", \"17\", \"18\", \"19\", \"20\", \"21\"], \"mode\": \"markers\", \"name\": \"average_precision_score_micro\", \"stepped\": false, \"type\": \"scatter\", \"data\": [0.995429130376138, 0.9999435187257378, 0.9984107112216741, 0.9994496497768152, 0.9998647024865678, 0.9919427756444971, 0.9996005136188512, 0.9994918997357306, 0.998454476545441, 0.9998677482505439, 0.9999043469909455, 0.9996970430128626, 0.9918168640190305, 0.9994536891459708, 0.9977446230651464, 0.9995842281604438, 0.9995842831207993, 0.9999443601383097, 0.9995694473470952, 0.9966689422094136, 0.9998796757571474, 0.9999429145162747]}, {\"categories\": [\"0\", \"1\", \"2\", \"3\", \"4\", \"5\", \"6\", \"7\", \"8\", \"9\", \"10\", \"11\", \"12\", \"13\", \"14\", \"15\", \"16\", \"17\", \"18\", \"19\", \"20\", \"21\"], \"mode\": \"lines\", \"name\": \"average_precision_score_micro_max\", \"stepped\": true, \"type\": \"scatter\", \"data\": [0.995429130376138, 0.9999435187257378, 0.9999435187257378, 0.9999435187257378, 0.9999435187257378, 0.9999435187257378, 0.9999435187257378, 0.9999435187257378, 0.9999435187257378, 0.9999435187257378, 0.9999435187257378, 0.9999435187257378, 0.9999435187257378, 0.9999435187257378, 0.9999435187257378, 0.9999435187257378, 0.9999435187257378, 0.9999443601383097, 0.9999443601383097, 0.9999443601383097, 0.9999443601383097, 0.9999443601383097]}], \"norm_macro_recall\": [{\"categories\": [\"0\", \"1\", \"2\", \"3\", \"4\", \"5\", \"6\", \"7\", \"8\", \"9\", \"10\", \"11\", \"12\", \"13\", \"14\", \"15\", \"16\", \"17\", \"18\", \"19\", \"20\", \"21\"], \"mode\": \"markers\", \"name\": \"norm_macro_recall\", \"stepped\": false, \"type\": \"scatter\", \"data\": [0.5224328498380687, 0.7927053553197414, 0.8333669588556923, 0.5272312303015806, 0.0, 0.8777265475086772, 0.5449576189035427, 0.5917572185759491, 0.8268062153397171, 0.0, 0.634182876384183, 0.7422009267555479, 0.8749448267361108, 0.5481983948451804, 0.8593663205372328, 0.6957360606994145, 0.7013807489684788, 0.7838874219861286, 0.7275436410425181, 0.8704933228024819, 0.0, 0.7985131016169404]}, {\"categories\": [\"0\", \"1\", \"2\", \"3\", \"4\", \"5\", \"6\", \"7\", \"8\", \"9\", \"10\", \"11\", \"12\", \"13\", \"14\", \"15\", \"16\", \"17\", \"18\", \"19\", \"20\", \"21\"], \"mode\": \"lines\", \"name\": \"norm_macro_recall_max\", \"stepped\": true, \"type\": \"scatter\", \"data\": [0.5224328498380687, 0.7927053553197414, 0.8333669588556923, 0.8333669588556923, 0.8333669588556923, 0.8777265475086772, 0.8777265475086772, 0.8777265475086772, 0.8777265475086772, 0.8777265475086772, 0.8777265475086772, 0.8777265475086772, 0.8777265475086772, 0.8777265475086772, 0.8777265475086772, 0.8777265475086772, 0.8777265475086772, 0.8777265475086772, 0.8777265475086772, 0.8777265475086772, 0.8777265475086772, 0.8777265475086772]}], \"accuracy\": [{\"categories\": [\"0\", \"1\", \"2\", \"3\", \"4\", \"5\", \"6\", \"7\", \"8\", \"9\", \"10\", \"11\", \"12\", \"13\", \"14\", \"15\", \"16\", \"17\", \"18\", \"19\", \"20\", \"21\"], \"mode\": \"markers\", \"name\": \"accuracy\", \"stepped\": false, \"type\": \"scatter\", \"data\": [0.9965159367844686, 0.9995331162747535, 0.9904514600439467, 0.9991465564052552, 0.9982981325883875, 0.9730211306469662, 0.9991867186355664, 0.9991565966414934, 0.9954215280492716, 0.9982981325883875, 0.9991867179550825, 0.9994728734963566, 0.9732370034004331, 0.9991967590230232, 0.9809983266405505, 0.9993724679583834, 0.9993774882655257, 0.9995582176592469, 0.9993674482561156, 0.9748334285597089, 0.9982981325883875, 0.9995230757360782]}, {\"categories\": [\"0\", \"1\", \"2\", \"3\", \"4\", \"5\", \"6\", \"7\", \"8\", \"9\", \"10\", \"11\", \"12\", \"13\", \"14\", \"15\", \"16\", \"17\", \"18\", \"19\", \"20\", \"21\"], \"mode\": \"lines\", \"name\": \"accuracy_max\", \"stepped\": true, \"type\": \"scatter\", \"data\": [0.9965159367844686, 0.9995331162747535, 0.9995331162747535, 0.9995331162747535, 0.9995331162747535, 0.9995331162747535, 0.9995331162747535, 0.9995331162747535, 0.9995331162747535, 0.9995331162747535, 0.9995331162747535, 0.9995331162747535, 0.9995331162747535, 0.9995331162747535, 0.9995331162747535, 0.9995331162747535, 0.9995331162747535, 0.9995582176592469, 0.9995582176592469, 0.9995582176592469, 0.9995582176592469, 0.9995582176592469]}], \"f1_score_micro\": [{\"categories\": [\"0\", \"1\", \"2\", \"3\", \"4\", \"5\", \"6\", \"7\", \"8\", \"9\", \"10\", \"11\", \"12\", \"13\", \"14\", \"15\", \"16\", \"17\", \"18\", \"19\", \"20\", \"21\"], \"mode\": \"markers\", \"name\": \"f1_score_micro\", \"stepped\": false, \"type\": \"scatter\", \"data\": [0.9965159367844686, 0.9995331162747535, 0.9904514600439467, 0.9991465564052552, 0.9982981325883875, 0.9730211306469662, 0.9991867186355664, 0.9991565966414934, 0.9954215280492716, 0.9982981325883875, 0.9991867179550825, 0.9994728734963566, 0.9732370034004331, 0.9991967590230232, 0.9809983266405505, 0.9993724679583834, 0.9993774882655257, 0.9995582176592469, 0.9993674482561156, 0.9748334285597089, 0.9982981325883875, 0.9995230757360782]}, {\"categories\": [\"0\", \"1\", \"2\", \"3\", \"4\", \"5\", \"6\", \"7\", \"8\", \"9\", \"10\", \"11\", \"12\", \"13\", \"14\", \"15\", \"16\", \"17\", \"18\", \"19\", \"20\", \"21\"], \"mode\": \"lines\", \"name\": \"f1_score_micro_max\", \"stepped\": true, \"type\": \"scatter\", \"data\": [0.9965159367844686, 0.9995331162747535, 0.9995331162747535, 0.9995331162747535, 0.9995331162747535, 0.9995331162747535, 0.9995331162747535, 0.9995331162747535, 0.9995331162747535, 0.9995331162747535, 0.9995331162747535, 0.9995331162747535, 0.9995331162747535, 0.9995331162747535, 0.9995331162747535, 0.9995331162747535, 0.9995331162747535, 0.9995582176592469, 0.9995582176592469, 0.9995582176592469, 0.9995582176592469, 0.9995582176592469]}], \"precision_score_weighted\": [{\"categories\": [\"0\", \"1\", \"2\", \"3\", \"4\", \"5\", \"6\", \"7\", \"8\", \"9\", \"10\", \"11\", \"12\", \"13\", \"14\", \"15\", \"16\", \"17\", \"18\", \"19\", \"20\", \"21\"], \"mode\": \"markers\", \"name\": \"precision_score_weighted\", \"stepped\": false, \"type\": \"scatter\", \"data\": [0.9979252821905772, 0.9995144514093454, 0.9983195137668756, 0.9991074996837987, 0.9965991644039164, 0.9982256902824512, 0.9991564233697963, 0.9990923091158675, 0.9984356304789789, 0.9965991644039164, 0.9991232586932951, 0.9994491450082063, 0.9982210048774074, 0.9991704964438957, 0.9982140046986915, 0.9993403131582893, 0.999345494658311, 0.999542487611157, 0.9993369063735806, 0.9982181541062619, 0.9965991644039164, 0.999505173352787]}, {\"categories\": [\"0\", \"1\", \"2\", \"3\", \"4\", \"5\", \"6\", \"7\", \"8\", \"9\", \"10\", \"11\", \"12\", \"13\", \"14\", \"15\", \"16\", \"17\", \"18\", \"19\", \"20\", \"21\"], \"mode\": \"lines\", \"name\": \"precision_score_weighted_max\", \"stepped\": true, \"type\": \"scatter\", \"data\": [0.9979252821905772, 0.9995144514093454, 0.9995144514093454, 0.9995144514093454, 0.9995144514093454, 0.9995144514093454, 0.9995144514093454, 0.9995144514093454, 0.9995144514093454, 0.9995144514093454, 0.9995144514093454, 0.9995144514093454, 0.9995144514093454, 0.9995144514093454, 0.9995144514093454, 0.9995144514093454, 0.9995144514093454, 0.999542487611157, 0.999542487611157, 0.999542487611157, 0.999542487611157, 0.999542487611157]}], \"f1_score_weighted\": [{\"categories\": [\"0\", \"1\", \"2\", \"3\", \"4\", \"5\", \"6\", \"7\", \"8\", \"9\", \"10\", \"11\", \"12\", \"13\", \"14\", \"15\", \"16\", \"17\", \"18\", \"19\", \"20\", \"21\"], \"mode\": \"markers\", \"name\": \"f1_score_weighted\", \"stepped\": false, \"type\": \"scatter\", \"data\": [0.9971358055656973, 0.9995154467442933, 0.9939592783456149, 0.9990249608206709, 0.997447924307893, 0.984799968289349, 0.999074902001122, 0.9990761192179621, 0.9966572433726658, 0.997447924307893, 0.999127957364453, 0.9994425555129868, 0.9849118431129966, 0.9990865992563623, 0.9889397053279786, 0.999330054132963, 0.9993370003310144, 0.9995373680938268, 0.9993381726777703, 0.9857389133015974, 0.997447924307893, 0.9995076654699137]}, {\"categories\": [\"0\", \"1\", \"2\", \"3\", \"4\", \"5\", \"6\", \"7\", \"8\", \"9\", \"10\", \"11\", \"12\", \"13\", \"14\", \"15\", \"16\", \"17\", \"18\", \"19\", \"20\", \"21\"], \"mode\": \"lines\", \"name\": \"f1_score_weighted_max\", \"stepped\": true, \"type\": \"scatter\", \"data\": [0.9971358055656973, 0.9995154467442933, 0.9995154467442933, 0.9995154467442933, 0.9995154467442933, 0.9995154467442933, 0.9995154467442933, 0.9995154467442933, 0.9995154467442933, 0.9995154467442933, 0.9995154467442933, 0.9995154467442933, 0.9995154467442933, 0.9995154467442933, 0.9995154467442933, 0.9995154467442933, 0.9995154467442933, 0.9995373680938268, 0.9995373680938268, 0.9995373680938268, 0.9995373680938268, 0.9995373680938268]}], \"recall_score_weighted\": [{\"categories\": [\"0\", \"1\", \"2\", \"3\", \"4\", \"5\", \"6\", \"7\", \"8\", \"9\", \"10\", \"11\", \"12\", \"13\", \"14\", \"15\", \"16\", \"17\", \"18\", \"19\", \"20\", \"21\"], \"mode\": \"markers\", \"name\": \"recall_score_weighted\", \"stepped\": false, \"type\": \"scatter\", \"data\": [0.9965159367844686, 0.9995331162747535, 0.9904514600439467, 0.9991465564052552, 0.9982981325883875, 0.9730211306469662, 0.9991867186355664, 0.9991565966414934, 0.9954215280492716, 0.9982981325883875, 0.9991867179550825, 0.9994728734963566, 0.9732370034004331, 0.9991967590230232, 0.9809983266405505, 0.9993724679583834, 0.9993774882655257, 0.9995582176592469, 0.9993674482561156, 0.9748334285597089, 0.9982981325883875, 0.9995230757360782]}, {\"categories\": [\"0\", \"1\", \"2\", \"3\", \"4\", \"5\", \"6\", \"7\", \"8\", \"9\", \"10\", \"11\", \"12\", \"13\", \"14\", \"15\", \"16\", \"17\", \"18\", \"19\", \"20\", \"21\"], \"mode\": \"lines\", \"name\": \"recall_score_weighted_max\", \"stepped\": true, \"type\": \"scatter\", \"data\": [0.9965159367844686, 0.9995331162747535, 0.9995331162747535, 0.9995331162747535, 0.9995331162747535, 0.9995331162747535, 0.9995331162747535, 0.9995331162747535, 0.9995331162747535, 0.9995331162747535, 0.9995331162747535, 0.9995331162747535, 0.9995331162747535, 0.9995331162747535, 0.9995331162747535, 0.9995331162747535, 0.9995331162747535, 0.9995582176592469, 0.9995582176592469, 0.9995582176592469, 0.9995582176592469, 0.9995582176592469]}], \"log_loss\": [{\"categories\": [\"0\", \"1\", \"2\", \"3\", \"4\", \"5\", \"6\", \"7\", \"8\", \"9\", \"10\", \"11\", \"12\", \"13\", \"14\", \"15\", \"16\", \"17\", \"18\", \"19\", \"20\", \"21\"], \"mode\": \"markers\", \"name\": \"log_loss\", \"stepped\": false, \"type\": \"scatter\", \"data\": [0.09710069811420603, 0.0026074881259968027, 0.5332728548181432, 0.1994755006803661, 0.005768597316832239, 0.10949099465370032, 0.0432547239924988, 0.004586146868329854, 0.5434702706520539, 0.009582188980867656, 0.0037550848265590023, 0.19865572920174782, 0.10968484924096548, 0.19926878216044572, 0.15731783303235614, 0.19888982074408124, 0.19886059647167278, 0.0025376231876947874, 0.198858711928967, 0.2094730930929849, 0.008167122125328516, 0.029667428341715898]}, {\"categories\": [\"0\", \"1\", \"2\", \"3\", \"4\", \"5\", \"6\", \"7\", \"8\", \"9\", \"10\", \"11\", \"12\", \"13\", \"14\", \"15\", \"16\", \"17\", \"18\", \"19\", \"20\", \"21\"], \"mode\": \"lines\", \"name\": \"log_loss_min\", \"stepped\": true, \"type\": \"scatter\", \"data\": [0.09710069811420603, 0.0026074881259968027, 0.0026074881259968027, 0.0026074881259968027, 0.0026074881259968027, 0.0026074881259968027, 0.0026074881259968027, 0.0026074881259968027, 0.0026074881259968027, 0.0026074881259968027, 0.0026074881259968027, 0.0026074881259968027, 0.0026074881259968027, 0.0026074881259968027, 0.0026074881259968027, 0.0026074881259968027, 0.0026074881259968027, 0.0025376231876947874, 0.0025376231876947874, 0.0025376231876947874, 0.0025376231876947874, 0.0025376231876947874]}], \"recall_score_micro\": [{\"categories\": [\"0\", \"1\", \"2\", \"3\", \"4\", \"5\", \"6\", \"7\", \"8\", \"9\", \"10\", \"11\", \"12\", \"13\", \"14\", \"15\", \"16\", \"17\", \"18\", \"19\", \"20\", \"21\"], \"mode\": \"markers\", \"name\": \"recall_score_micro\", \"stepped\": false, \"type\": \"scatter\", \"data\": [0.9965159367844686, 0.9995331162747535, 0.9904514600439467, 0.9991465564052552, 0.9982981325883875, 0.9730211306469662, 0.9991867186355664, 0.9991565966414934, 0.9954215280492716, 0.9982981325883875, 0.9991867179550825, 0.9994728734963566, 0.9732370034004331, 0.9991967590230232, 0.9809983266405505, 0.9993724679583834, 0.9993774882655257, 0.9995582176592469, 0.9993674482561156, 0.9748334285597089, 0.9982981325883875, 0.9995230757360782]}, {\"categories\": [\"0\", \"1\", \"2\", \"3\", \"4\", \"5\", \"6\", \"7\", \"8\", \"9\", \"10\", \"11\", \"12\", \"13\", \"14\", \"15\", \"16\", \"17\", \"18\", \"19\", \"20\", \"21\"], \"mode\": \"lines\", \"name\": \"recall_score_micro_max\", \"stepped\": true, \"type\": \"scatter\", \"data\": [0.9965159367844686, 0.9995331162747535, 0.9995331162747535, 0.9995331162747535, 0.9995331162747535, 0.9995331162747535, 0.9995331162747535, 0.9995331162747535, 0.9995331162747535, 0.9995331162747535, 0.9995331162747535, 0.9995331162747535, 0.9995331162747535, 0.9995331162747535, 0.9995331162747535, 0.9995331162747535, 0.9995331162747535, 0.9995582176592469, 0.9995582176592469, 0.9995582176592469, 0.9995582176592469, 0.9995582176592469]}], \"matthews_correlation\": [{\"categories\": [\"0\", \"1\", \"2\", \"3\", \"4\", \"5\", \"6\", \"7\", \"8\", \"9\", \"10\", \"11\", \"12\", \"13\", \"14\", \"15\", \"16\", \"17\", \"18\", \"19\", \"20\", \"21\"], \"mode\": \"markers\", \"name\": \"matthews_correlation\", \"stepped\": false, \"type\": \"scatter\", \"data\": [0.36460002216997417, 0.8542411821792641, 0.36393268727017797, 0.7062065740282875, 0.0, 0.21804447831458074, 0.7220462514908466, 0.7183367674039768, 0.4531016246890241, 0.0, 0.7343246341833698, 0.8315475792134887, 0.2181887776991318, 0.7263158663366447, 0.2512830199222731, 0.7977645104723924, 0.7997485005925672, 0.86098241913849, 0.799666959613849, 0.22536552564577528, 0.0, 0.8520425312027452]}, {\"categories\": [\"0\", \"1\", \"2\", \"3\", \"4\", \"5\", \"6\", \"7\", \"8\", \"9\", \"10\", \"11\", \"12\", \"13\", \"14\", \"15\", \"16\", \"17\", \"18\", \"19\", \"20\", \"21\"], \"mode\": \"lines\", \"name\": \"matthews_correlation_max\", \"stepped\": true, \"type\": \"scatter\", \"data\": [0.36460002216997417, 0.8542411821792641, 0.8542411821792641, 0.8542411821792641, 0.8542411821792641, 0.8542411821792641, 0.8542411821792641, 0.8542411821792641, 0.8542411821792641, 0.8542411821792641, 0.8542411821792641, 0.8542411821792641, 0.8542411821792641, 0.8542411821792641, 0.8542411821792641, 0.8542411821792641, 0.8542411821792641, 0.86098241913849, 0.86098241913849, 0.86098241913849, 0.86098241913849, 0.86098241913849]}]}, \"metricName\": null, \"primaryMetricName\": \"average_precision_score_weighted\", \"showLegend\": false}, \"run_metrics\": [{\"name\": \"recall_score_weighted\", \"run_id\": \"AutoML_fe8fdb6e-e088-486b-8f24-f4211bfb3334\", \"categories\": [0], \"series\": [{\"data\": [0.9995582176592469]}]}, {\"name\": \"accuracy\", \"run_id\": \"AutoML_fe8fdb6e-e088-486b-8f24-f4211bfb3334\", \"categories\": [0], \"series\": [{\"data\": [0.9995582176592469]}]}, {\"name\": \"log_loss\", \"run_id\": \"AutoML_fe8fdb6e-e088-486b-8f24-f4211bfb3334\", \"categories\": [0], \"series\": [{\"data\": [0.0025376231876947874]}]}, {\"name\": \"balanced_accuracy\", \"run_id\": \"AutoML_fe8fdb6e-e088-486b-8f24-f4211bfb3334\", \"categories\": [0], \"series\": [{\"data\": [0.8919437109930642]}]}, {\"name\": \"f1_score_macro\", \"run_id\": \"AutoML_fe8fdb6e-e088-486b-8f24-f4211bfb3334\", \"categories\": [0], \"series\": [{\"data\": [0.9285760634510855]}]}, {\"name\": \"recall_score_micro\", \"run_id\": \"AutoML_fe8fdb6e-e088-486b-8f24-f4211bfb3334\", \"categories\": [0], \"series\": [{\"data\": [0.9995582176592469]}]}, {\"name\": \"matthews_correlation\", \"run_id\": \"AutoML_fe8fdb6e-e088-486b-8f24-f4211bfb3334\", \"categories\": [0], \"series\": [{\"data\": [0.86098241913849]}]}, {\"name\": \"precision_score_weighted\", \"run_id\": \"AutoML_fe8fdb6e-e088-486b-8f24-f4211bfb3334\", \"categories\": [0], \"series\": [{\"data\": [0.999542487611157]}]}, {\"name\": \"average_precision_score_micro\", \"run_id\": \"AutoML_fe8fdb6e-e088-486b-8f24-f4211bfb3334\", \"categories\": [0], \"series\": [{\"data\": [0.9999443601383097]}]}, {\"name\": \"f1_score_weighted\", \"run_id\": \"AutoML_fe8fdb6e-e088-486b-8f24-f4211bfb3334\", \"categories\": [0], \"series\": [{\"data\": [0.9995373680938268]}]}, {\"name\": \"f1_score_micro\", \"run_id\": \"AutoML_fe8fdb6e-e088-486b-8f24-f4211bfb3334\", \"categories\": [0], \"series\": [{\"data\": [0.9995582176592469]}]}, {\"name\": \"recall_score_macro\", \"run_id\": \"AutoML_fe8fdb6e-e088-486b-8f24-f4211bfb3334\", \"categories\": [0], \"series\": [{\"data\": [0.8919437109930642]}]}, {\"name\": \"norm_macro_recall\", \"run_id\": \"AutoML_fe8fdb6e-e088-486b-8f24-f4211bfb3334\", \"categories\": [0], \"series\": [{\"data\": [0.7838874219861286]}]}, {\"name\": \"AUC_weighted\", \"run_id\": \"AutoML_fe8fdb6e-e088-486b-8f24-f4211bfb3334\", \"categories\": [0], \"series\": [{\"data\": [0.9836728900298993]}]}, {\"name\": \"precision_score_micro\", \"run_id\": \"AutoML_fe8fdb6e-e088-486b-8f24-f4211bfb3334\", \"categories\": [0], \"series\": [{\"data\": [0.9995582176592469]}]}, {\"name\": \"precision_score_macro\", \"run_id\": \"AutoML_fe8fdb6e-e088-486b-8f24-f4211bfb3334\", \"categories\": [0], \"series\": [{\"data\": [0.972860865798698]}]}, {\"name\": \"average_precision_score_macro\", \"run_id\": \"AutoML_fe8fdb6e-e088-486b-8f24-f4211bfb3334\", \"categories\": [0], \"series\": [{\"data\": [0.9238404853685491]}]}, {\"name\": \"AUC_macro\", \"run_id\": \"AutoML_fe8fdb6e-e088-486b-8f24-f4211bfb3334\", \"categories\": [0], \"series\": [{\"data\": [0.9836723531210131]}]}, {\"name\": \"weighted_accuracy\", \"run_id\": \"AutoML_fe8fdb6e-e088-486b-8f24-f4211bfb3334\", \"categories\": [0], \"series\": [{\"data\": [0.999923944368916]}]}, {\"name\": \"AUC_micro\", \"run_id\": \"AutoML_fe8fdb6e-e088-486b-8f24-f4211bfb3334\", \"categories\": [0], \"series\": [{\"data\": [0.9999445299777684]}]}, {\"name\": \"average_precision_score_weighted\", \"run_id\": \"AutoML_fe8fdb6e-e088-486b-8f24-f4211bfb3334\", \"categories\": [0], \"series\": [{\"data\": [0.9997086415272535]}]}], \"run_logs\": \"\\nRun is completed.\", \"graph\": {}, \"widget_settings\": {\"childWidgetDisplay\": \"popup\", \"send_telemetry\": false, \"log_level\": \"INFO\", \"sdk_version\": \"1.38.0\"}, \"loading\": false}"
     },
     "metadata": {},
     "output_type": "display_data"
    }
   ],
   "source": [
    "from azureml.widgets import RunDetails\n",
    "\n",
    "RunDetails(local_run).show()"
   ]
  },
  {
   "cell_type": "markdown",
   "metadata": {},
   "source": [
    "### Analyze results\n",
    "\n",
    "#### Retrieve the Best Model\n",
    "\n",
    "Below we select the best pipeline from our iterations. The `get_output` method on `automl_classifier` returns the best run and the fitted model for the last invocation. Overloads on `get_output` allow you to retrieve the best run and fitted model for *any* logged metric or for a particular *iteration*."
   ]
  },
  {
   "cell_type": "code",
   "execution_count": 8,
   "metadata": {
    "gather": {
     "logged": 1646940477107
    }
   },
   "outputs": [
    {
     "data": {
      "text/plain": [
       "PipelineWithYTransformations(Pipeline={'memory': None,\n",
       "                                       'steps': [('datatransformer',\n",
       "                                                  DataTransformer(enable_dnn=False, enable_feature_sweeping=True, feature_sweeping_config={}, feature_sweeping_timeout=86400, featurization_config=None, force_text_dnn=False, is_cross_validation=True, is_onnx_compatible=False, observer=None, task='classification', working_dir='/mn...\n",
       "                                                  XGBoostClassifier(booster='gbtree', colsample_bytree=1, eta=0.01, gamma=0, max_depth=6, max_leaves=3, n_estimators=100, n_jobs=1, objective='reg:logistic', problem_info=ProblemInfo(\n",
       "    gpu_training_param_dict={'processing_unit_type': 'cpu'}\n",
       "), random_state=0, reg_alpha=0.10416666666666667, reg_lambda=2.5, subsample=0.7, tree_method='auto'))],\n",
       "                                       'verbose': False},\n",
       "                             y_transformer={},\n",
       "                             y_transformer_name='LabelEncoder')"
      ]
     },
     "execution_count": 8,
     "metadata": {},
     "output_type": "execute_result"
    }
   ],
   "source": [
    "best_run, fitted_model = local_run.get_output()\n",
    "fitted_model"
   ]
  },
  {
   "cell_type": "markdown",
   "metadata": {},
   "source": [
    "#### Print the properties of the model\n",
    "The fitted_model is a python object and you can read the different properties of the object.\n"
   ]
  },
  {
   "cell_type": "markdown",
   "metadata": {},
   "source": [
    "## Tests\n",
    "\n",
    "Now that the model is trained, split the data in the same way the data was split for training (The difference here is the data is being split locally) and then run the test data through the trained model to get the predicted values."
   ]
  },
  {
   "cell_type": "code",
   "execution_count": 9,
   "metadata": {
    "gather": {
     "logged": 1646952259398
    }
   },
   "outputs": [],
   "source": [
    "# convert the test data to dataframe\n",
    "X_test_df = validation_data.drop_columns(columns=[label_column_name]).to_pandas_dataframe()\n",
    "\n",
    "y_test_df = validation_data.keep_columns(columns=[label_column_name], validate=True).to_pandas_dataframe()"
   ]
  },
  {
   "cell_type": "code",
   "execution_count": 10,
   "metadata": {
    "gather": {
     "logged": 1646940491212
    }
   },
   "outputs": [
    {
     "data": {
      "text/plain": [
       "array([False, False, False, ..., False, False, False])"
      ]
     },
     "execution_count": 10,
     "metadata": {},
     "output_type": "execute_result"
    }
   ],
   "source": [
    "# call the predict functions on the model\n",
    "y_pred = fitted_model.predict(X_test_df)\n",
    "y_pred"
   ]
  },
  {
   "cell_type": "markdown",
   "metadata": {},
   "source": [
    "### Calculate metrics for the prediction\n",
    "\n",
    "Now visualize the data on a scatter plot to show what our truth (actual) values are compared to the predicted values \n",
    "from the trained model that was returned."
   ]
  },
  {
   "cell_type": "code",
   "execution_count": 11,
   "metadata": {
    "gather": {
     "logged": 1646940491935
    }
   },
   "outputs": [
    {
     "data": {
      "image/png": "[encoded data removed]",
      "text/plain": [
       "<Figure size 432x288 with 2 Axes>"
      ]
     },
     "metadata": {
      "needs_background": "light"
     },
     "output_type": "display_data"
    }
   ],
   "source": [
    "from sklearn.metrics import confusion_matrix\n",
    "import numpy as np\n",
    "import itertools\n",
    "\n",
    "cf = confusion_matrix(y_test_df.values, y_pred)\n",
    "plt.imshow(cf, cmap=plt.cm.Blues, interpolation=\"nearest\")\n",
    "plt.colorbar()\n",
    "plt.title(\"Confusion Matrix\")\n",
    "plt.xlabel(\"Predicted\")\n",
    "plt.ylabel(\"Actual\")\n",
    "class_labels = [\"False\", \"True\"]\n",
    "tick_marks = np.arange(len(class_labels))\n",
    "plt.xticks(tick_marks, class_labels)\n",
    "plt.yticks([-0.5, 0, 1, 1.5], [\"\", \"False\", \"True\", \"\"])\n",
    "# plotting text value inside cells\n",
    "thresh = cf.max() / 2.0\n",
    "for i, j in itertools.product(range(cf.shape[0]), range(cf.shape[1])):\n",
    "    plt.text(\n",
    "        j,\n",
    "        i,\n",
    "        format(cf[i, j], \"d\"),\n",
    "        horizontalalignment=\"center\",\n",
    "        color=\"white\" if cf[i, j] > thresh else \"black\",\n",
    "    )\n",
    "plt.show()"
   ]
  },
  {
   "cell_type": "markdown",
   "metadata": {},
   "source": [
    "## Explanation\n",
    "In this section, we will show how to compute model explanations and visualize the explanations using azureml-interpret package. We will also show how to run the automl model and the explainer model through deploying an AKS web service.\n",
    "\n",
    "Besides retrieving an existing model explanation for an AutoML model, you can also explain your AutoML model with different test data. The following steps will allow you to compute and visualize engineered feature importance based on your test data.\n",
    "\n",
    "### Run the explanation\n",
    "#### Download the engineered feature importance from artifact store\n",
    "You can use ExplanationClient to download the engineered feature explanations from the artifact store of the best_run. You can also use azure portal url to view the dash board visualization of the feature importance values of the engineered features."
   ]
  },
  {
   "cell_type": "code",
   "execution_count": 12,
   "metadata": {
    "gather": {
     "logged": 1646940501157
    }
   },
   "outputs": [
    {
     "name": "stderr",
     "output_type": "stream",
     "text": [
      "2022-11-07:15:52:03,84 INFO     [explanation_client.py:334] Using default datastore for uploads\n"
     ]
    },
    {
     "name": "stdout",
     "output_type": "stream",
     "text": [
      "{'V14_MeanImputer': 0.019575940409343153, 'V10_MeanImputer': 0.011499769287777321, 'V4_MeanImputer': 0.005637783872575707, 'V17_MeanImputer': 0.004459626972453638, 'V12_MeanImputer': 0.003565140738514172, 'V7_MeanImputer': 0.0025651694756622964, 'V26_MeanImputer': 0.0017843363894869848, 'Amount_MeanImputer': 0.0014816940111489893, 'V1_MeanImputer': 0.0012780987212387173, 'V16_MeanImputer': 0.0010801511619082994, 'V11_MeanImputer': 0.001031177995109054, 'V2_MeanImputer': 0.000979830233516366, 'V8_MeanImputer': 0.0009026733994984286, 'Time_MeanImputer': 0.0007925002130747267, 'V18_MeanImputer': 0.0006921117757884181, 'V13_MeanImputer': 0.0006819455487990739, 'V15_MeanImputer': 0.0006311020761296946, 'V6_MeanImputer': 0.0006134017996192753, 'V9_MeanImputer': 0.0006067665547211368, 'V20_MeanImputer': 0.0004839449174715578, 'V19_MeanImputer': 0.00046862994491256364, 'V21_MeanImputer': 0.00045016610563165945, 'V28_MeanImputer': 0.0004303300123750992, 'V27_MeanImputer': 0.00041383037692393414, 'V23_MeanImputer': 0.00035376640899825257, 'V25_MeanImputer': 0.00035281105558686955, 'V22_MeanImputer': 0.0003507711183980433, 'V3_MeanImputer': 0.0003095289576503617, 'V5_MeanImputer': 0.00015613945574982044, 'V24_MeanImputer': 0.00013028226017705003}\n",
      "You can visualize the engineered explanations under the 'Explanations (preview)' tab in the AutoML run at:-\n",
      "https://ml.azure.com/runs/AutoML_fe8fdb6e-e088-486b-8f24-f4211bfb3334_17?wsid=/subscriptions/d83b98a9-eaa6-475f-9ae6-1ef35394a1e5/resourcegroups/rg-ml-workspace/workspaces/shepml&tid=72f988bf-86f1-41af-91ab-2d7cd011db47\n"
     ]
    }
   ],
   "source": [
    "client = ExplanationClient.from_run(best_run)\n",
    "engineered_explanations = client.download_model_explanation(raw=False)\n",
    "print(engineered_explanations.get_feature_importance_dict())\n",
    "print(\n",
    "    \"You can visualize the engineered explanations under the 'Explanations (preview)' tab in the AutoML run at:-\\n\"\n",
    "    + best_run.get_portal_url()\n",
    ")"
   ]
  },
  {
   "cell_type": "markdown",
   "metadata": {},
   "source": [
    "#### Download the raw feature importance from artifact store\n",
    "You can use ExplanationClient to download the raw feature explanations from the artifact store of the best_run. You can also use azure portal url to view the dash board visualization of the feature importance values of the raw features."
   ]
  },
  {
   "cell_type": "code",
   "execution_count": 13,
   "metadata": {
    "gather": {
     "logged": 1646940512993
    }
   },
   "outputs": [
    {
     "name": "stdout",
     "output_type": "stream",
     "text": [
      "{'V14': 0.019575940409343153, 'V10': 0.011499769287777321, 'V4': 0.005637783872575707, 'V17': 0.004459626972453638, 'V12': 0.003565140738514172, 'V7': 0.0025651694756622964, 'V26': 0.0017843363894869848, 'Amount': 0.0014816940111489893, 'V1': 0.0012780987212387173, 'V16': 0.0010801511619082994, 'V11': 0.001031177995109054, 'V2': 0.000979830233516366, 'V8': 0.0009026733994984286, 'Time': 0.0007925002130747267, 'V18': 0.0006921117757884181, 'V13': 0.0006819455487990739, 'V15': 0.0006311020761296946, 'V6': 0.0006134017996192753, 'V9': 0.0006067665547211368, 'V20': 0.0004839449174715578, 'V19': 0.00046862994491256364, 'V21': 0.00045016610563165945, 'V28': 0.0004303300123750992, 'V27': 0.00041383037692393414, 'V23': 0.00035376640899825257, 'V25': 0.00035281105558686955, 'V22': 0.0003507711183980433, 'V3': 0.0003095289576503617, 'V5': 0.00015613945574982044, 'V24': 0.00013028226017705003}\n",
      "You can visualize the raw explanations under the 'Explanations (preview)' tab in the AutoML run at:-\n",
      "https://ml.azure.com/runs/AutoML_fe8fdb6e-e088-486b-8f24-f4211bfb3334_17?wsid=/subscriptions/d83b98a9-eaa6-475f-9ae6-1ef35394a1e5/resourcegroups/rg-ml-workspace/workspaces/shepml&tid=72f988bf-86f1-41af-91ab-2d7cd011db47\n"
     ]
    }
   ],
   "source": [
    "raw_explanations = client.download_model_explanation(raw=True)\n",
    "print(raw_explanations.get_feature_importance_dict())\n",
    "print(\n",
    "    \"You can visualize the raw explanations under the 'Explanations (preview)' tab in the AutoML run at:-\\n\"\n",
    "    + best_run.get_portal_url()\n",
    ")"
   ]
  },
  {
   "cell_type": "markdown",
   "metadata": {},
   "source": [
    "#### Retrieve any other AutoML model from training"
   ]
  },
  {
   "cell_type": "code",
   "execution_count": 14,
   "metadata": {
    "gather": {
     "logged": 1646940828010
    }
   },
   "outputs": [],
   "source": [
    "automl_run, fitted_model = local_run.get_output(metric=\"accuracy\")"
   ]
  },
  {
   "cell_type": "markdown",
   "metadata": {},
   "source": [
    "#### Setup the model explanations for AutoML models\n",
    "The fitted_model can generate the following which will be used for getting the engineered explanations using automl_setup_model_explanations:-\n",
    "\n",
    "1. Featurized data from train samples/test samples\n",
    "2. Gather engineered name lists\n",
    "3. Find the classes in your labeled column in classification scenarios\n",
    "\n",
    "The automl_explainer_setup_obj contains all the structures from above list."
   ]
  },
  {
   "cell_type": "code",
   "execution_count": 15,
   "metadata": {
    "gather": {
     "logged": 1646941021112
    }
   },
   "outputs": [],
   "source": [
    "X_train = training_data.drop_columns(columns=[label_column_name])\n",
    "y_train = training_data.keep_columns(columns=[label_column_name], validate=True)\n",
    "X_test = validation_data.drop_columns(columns=[label_column_name])"
   ]
  },
  {
   "cell_type": "code",
   "execution_count": 16,
   "metadata": {
    "gather": {
     "logged": 1646941033747
    }
   },
   "outputs": [
    {
     "name": "stdout",
     "output_type": "stream",
     "text": [
      "Current status: Setting up data for AutoML explanations\n",
      "Current status: Setting up the AutoML featurizer\n",
      "Current status: Setting up the AutoML estimator\n",
      "Current status: Setting up the AutoML featurization for explanations\n",
      "Current status: Downsampling of evaluation samples from 85614 to 5000 samples\n",
      "Current status: Generating a feature map for raw feature importance\n",
      "Current status: Finding all classes from the dataset\n",
      "Current status: Choosing the surrogate model as LightGBM for the AutoML model\n",
      "Current status: Data for AutoML explanations successfully setup\n"
     ]
    }
   ],
   "source": [
    "from azureml.train.automl.runtime.automl_explain_utilities import (\n",
    "    automl_setup_model_explanations,\n",
    ")\n",
    "\n",
    "automl_explainer_setup_obj = automl_setup_model_explanations(\n",
    "    fitted_model,\n",
    "    X=X_train,\n",
    "    X_test=X_test,\n",
    "    y=y_train,\n",
    "    task=\"classification\",\n",
    "    automl_run=automl_run,\n",
    ")"
   ]
  },
  {
   "cell_type": "markdown",
   "metadata": {},
   "source": [
    "#### Initialize the Mimic Explainer for feature importance\n",
    "For explaining the AutoML models, use the MimicWrapper from azureml-interpret package. The MimicWrapper can be initialized with fields in automl_explainer_setup_obj, your workspace and a surrogate model to explain the AutoML model (fitted_model here). The MimicWrapper also takes the automl_run object where engineered explanations will be uploaded."
   ]
  },
  {
   "cell_type": "code",
   "execution_count": 17,
   "metadata": {
    "gather": {
     "logged": 1646941290885
    }
   },
   "outputs": [],
   "source": [
    "from azureml.interpret.mimic_wrapper import MimicWrapper\n",
    "\n",
    "explainer = MimicWrapper(\n",
    "    ws,\n",
    "    automl_explainer_setup_obj.automl_estimator,\n",
    "    explainable_model=automl_explainer_setup_obj.surrogate_model,\n",
    "    init_dataset=automl_explainer_setup_obj.X_transform,\n",
    "    run=automl_explainer_setup_obj.automl_run,\n",
    "    features=automl_explainer_setup_obj.engineered_feature_names,\n",
    "    feature_maps=[automl_explainer_setup_obj.feature_map],\n",
    "    classes=automl_explainer_setup_obj.classes,\n",
    "    explainer_kwargs=automl_explainer_setup_obj.surrogate_model_params,\n",
    ")"
   ]
  },
  {
   "cell_type": "markdown",
   "metadata": {},
   "source": [
    "#### Use Mimic Explainer for computing and visualizing engineered feature importance\n",
    "The explain() method in MimicWrapper can be called with the transformed test samples to get the feature importance for the generated engineered features. You can also use azure portal url to view the dash board visualization of the feature importance values of the engineered features."
   ]
  },
  {
   "cell_type": "code",
   "execution_count": 18,
   "metadata": {
    "gather": {
     "logged": 1646941304747
    }
   },
   "outputs": [
    {
     "name": "stderr",
     "output_type": "stream",
     "text": [
      "2022-11-07:15:53:23,633 INFO     [explanation_client.py:334] Using default datastore for uploads\n"
     ]
    },
    {
     "name": "stdout",
     "output_type": "stream",
     "text": [
      "{'V14_MeanImputer': 0.018046163788440994, 'V10_MeanImputer': 0.010462152679273074, 'V4_MeanImputer': 0.005792427579981719, 'V17_MeanImputer': 0.0037981240947255815, 'V12_MeanImputer': 0.0029449583025249145, 'V7_MeanImputer': 0.002317271837081148, 'Amount_MeanImputer': 0.0014217954022651702, 'V1_MeanImputer': 0.0013308266168222378, 'V11_MeanImputer': 0.0010522725217184813, 'V16_MeanImputer': 0.0010313505864539263, 'V2_MeanImputer': 0.0009972718253109542, 'V26_MeanImputer': 0.0009383222931430307, 'V8_MeanImputer': 0.000836474243096802, 'V13_MeanImputer': 0.0007842418135056591, 'V18_MeanImputer': 0.0006668587510178038, 'V15_MeanImputer': 0.0006549949695491961, 'V6_MeanImputer': 0.0005827775448212134, 'V19_MeanImputer': 0.0005293079480488442, 'V21_MeanImputer': 0.0004732422488431177, 'V9_MeanImputer': 0.0004723121415931942, 'V20_MeanImputer': 0.00045102740221648457, 'Time_MeanImputer': 0.00044639068441746347, 'V28_MeanImputer': 0.0003938826296259124, 'V22_MeanImputer': 0.00038786784375200605, 'V25_MeanImputer': 0.00037023410080347385, 'V23_MeanImputer': 0.00033343756732089915, 'V3_MeanImputer': 0.00030418128088926947, 'V27_MeanImputer': 0.0002516237216779857, 'V5_MeanImputer': 0.00018690278499523176, 'V24_MeanImputer': 9.319766576826731e-05}\n",
      "You can visualize the engineered explanations under the 'Explanations (preview)' tab in the AutoML run at:-\n",
      "https://ml.azure.com/runs/AutoML_fe8fdb6e-e088-486b-8f24-f4211bfb3334_17?wsid=/subscriptions/d83b98a9-eaa6-475f-9ae6-1ef35394a1e5/resourcegroups/rg-ml-workspace/workspaces/shepml&tid=72f988bf-86f1-41af-91ab-2d7cd011db47\n"
     ]
    }
   ],
   "source": [
    "# Compute the engineered explanations\n",
    "engineered_explanations = explainer.explain(\n",
    "    [\"local\", \"global\"], eval_dataset=automl_explainer_setup_obj.X_test_transform\n",
    ")\n",
    "print(engineered_explanations.get_feature_importance_dict())\n",
    "print(\n",
    "    \"You can visualize the engineered explanations under the 'Explanations (preview)' tab in the AutoML run at:-\\n\"\n",
    "    + automl_run.get_portal_url()\n",
    ")"
   ]
  },
  {
   "cell_type": "markdown",
   "metadata": {},
   "source": [
    "#### Use Mimic Explainer for computing and visualizing raw feature importance\n",
    "The explain() method in MimicWrapper can be called with the transformed test samples to get the feature importance for the original features in your data. You can also use azure portal url to view the dash board visualization of the feature importance values of the original/raw features."
   ]
  },
  {
   "cell_type": "code",
   "execution_count": 19,
   "metadata": {
    "gather": {
     "logged": 1646942194467
    }
   },
   "outputs": [
    {
     "name": "stderr",
     "output_type": "stream",
     "text": [
      "2022-11-07:15:53:29,942 INFO     [explanation_client.py:334] Using default datastore for uploads\n"
     ]
    },
    {
     "name": "stdout",
     "output_type": "stream",
     "text": [
      "{'V14': 0.018046163788440994, 'V10': 0.010462152679273074, 'V4': 0.005792427579981719, 'V17': 0.0037981240947255815, 'V12': 0.0029449583025249145, 'V7': 0.002317271837081148, 'Amount': 0.0014217954022651702, 'V1': 0.0013308266168222378, 'V11': 0.0010522725217184813, 'V16': 0.0010313505864539263, 'V2': 0.0009972718253109542, 'V26': 0.0009383222931430307, 'V8': 0.000836474243096802, 'V13': 0.0007842418135056591, 'V18': 0.0006668587510178038, 'V15': 0.0006549949695491961, 'V6': 0.0005827775448212134, 'V19': 0.0005293079480488442, 'V21': 0.0004732422488431177, 'V9': 0.0004723121415931942, 'V20': 0.00045102740221648457, 'Time': 0.00044639068441746347, 'V28': 0.0003938826296259124, 'V22': 0.00038786784375200605, 'V25': 0.00037023410080347385, 'V23': 0.00033343756732089915, 'V3': 0.00030418128088926947, 'V27': 0.0002516237216779857, 'V5': 0.00018690278499523176, 'V24': 9.319766576826731e-05}\n",
      "You can visualize the raw explanations under the 'Explanations (preview)' tab in the AutoML run at:-\n",
      "https://ml.azure.com/runs/AutoML_fe8fdb6e-e088-486b-8f24-f4211bfb3334_17?wsid=/subscriptions/d83b98a9-eaa6-475f-9ae6-1ef35394a1e5/resourcegroups/rg-ml-workspace/workspaces/shepml&tid=72f988bf-86f1-41af-91ab-2d7cd011db47\n"
     ]
    }
   ],
   "source": [
    "# Compute the raw explanations\n",
    "raw_explanations = explainer.explain(\n",
    "    [\"local\", \"global\"],\n",
    "    get_raw=True,\n",
    "    raw_feature_names=automl_explainer_setup_obj.raw_feature_names,\n",
    "    eval_dataset=automl_explainer_setup_obj.X_test_transform,\n",
    "    raw_eval_dataset=automl_explainer_setup_obj.X_test_raw,\n",
    ")\n",
    "print(raw_explanations.get_feature_importance_dict())\n",
    "print(\n",
    "    \"You can visualize the raw explanations under the 'Explanations (preview)' tab in the AutoML run at:-\\n\"\n",
    "    + automl_run.get_portal_url()\n",
    ")"
   ]
  },
  {
   "cell_type": "markdown",
   "metadata": {},
   "source": [
    "#### Initialize the scoring Explainer, save and upload it for later use in scoring explanation"
   ]
  },
  {
   "cell_type": "code",
   "execution_count": 20,
   "metadata": {
    "gather": {
     "logged": 1646942216770
    }
   },
   "outputs": [
    {
     "data": {
      "text/plain": [
       "<azureml._restclient.models.batch_artifact_content_information_dto.BatchArtifactContentInformationDto at 0x7fead60c8780>"
      ]
     },
     "execution_count": 20,
     "metadata": {},
     "output_type": "execute_result"
    }
   ],
   "source": [
    "from azureml.interpret.scoring.scoring_explainer import TreeScoringExplainer\n",
    "import joblib\n",
    "\n",
    "# Initialize the ScoringExplainer\n",
    "scoring_explainer = TreeScoringExplainer(\n",
    "    explainer.explainer, feature_maps=[automl_explainer_setup_obj.feature_map]\n",
    ")\n",
    "\n",
    "# Pickle scoring explainer locally to './scoring_explainer.pkl'\n",
    "scoring_explainer_file_name = \"scoring_explainer.pkl\"\n",
    "with open(scoring_explainer_file_name, \"wb\") as stream:\n",
    "    joblib.dump(scoring_explainer, stream)\n",
    "\n",
    "# Upload the scoring explainer to the automl run\n",
    "automl_run.upload_file(\"outputs/scoring_explainer.pkl\", scoring_explainer_file_name)"
   ]
  },
  {
   "cell_type": "markdown",
   "metadata": {},
   "source": [
    "### Deploying the scoring and explainer models to a web service to Azure Kubernetes Service (AKS)\n",
    "\n",
    "We use the TreeScoringExplainer from azureml.interpret package to create the scoring explainer which will be used to compute the raw and engineered feature importances at the inference time. In the cell below, we register the AutoML model and the scoring explainer with the Model Management Service."
   ]
  },
  {
   "cell_type": "code",
   "execution_count": 21,
   "metadata": {
    "gather": {
     "logged": 1646942233194
    }
   },
   "outputs": [],
   "source": [
    "# Register trained automl model present in the 'outputs' folder in the artifacts\n",
    "original_model = automl_run.register_model(\n",
    "    model_name=\"automl_model\", model_path=\"outputs/model.pkl\"\n",
    ")\n",
    "scoring_explainer_model = automl_run.register_model(\n",
    "    model_name=\"scoring_explainer\", model_path=\"outputs/scoring_explainer.pkl\"\n",
    ")"
   ]
  },
  {
   "cell_type": "markdown",
   "metadata": {},
   "source": [
    "#### Create the conda dependencies for setting up the service\n",
    "\n",
    "We need to download the conda dependencies using the automl_run object."
   ]
  },
  {
   "cell_type": "code",
   "execution_count": 22,
   "metadata": {
    "gather": {
     "logged": 1646942236938
    }
   },
   "outputs": [
    {
     "data": {
      "text/plain": [
       "{\n",
       "    \"databricks\": {\n",
       "        \"eggLibraries\": [],\n",
       "        \"jarLibraries\": [],\n",
       "        \"mavenLibraries\": [],\n",
       "        \"pypiLibraries\": [],\n",
       "        \"rcranLibraries\": []\n",
       "    },\n",
       "    \"docker\": {\n",
       "        \"arguments\": [],\n",
       "        \"baseDockerfile\": null,\n",
       "        \"baseImage\": \"mcr.microsoft.com/azureml/openmpi3.1.2-ubuntu18.04:20220113.v1\",\n",
       "        \"baseImageRegistry\": {\n",
       "            \"address\": null,\n",
       "            \"password\": null,\n",
       "            \"registryIdentity\": null,\n",
       "            \"username\": null\n",
       "        },\n",
       "        \"enabled\": false,\n",
       "        \"platform\": {\n",
       "            \"architecture\": \"amd64\",\n",
       "            \"os\": \"Linux\"\n",
       "        },\n",
       "        \"sharedVolumes\": true,\n",
       "        \"shmSize\": \"2g\"\n",
       "    },\n",
       "    \"environmentVariables\": {\n",
       "        \"EXAMPLE_ENV_VAR\": \"EXAMPLE_VALUE\"\n",
       "    },\n",
       "    \"inferencingStackVersion\": null,\n",
       "    \"name\": \"myenv\",\n",
       "    \"python\": {\n",
       "        \"baseCondaEnvironment\": null,\n",
       "        \"condaDependencies\": {\n",
       "            \"channels\": [\n",
       "                \"anaconda\",\n",
       "                \"conda-forge\"\n",
       "            ],\n",
       "            \"dependencies\": [\n",
       "                \"python=3.6.2\",\n",
       "                {\n",
       "                    \"pip\": [\n",
       "                        \"azureml-train-automl-runtime==1.38.0\",\n",
       "                        \"inference-schema\",\n",
       "                        \"azureml-interpret==1.38.0\",\n",
       "                        \"azureml-defaults==1.38.0\"\n",
       "                    ]\n",
       "                },\n",
       "                \"numpy>=1.16.0,<1.19.0\",\n",
       "                \"pandas==0.25.1\",\n",
       "                \"scikit-learn==0.22.1\",\n",
       "                \"py-xgboost<=0.90\",\n",
       "                \"fbprophet==0.5\",\n",
       "                \"holidays==0.9.11\",\n",
       "                \"psutil>=5.2.2,<6.0.0\"\n",
       "            ],\n",
       "            \"name\": \"project_environment\"\n",
       "        },\n",
       "        \"condaDependenciesFile\": null,\n",
       "        \"interpreterPath\": \"python\",\n",
       "        \"userManagedDependencies\": false\n",
       "    },\n",
       "    \"r\": null,\n",
       "    \"spark\": {\n",
       "        \"packages\": [],\n",
       "        \"precachePackages\": true,\n",
       "        \"repositories\": []\n",
       "    },\n",
       "    \"version\": null\n",
       "}"
      ]
     },
     "execution_count": 22,
     "metadata": {},
     "output_type": "execute_result"
    }
   ],
   "source": [
    "from azureml.automl.core.shared import constants\n",
    "from azureml.core.environment import Environment\n",
    "\n",
    "automl_run.download_file(constants.CONDA_ENV_FILE_PATH, \"myenv.yml\")\n",
    "myenv = Environment.from_conda_specification(name=\"myenv\", file_path=\"myenv.yml\")\n",
    "myenv"
   ]
  },
  {
   "cell_type": "markdown",
   "metadata": {},
   "source": [
    "#### Write the Entry Script\n",
    "Write the script that will be used to predict on your model"
   ]
  },
  {
   "cell_type": "code",
   "execution_count": 23,
   "metadata": {},
   "outputs": [
    {
     "name": "stdout",
     "output_type": "stream",
     "text": [
      "Writing score.py\n"
     ]
    }
   ],
   "source": [
    "%%writefile score.py\n",
    "import joblib\n",
    "import pandas as pd\n",
    "from azureml.core.model import Model\n",
    "from azureml.train.automl.runtime.automl_explain_utilities import (\n",
    "    automl_setup_model_explanations,\n",
    ")\n",
    "\n",
    "\n",
    "def init():\n",
    "    global automl_model\n",
    "    global scoring_explainer\n",
    "\n",
    "    # Retrieve the path to the model file using the model name\n",
    "    # Assume original model is named original_prediction_model\n",
    "    automl_model_path = Model.get_model_path(\"automl_model\")\n",
    "    scoring_explainer_path = Model.get_model_path(\"scoring_explainer\")\n",
    "\n",
    "    automl_model = joblib.load(automl_model_path)\n",
    "    scoring_explainer = joblib.load(scoring_explainer_path)\n",
    "\n",
    "\n",
    "def run(raw_data):\n",
    "    data = pd.read_json(raw_data, orient=\"records\")\n",
    "    # Make prediction\n",
    "    predictions = automl_model.predict(data)\n",
    "    # Setup for inferencing explanations\n",
    "    automl_explainer_setup_obj = automl_setup_model_explanations(\n",
    "        automl_model, X_test=data, task=\"classification\"\n",
    "    )\n",
    "    # Retrieve model explanations for engineered explanations\n",
    "    engineered_local_importance_values = scoring_explainer.explain(\n",
    "        automl_explainer_setup_obj.X_test_transform\n",
    "    )\n",
    "    # Retrieve model explanations for raw explanations\n",
    "    raw_local_importance_values = scoring_explainer.explain(\n",
    "        automl_explainer_setup_obj.X_test_transform, get_raw=True\n",
    "    )\n",
    "    # You can return any data type as long as it is JSON-serializable\n",
    "    return {\n",
    "        \"predictions\": predictions.tolist(),\n",
    "        \"engineered_local_importance_values\": engineered_local_importance_values,\n",
    "        \"raw_local_importance_values\": raw_local_importance_values,\n",
    "    }"
   ]
  },
  {
   "cell_type": "markdown",
   "metadata": {},
   "source": [
    "#### Create the InferenceConfig \n",
    "Create the inference config that will be used when deploying the model"
   ]
  },
  {
   "cell_type": "code",
   "execution_count": 24,
   "metadata": {
    "gather": {
     "logged": 1646942252103
    }
   },
   "outputs": [],
   "source": [
    "from azureml.core.model import InferenceConfig\n",
    "\n",
    "inf_config = InferenceConfig(entry_script=\"score.py\", environment=myenv)"
   ]
  },
  {
   "cell_type": "markdown",
   "metadata": {},
   "source": [
    "#### Provision the AKS Cluster\n",
    "This is a one time setup. You can reuse this cluster for multiple deployments after it has been created. If you delete the cluster or the resource group that contains it, then you would have to recreate it."
   ]
  },
  {
   "cell_type": "code",
   "execution_count": 27,
   "metadata": {
    "gather": {
     "logged": 1646942739214
    }
   },
   "outputs": [
    {
     "name": "stdout",
     "output_type": "stream",
     "text": [
      "InProgress...........................................................................\n",
      "SucceededProvisioning operation finished, operation \"Succeeded\"\n"
     ]
    }
   ],
   "source": [
    "from azureml.core.compute import ComputeTarget, AksCompute\n",
    "from azureml.core.compute_target import ComputeTargetException\n",
    "\n",
    "# Choose a name for your cluster.\n",
    "aks_name = \"CC-Fraud\"\n",
    "\n",
    "# Verify that cluster does not exist already\n",
    "try:\n",
    "    aks_target = ComputeTarget(workspace=ws, name=aks_name)\n",
    "    print(\"Found existing cluster, use it.\")\n",
    "except ComputeTargetException:\n",
    "    prov_config = AksCompute.provisioning_configuration(vm_size=\"STANDARD_D3_V2\")\n",
    "    aks_target = ComputeTarget.create(\n",
    "        workspace=ws, name=aks_name, provisioning_configuration=prov_config\n",
    "    )\n",
    "aks_target.wait_for_completion(show_output=True)"
   ]
  },
  {
   "cell_type": "markdown",
   "metadata": {},
   "source": [
    "#### Deploy web service to AKS"
   ]
  },
  {
   "cell_type": "code",
   "execution_count": 28,
   "metadata": {
    "gather": {
     "logged": 1646942739420
    }
   },
   "outputs": [],
   "source": [
    "# Set the web service configuration (using default here)\n",
    "from azureml.core.webservice import AksWebservice\n",
    "from azureml.core.model import Model\n",
    "\n",
    "aks_config = AksWebservice.deploy_configuration()"
   ]
  },
  {
   "cell_type": "code",
   "execution_count": 30,
   "metadata": {
    "gather": {
     "logged": 1646943694499
    }
   },
   "outputs": [
    {
     "name": "stdout",
     "output_type": "stream",
     "text": [
      "Tips: You can try get_logs(): https://aka.ms/debugimage#dockerlog or local deployment: https://aka.ms/debugimage#debug-locally to debug if deployment takes longer than 10 minutes.\n",
      "Running\n",
      "2022-11-07 16:02:54+00:00 Creating Container Registry if not exists.\n",
      "2022-11-07 16:02:54+00:00 Registering the environment.\n",
      "2022-11-07 16:02:55+00:00 Use the existing image.\n",
      "2022-11-07 16:02:56+00:00 Creating resources in AKS.\n",
      "2022-11-07 16:02:57+00:00 Submitting deployment to compute.\n",
      "2022-11-07 16:02:58+00:00 Checking the status of deployment model-cc-fraud-aks..\n",
      "2022-11-07 16:05:37+00:00 Checking the status of inference endpoint model-cc-fraud-aks.\n",
      "Succeeded\n",
      "AKS service creation operation finished, operation \"Succeeded\"\n",
      "Healthy\n"
     ]
    }
   ],
   "source": [
    "aks_service_name = \"model-cc-fraud-aks\"\n",
    "\n",
    "aks_service = Model.deploy(\n",
    "    workspace=ws,\n",
    "    name=aks_service_name,\n",
    "    models=[scoring_explainer_model, original_model],\n",
    "    inference_config=inf_config,\n",
    "    deployment_config=aks_config,\n",
    "    deployment_target=aks_target,\n",
    ")\n",
    "\n",
    "aks_service.wait_for_deployment(show_output=True)\n",
    "print(aks_service.state)"
   ]
  },
  {
   "cell_type": "markdown",
   "metadata": {},
   "source": [
    "#### View the service logs"
   ]
  },
  {
   "cell_type": "code",
   "execution_count": 31,
   "metadata": {},
   "outputs": [
    {
     "data": {
      "text/plain": [
       "'2022-11-07T16:05:27,884333753+00:00 - iot-server/run \\n2022-11-07T16:05:27,885604960+00:00 - rsyslog/run \\n2022-11-07T16:05:27,887745670+00:00 - nginx/run \\n2022-11-07T16:05:27,891258888+00:00 - gunicorn/run \\nDynamic Python package installation is disabled.\\nStarting HTTP server\\nrsyslogd: /azureml-envs/azureml_4943656157e05766fedf432d8be562a4/lib/libuuid.so.1: no version information available (required by rsyslogd)\\nEdgeHubConnectionString and IOTEDGE_IOTHUBHOSTNAME are not set. Exiting...\\n2022-11-07T16:05:27,980067627+00:00 - iot-server/finish 1 0\\n2022-11-07T16:05:27,981614335+00:00 - Exit code 1 is normal. Not restarting iot-server.\\nStarting gunicorn 20.1.0\\nListening at: http://127.0.0.1:31311 (14)\\nUsing worker: sync\\nworker timeout is set to 300\\nBooting worker with pid: 42\\nSPARK_HOME not set. Skipping PySpark Initialization.\\nGenerating new fontManager, this may take some time...\\nFailure while loading azureml_run_type_providers. Failed to load entrypoint hyperdrive = azureml.train.hyperdrive:HyperDriveRun._from_run_dto with exception (urllib3 1.26.8 (/azureml-envs/azureml_4943656157e05766fedf432d8be562a4/lib/python3.6/site-packages), Requirement.parse(\\'urllib3<=1.26.7,>=1.23\\'), {\\'azureml-core\\'}).\\nFailure while loading azureml_run_type_providers. Failed to load entrypoint automl = azureml.train.automl.run:AutoMLRun._from_run_dto with exception (urllib3 1.26.8 (/azureml-envs/azureml_4943656157e05766fedf432d8be562a4/lib/python3.6/site-packages), Requirement.parse(\\'urllib3<=1.26.7,>=1.23\\'), {\\'azureml-core\\'}).\\nFailure while loading azureml_run_type_providers. Failed to load entrypoint azureml.scriptrun = azureml.core.script_run:ScriptRun._from_run_dto with exception (urllib3 1.26.8 (/azureml-envs/azureml_4943656157e05766fedf432d8be562a4/lib/python3.6/site-packages), Requirement.parse(\\'urllib3<=1.26.7,>=1.23\\')).\\nInitializing logger\\n2022-11-07 16:05:32,412 | root | INFO | Starting up app insights client\\nlogging socket was found. logging is available.\\nlogging socket was found. logging is available.\\n2022-11-07 16:05:32,412 | root | INFO | Starting up request id generator\\n2022-11-07 16:05:32,412 | root | INFO | Starting up app insight hooks\\n2022-11-07 16:05:32,413 | root | INFO | Invoking user\\'s init function\\n2022-11-07 16:05:33,254 | root | INFO | Users\\'s init has completed successfully\\n2022-11-07 16:05:33,257 | root | INFO | Skipping middleware: dbg_model_info as it\\'s not enabled.\\n2022-11-07 16:05:33,258 | root | INFO | Skipping middleware: dbg_resource_usage as it\\'s not enabled.\\n2022-11-07 16:05:33,259 | root | INFO | Scoring timeout setting is not found. Use default timeout: 3600000 ms\\n2022-11-07 16:05:37,619 | root | INFO | Swagger file not present\\n2022-11-07 16:05:37,620 | root | INFO | 404\\n127.0.0.1 - - [07/Nov/2022:16:05:37 +0000] \"GET /swagger.json HTTP/1.0\" 404 19 \"-\" \"hackney/1.18.1\"\\n2022-11-07 16:05:37,777 | root | INFO | Swagger file not present\\n2022-11-07 16:05:37,777 | root | INFO | 404\\n127.0.0.1 - - [07/Nov/2022:16:05:37 +0000] \"GET /swagger.json HTTP/1.0\" 404 19 \"-\" \"curl/7.80.0\"\\n2022-11-07 16:05:43,355 | root | INFO | Swagger file not present\\n2022-11-07 16:05:43,355 | root | INFO | 404\\n127.0.0.1 - - [07/Nov/2022:16:05:43 +0000] \"GET /swagger.json HTTP/1.0\" 404 19 \"-\" \"hackney/1.18.1\"\\n2022-11-07 16:05:43,560 | root | INFO | Swagger file not present\\n2022-11-07 16:05:43,560 | root | INFO | 404\\n127.0.0.1 - - [07/Nov/2022:16:05:43 +0000] \"GET /swagger.json HTTP/1.0\" 404 19 \"-\" \"curl/7.80.0\"\\n2022-11-07 16:05:47,887 | root | INFO | Swagger file not present\\n2022-11-07 16:05:47,888 | root | INFO | 404\\n127.0.0.1 - - [07/Nov/2022:16:05:47 +0000] \"GET /swagger.json HTTP/1.0\" 404 19 \"-\" \"hackney/1.18.1\"\\n2022-11-07 16:05:48,072 | root | INFO | Swagger file not present\\n2022-11-07 16:05:48,072 | root | INFO | 404\\n127.0.0.1 - - [07/Nov/2022:16:05:48 +0000] \"GET /swagger.json HTTP/1.0\" 404 19 \"-\" \"curl/7.80.0\"\\n2022-11-07 16:05:51,894 | root | INFO | Swagger file not present\\n2022-11-07 16:05:51,894 | root | INFO | 404\\n127.0.0.1 - - [07/Nov/2022:16:05:51 +0000] \"GET /swagger.json HTTP/1.0\" 404 19 \"-\" \"hackney/1.18.1\"\\n2022-11-07 16:05:56,598 | root | INFO | Swagger file not present\\n2022-11-07 16:05:56,598 | root | INFO | 404\\n127.0.0.1 - - [07/Nov/2022:16:05:56 +0000] \"GET /swagger.json HTTP/1.0\" 404 19 \"-\" \"hackney/1.18.1\"\\n2022-11-07 16:05:56,766 | root | INFO | Swagger file not present\\n2022-11-07 16:05:56,766 | root | INFO | 404\\n127.0.0.1 - - [07/Nov/2022:16:05:56 +0000] \"GET /swagger.json HTTP/1.0\" 404 19 \"-\" \"curl/7.80.0\"\\n2022-11-07 16:05:58,780 | root | INFO | Swagger file not present\\n2022-11-07 16:05:58,780 | root | INFO | 404\\n127.0.0.1 - - [07/Nov/2022:16:05:58 +0000] \"GET /swagger.json HTTP/1.0\" 404 19 \"-\" \"hackney/1.18.1\"\\n2022-11-07 16:05:58,927 | root | INFO | Swagger file not present\\n2022-11-07 16:05:58,927 | root | INFO | 404\\n127.0.0.1 - - [07/Nov/2022:16:05:58 +0000] \"GET /swagger.json HTTP/1.0\" 404 19 \"-\" \"curl/7.80.0\"\\n2022-11-07 16:05:59,127 | root | INFO | Swagger file not present\\n2022-11-07 16:05:59,128 | root | INFO | 404\\n127.0.0.1 - - [07/Nov/2022:16:05:59 +0000] \"GET /swagger.json HTTP/1.0\" 404 19 \"-\" \"hackney/1.18.1\"\\n'"
      ]
     },
     "execution_count": 31,
     "metadata": {},
     "output_type": "execute_result"
    }
   ],
   "source": [
    "aks_service.get_logs()"
   ]
  },
  {
   "cell_type": "markdown",
   "metadata": {},
   "source": [
    "#### Consume the web service using run method to do the scoring and explanation of scoring.\n",
    "#### We test the web sevice by passing data. Run() method retrieves API keys behind the scenes to make sure that call is authenticated."
   ]
  },
  {
   "cell_type": "markdown",
   "metadata": {
    "nteract": {
     "transient": {
      "deleting": false
     }
    }
   },
   "source": [
    "Create fake larger dataset "
   ]
  },
  {
   "cell_type": "code",
   "execution_count": 32,
   "metadata": {
    "gather": {
     "logged": 1646951726836
    },
    "jupyter": {
     "outputs_hidden": false,
     "source_hidden": false
    },
    "nteract": {
     "transient": {
      "deleting": false
     }
    }
   },
   "outputs": [
    {
     "name": "stderr",
     "output_type": "stream",
     "text": [
      "IOPub data rate exceeded.\n",
      "The Jupyter server will temporarily stop sending output\n",
      "to the client in order to avoid crashing it.\n",
      "To change this limit, set the config variable\n",
      "`--ServerApp.iopub_data_rate_limit`.\n",
      "\n",
      "Current values:\n",
      "ServerApp.iopub_data_rate_limit=1000000.0 (bytes/sec)\n",
      "ServerApp.rate_limit_window=3.0 (secs)\n",
      "\n"
     ]
    }
   ],
   "source": [
    "# use more than one record \n",
    "#use a larger data set by passing in training data just for fun \n",
    "#X_test_df = training_data.drop_columns(columns=[label_column_name]).to_pandas_dataframe()\n",
    "\n",
    "# Serialize the first row of the test data into json\n",
    "#X_test_json = X_test_df.to_json(orient=\"records\")\n",
    "X_test_json = X_test_df.to_json(orient=\"records\")\n",
    "#print(X_test_json)\n",
    "\n",
    "# Call the service to get the predictions and the engineered and raw explanations\n",
    "output = aks_service.run(X_test_json)\n",
    "\n",
    "# Print the predicted value\n",
    "print(\"predictions:\\n{}\\n\".format(output[\"predictions\"]))\n",
    "# Print the engineered feature importances for the predicted value\n",
    "print(\n",
    "    \"engineered_local_importance_values:\\n{}\\n\".format(\n",
    "        output[\"engineered_local_importance_values\"]\n",
    "    )\n",
    ")\n",
    "# Print the raw feature importances for the predicted value\n",
    "print(\n",
    "    \"raw_local_importance_values:\\n{}\\n\".format(output[\"raw_local_importance_values\"])\n",
    ")"
   ]
  },
  {
   "cell_type": "code",
   "execution_count": 33,
   "metadata": {
    "gather": {
     "logged": 1646962977180
    }
   },
   "outputs": [
    {
     "name": "stdout",
     "output_type": "stream",
     "text": [
      "[{\"Time\":1.0,\"V1\":-1.358354062,\"V2\":-1.340163075,\"V3\":1.773209343,\"V4\":0.379779593,\"V5\":-0.503198133,\"V6\":1.800499381,\"V7\":0.791460956,\"V8\":0.247675787,\"V9\":-1.514654323,\"V10\":0.207642865,\"V11\":0.624501459,\"V12\":0.066083685,\"V13\":0.717292731,\"V14\":-0.165945923,\"V15\":2.345864949,\"V16\":-2.890083194,\"V17\":1.109969379,\"V18\":-0.121359313,\"V19\":-2.261857095,\"V20\":0.524979725,\"V21\":0.247998153,\"V22\":0.771679402,\"V23\":0.909412262,\"V24\":-0.689280956,\"V25\":-0.327641834,\"V26\":-0.139096572,\"V27\":-0.055352794,\"V28\":-0.059751841,\"Amount\":378.66}]\n",
      "predictions:\n",
      "[False]\n",
      "\n",
      "engineered_local_importance_values:\n",
      "[[0.004023831308436106, 0.0009310172427412372, -0.00017568159461914026, -0.005578100197871966, -0.0005680174732421971, -0.001686743371445255, -0.0001901234679462797, -0.00910455069702299, -0.00013488307369124473, 0.005353631229431508, -0.0022620102097982014, -0.00047874935058721046, 0.0008255726544581613, 0.0006091540033664819, 0.0003311575299908159, -0.00029530999066823896, 0.00016296401629683102, -0.00015777510859321737, -8.981372349382522e-05, 0.00024078343823987348, 0.0006489219315131305, 0.00019160588044023617, 0.00038057527060151577, -0.0014146705775224498, -0.006281292313557385, 6.052097878548484e-05, -0.0007944349678697478, -0.0009415835306533897, -0.000892678066753398, 0.0003991998961564783]]\n",
      "\n",
      "raw_local_importance_values:\n",
      "[[0.0009310172427412372, -0.00017568159461914026, 0.0006091540033664819, -0.0014146705775224498, -0.006281292313557385, 6.052097878548484e-05, -0.0007944349678697478, -0.0009415835306533897, -0.000892678066753398, 0.0003991998961564783, -0.005578100197871966, -0.0005680174732421971, -0.001686743371445255, -0.0001901234679462797, -0.00910455069702299, -0.00013488307369124473, 0.005353631229431508, -0.0022620102097982014, -0.00047874935058721046, 0.0008255726544581613, 0.0003311575299908159, -0.00029530999066823896, 0.00016296401629683102, -0.00015777510859321737, -8.981372349382522e-05, 0.00024078343823987348, 0.0006489219315131305, 0.00019160588044023617, 0.00038057527060151577, 0.004023831308436106]]\n",
      "\n"
     ]
    }
   ],
   "source": [
    "# Serialize the first row of the test data into json\n",
    "X_test_json = X_test_df[:1].to_json(orient=\"records\")\n",
    "print(X_test_json)\n",
    "\n",
    "# Call the service to get the predictions and the engineered and raw explanations\n",
    "output = aks_service.run(X_test_json)\n",
    "\n",
    "# Print the predicted value\n",
    "print(\"predictions:\\n{}\\n\".format(output[\"predictions\"]))\n",
    "# Print the engineered feature importances for the predicted value\n",
    "print(\n",
    "    \"engineered_local_importance_values:\\n{}\\n\".format(\n",
    "        output[\"engineered_local_importance_values\"]\n",
    "    )\n",
    ")\n",
    "# Print the raw feature importances for the predicted value\n",
    "print(\n",
    "    \"raw_local_importance_values:\\n{}\\n\".format(output[\"raw_local_importance_values\"])\n",
    ")"
   ]
  },
  {
   "cell_type": "markdown",
   "metadata": {},
   "source": [
    "#### Clean up\n",
    "Delete the service."
   ]
  },
  {
   "cell_type": "code",
   "execution_count": null,
   "metadata": {},
   "outputs": [],
   "source": [
    "##aks_service.delete()"
   ]
  },
  {
   "cell_type": "markdown",
   "metadata": {},
   "source": [
    "## Acknowledgements"
   ]
  },
  {
   "cell_type": "markdown",
   "metadata": {},
   "source": [
    "This Credit Card fraud Detection dataset is made available under the Open Database License: http://opendatacommons.org/licenses/odbl/1.0/. Any rights in individual contents of the database are licensed under the Database Contents License: http://opendatacommons.org/licenses/dbcl/1.0/ and is available at: https://www.kaggle.com/mlg-ulb/creditcardfraud\n",
    "\n",
    "\n",
    "The dataset has been collected and analysed during a research collaboration of Worldline and the Machine Learning Group (http://mlg.ulb.ac.be) of ULB (UniversitÃ© Libre de Bruxelles) on big data mining and fraud detection. More details on current and past projects on related topics are available on https://www.researchgate.net/project/Fraud-detection-5 and the page of the DefeatFraud project\n",
    "Please cite the following works: \n",
    "â€¢\tAndrea Dal Pozzolo, Olivier Caelen, Reid A. Johnson and Gianluca Bontempi. Calibrating Probability with Undersampling for Unbalanced Classification. In Symposium on Computational Intelligence and Data Mining (CIDM), IEEE, 2015\n",
    "â€¢\tDal Pozzolo, Andrea; Caelen, Olivier; Le Borgne, Yann-Ael; Waterschoot, Serge; Bontempi, Gianluca. Learned lessons in credit card fraud detection from a practitioner perspective, Expert systems with applications,41,10,4915-4928,2014, Pergamon\n",
    "â€¢\tDal Pozzolo, Andrea; Boracchi, Giacomo; Caelen, Olivier; Alippi, Cesare; Bontempi, Gianluca. Credit card fraud detection: a realistic modeling and a novel learning strategy, IEEE transactions on neural networks and learning systems,29,8,3784-3797,2018,IEEE\n",
    "o\tDal Pozzolo, Andrea Adaptive Machine learning for credit card fraud detection ULB MLG PhD thesis (supervised by G. Bontempi)\n",
    "â€¢\tCarcillo, Fabrizio; Dal Pozzolo, Andrea; Le Borgne, Yann-AÃ«l; Caelen, Olivier; Mazzer, Yannis; Bontempi, Gianluca. Scarff: a scalable framework for streaming credit card fraud detection with Spark, Information fusion,41, 182-194,2018,Elsevier\n",
    "â€¢\tCarcillo, Fabrizio; Le Borgne, Yann-AÃ«l; Caelen, Olivier; Bontempi, Gianluca. Streaming active learning strategies for real-life credit card fraud detection: assessment and visualization, International Journal of Data Science and Analytics, 5,4,285-300,2018,Springer International Publishing"
   ]
  },
  {
   "cell_type": "code",
   "execution_count": null,
   "metadata": {
    "jupyter": {
     "outputs_hidden": false,
     "source_hidden": false
    },
    "nteract": {
     "transient": {
      "deleting": false
     }
    }
   },
   "outputs": [],
   "source": []
  }
 ],
 "metadata": {
  "authors": [
   {
    "name": "ratanase"
   }
  ],
  "category": "tutorial",
  "compute": [
   "Local"
  ],
  "datasets": [
   "creditcard"
  ],
  "deployment": [
   "None"
  ],
  "exclude_from_index": true,
  "file_extension": ".py",
  "framework": [
   "None"
  ],
  "friendly_name": "Classification of credit card fraudulent transactions using Automated ML",
  "index_order": 5,
  "kernel_info": {
   "name": "python3-azureml"
  },
  "kernelspec": {
   "display_name": "Python 3.6 - AzureML",
   "language": "python",
   "name": "python3-azureml"
  },
  "language_info": {
   "codemirror_mode": {
    "name": "ipython",
    "version": 3
   },
   "file_extension": ".py",
   "mimetype": "text/x-python",
   "name": "python",
   "nbconvert_exporter": "python",
   "pygments_lexer": "ipython3",
   "version": "3.6.9"
  },
  "microsoft": {
   "host": {
    "AzureML": {
     "notebookHasBeenCompleted": true
    }
   }
  },
  "mimetype": "text/x-python",
  "name": "python",
  "nbconvert_exporter": "python",
  "nteract": {
   "version": "nteract-front-end@1.0.0"
  },
  "pygments_lexer": "ipython3",
  "tags": [
   "local_run",
   "AutomatedML"
  ],
  "task": "Classification",
  "version": "3.6.7"
 },
 "nbformat": 4,
 "nbformat_minor": 1
}
