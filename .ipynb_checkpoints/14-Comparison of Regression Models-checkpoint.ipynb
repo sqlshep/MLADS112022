{
 "cells": [
  {
   "cell_type": "markdown",
   "id": "d468f843",
   "metadata": {},
   "source": [
    "### What would happen if you ran all the common models and compared them?\n",
    "\n"
   ]
  },
  {
   "cell_type": "code",
   "execution_count": null,
   "id": "305d6201",
   "metadata": {},
   "outputs": [],
   "source": [
    "import matplotlib.pyplot as plt\n",
    "import numpy as np\n",
    "import pandas as pd\n",
    "import seaborn as sns\n",
    "from sklearn.model_selection import train_test_split\n",
    "from sklearn import linear_model\n",
    "from sklearn.metrics import mean_squared_error, r2_score\n",
    "\n",
    "import math "
   ]
  },
  {
   "cell_type": "markdown",
   "id": "fd55e6dc",
   "metadata": {},
   "source": [
    "This is my scoring function, row append sucks but it works, would not reccomend this for large dataframes "
   ]
  },
  {
   "cell_type": "code",
   "execution_count": null,
   "id": "f9b6d195",
   "metadata": {},
   "outputs": [],
   "source": [
    "model_metrics = pd.DataFrame(columns=[\"Model\", \"MSE\", \"RMSE\", \"R2\"])\n",
    "\n",
    "\n",
    "def metrics(model, y, y_hat):\n",
    "\n",
    "    model_metrics.loc[-1] = {\"Model\" : model, \n",
    "              \"MSE\" : mean_squared_error(y, y_hat),\n",
    "              \"RMSE\" : math.sqrt(mean_squared_error(y, y_hat)),\n",
    "              \"R2\" : r2_score(y, y_hat)}\n",
    "\n",
    "    model_metrics.index = model_metrics.index + 1\n",
    "    return model_metrics \n",
    "\n",
    "#metrics(\"PCA Forest\",y_test, epa_pca_y_pred)"
   ]
  },
  {
   "cell_type": "markdown",
   "id": "1692f062",
   "metadata": {},
   "source": [
    "Import some data, this is the 2018 EPA Auto dataset about 4000 rows have already been dropped that were useles, you can go backwards in my blog to see what i did and why. I orignally did the data engineering in R, but whatever. https://sqlshep.com/?p=815\n",
    "\n"
   ]
  },
  {
   "cell_type": "code",
   "execution_count": null,
   "id": "6b5894a5",
   "metadata": {},
   "outputs": [],
   "source": [
    "epa = pd.read_csv('https://raw.githubusercontent.com/sqlshep/SQLShepBlog/master/data/epaMpg.csv')"
   ]
  },
  {
   "cell_type": "code",
   "execution_count": null,
   "id": "4e08f9ea",
   "metadata": {},
   "outputs": [],
   "source": [
    "epa.head(10)"
   ]
  },
  {
   "cell_type": "code",
   "execution_count": null,
   "id": "a962e54c",
   "metadata": {},
   "outputs": [],
   "source": [
    "epa.shape"
   ]
  },
  {
   "cell_type": "code",
   "execution_count": null,
   "id": "bd823dbe",
   "metadata": {},
   "outputs": [],
   "source": [
    "epa.describe().T\n"
   ]
  },
  {
   "cell_type": "markdown",
   "id": "9a3b015b",
   "metadata": {},
   "source": [
    "Engineer the dataset a bit, some models dislike periods in the name, drop the first 3 columns, i do not want th emodel to fit to manufacturer and some of the columns are descritptions of other columns so they are dupes. "
   ]
  },
  {
   "cell_type": "code",
   "execution_count": null,
   "id": "c974485f",
   "metadata": {},
   "outputs": [],
   "source": [
    "#Drop the row number\n",
    "epa = epa.drop(epa.columns[[0]], axis=1)\n",
    "\n",
    "#replace the \".\" in the column names with \"_\"\n",
    "epa.columns = epa.columns.str.replace('.', '_')\n",
    "\n",
    "# Drop the first three columns\n",
    "epa = epa.drop(epa.columns[[0,1,2]], axis=1)\n",
    "\n",
    "# drop descrition columns\n",
    "epa = epa.drop(epa.columns[[3,9,11]], axis=1)\n",
    "epa\n",
    "\n"
   ]
  },
  {
   "cell_type": "markdown",
   "id": "fdf4cb9b",
   "metadata": {},
   "source": [
    "Visualize some stuff, see if there are any patterns. "
   ]
  },
  {
   "cell_type": "code",
   "execution_count": null,
   "id": "99793132",
   "metadata": {},
   "outputs": [],
   "source": [
    "epa.plot.scatter(x='HorsePower',\n",
    "                      y='Cylinders',\n",
    "                      c='DarkBlue',\n",
    "                figsize=(15,5))"
   ]
  },
  {
   "cell_type": "code",
   "execution_count": null,
   "id": "cd358472",
   "metadata": {},
   "outputs": [],
   "source": [
    "epa.plot.scatter(x='HorsePower',\n",
    "                      y='Weight',\n",
    "                      c='DarkBlue',\n",
    "                figsize=(15,5))"
   ]
  },
  {
   "cell_type": "code",
   "execution_count": null,
   "id": "c7b4f71a",
   "metadata": {},
   "outputs": [],
   "source": [
    "epa.plot.scatter(x='HorsePower',\n",
    "                      y='FuelEcon',\n",
    "                      c='DarkBlue',\n",
    "                figsize=(15,5))"
   ]
  },
  {
   "cell_type": "code",
   "execution_count": null,
   "id": "5bb72e88",
   "metadata": {},
   "outputs": [],
   "source": [
    "plot = pd.plotting.scatter_matrix(epa,\n",
    "                figsize=(15,15))\n",
    "\n"
   ]
  },
  {
   "cell_type": "code",
   "execution_count": null,
   "id": "1d2bded4",
   "metadata": {},
   "outputs": [],
   "source": [
    "epa.corr()"
   ]
  },
  {
   "cell_type": "markdown",
   "id": "0f599e2e",
   "metadata": {},
   "source": [
    "Any correlations? "
   ]
  },
  {
   "cell_type": "code",
   "execution_count": null,
   "id": "507ea013",
   "metadata": {},
   "outputs": [],
   "source": [
    "sns.set(rc={'figure.figsize':(12,8)})\n",
    "sns.heatmap(epa.corr(), annot = True)\n",
    "\n"
   ]
  },
  {
   "cell_type": "code",
   "execution_count": null,
   "id": "5fac7352",
   "metadata": {},
   "outputs": [],
   "source": [
    "epa['Tested_Transmission_Type_Code']= epa['Tested_Transmission_Type_Code'].astype('category')\n",
    "    \n",
    "epa['Drive_System_Code']= epa['Drive_System_Code'].astype('category')"
   ]
  },
  {
   "cell_type": "code",
   "execution_count": null,
   "id": "58598bd7",
   "metadata": {},
   "outputs": [],
   "source": [
    "epa.shape"
   ]
  },
  {
   "cell_type": "code",
   "execution_count": null,
   "id": "019ebe9e",
   "metadata": {},
   "outputs": [],
   "source": [
    "#One hot encode categories\n",
    "epa = pd.get_dummies(epa)"
   ]
  },
  {
   "cell_type": "code",
   "execution_count": null,
   "id": "da5a4cb7",
   "metadata": {},
   "outputs": [],
   "source": [
    "print(epa.shape)\n",
    "epa"
   ]
  },
  {
   "cell_type": "code",
   "execution_count": null,
   "id": "82eef62b",
   "metadata": {},
   "outputs": [],
   "source": [
    "# Create the training dataset for scikit learn, you will need all varialbes except the labe you are trying to predict\n",
    "epa_X = epa.iloc[:, epa.columns !='FuelEcon']\n",
    "#epa_X = epa.iloc[:, epa.columns =='Weight']\n",
    "epa_X"
   ]
  },
  {
   "cell_type": "code",
   "execution_count": null,
   "id": "58865b50",
   "metadata": {},
   "outputs": [],
   "source": [
    "epa_y = epa.iloc[:, epa.columns =='FuelEcon']"
   ]
  },
  {
   "cell_type": "code",
   "execution_count": null,
   "id": "6730996c",
   "metadata": {},
   "outputs": [],
   "source": [
    "# Split the training and test set \n",
    "X_train, X_test, y_train, y_test = train_test_split(epa_X, epa_y, test_size=0.20)"
   ]
  },
  {
   "cell_type": "code",
   "execution_count": null,
   "id": "268b47e0",
   "metadata": {},
   "outputs": [],
   "source": [
    "print(X_train.shape, X_test.shape, y_train.shape, y_test.shape )"
   ]
  },
  {
   "cell_type": "code",
   "execution_count": null,
   "id": "3343fbc0",
   "metadata": {},
   "outputs": [],
   "source": [
    "from sklearn import linear_model\n",
    "\n",
    "epa_lm = regr = linear_model.LinearRegression()"
   ]
  },
  {
   "cell_type": "code",
   "execution_count": null,
   "id": "48257db5",
   "metadata": {},
   "outputs": [],
   "source": [
    "epa_lm.fit(X_train, y_train)"
   ]
  },
  {
   "cell_type": "code",
   "execution_count": null,
   "id": "792edcab",
   "metadata": {},
   "outputs": [],
   "source": [
    "epa_y_pred = epa_lm.predict(X_test)"
   ]
  },
  {
   "cell_type": "code",
   "execution_count": null,
   "id": "b91b3ef4",
   "metadata": {},
   "outputs": [],
   "source": [
    "metrics(\"linear_model\",y_test, epa_y_pred)"
   ]
  },
  {
   "cell_type": "code",
   "execution_count": null,
   "id": "3825e095",
   "metadata": {},
   "outputs": [],
   "source": [
    "from sklearn.model_selection import cross_val_predict\n",
    "\n",
    "# cross_val_predict returns an array of the same size as `y` where each entry\n",
    "# is a prediction obtained by cross validation:\n",
    "predicted = cross_val_predict(epa_lm, X_test, y_test, cv=5)\n",
    "\n",
    "fig, ax = plt.subplots()\n",
    "ax.scatter(y_test, predicted, edgecolors=(0, 0, 0))\n",
    "ax.plot([y_test.min(), y_test.max()], [y_test.min(), y_test.max()], 'k--', lw=4)\n",
    "ax.set_xlabel('Measured')\n",
    "ax.set_ylabel('Predicted')\n",
    "plt.show()\n",
    "\n"
   ]
  },
  {
   "cell_type": "markdown",
   "id": "44ba8d1f",
   "metadata": {},
   "source": [
    "# K Nearest Neighbor Regressor\n"
   ]
  },
  {
   "cell_type": "code",
   "execution_count": null,
   "id": "2c800f7d",
   "metadata": {},
   "outputs": [],
   "source": [
    "# Create and fit a nearest-neighbor classifier\n",
    "from sklearn.neighbors import KNeighborsRegressor\n"
   ]
  },
  {
   "cell_type": "code",
   "execution_count": null,
   "id": "da4b6161",
   "metadata": {},
   "outputs": [],
   "source": [
    "knn = KNeighborsRegressor()\n",
    "knn.fit(X_train, y_train)\n",
    "knn_y_hat = knn.predict(X_test)"
   ]
  },
  {
   "cell_type": "code",
   "execution_count": null,
   "id": "c8d529c9",
   "metadata": {},
   "outputs": [],
   "source": [
    "metrics(\"KNeighborsRegressor\",y_test, knn_y_hat)"
   ]
  },
  {
   "cell_type": "markdown",
   "id": "6ec5b59e",
   "metadata": {},
   "source": [
    "# Random Forest Regressor"
   ]
  },
  {
   "cell_type": "code",
   "execution_count": null,
   "id": "d2b9acd3",
   "metadata": {},
   "outputs": [],
   "source": [
    "from sklearn.ensemble import RandomForestRegressor\n",
    "from sklearn import tree\n",
    "import graphviz "
   ]
  },
  {
   "cell_type": "code",
   "execution_count": null,
   "id": "44b9302f",
   "metadata": {},
   "outputs": [],
   "source": [
    "epa_forest = RandomForestRegressor()\n",
    "epa_forest.fit(X_train, y_train)"
   ]
  },
  {
   "cell_type": "code",
   "execution_count": null,
   "id": "36bc284e",
   "metadata": {},
   "outputs": [],
   "source": [
    "forest_y_hat = epa_forest.predict(X_test)"
   ]
  },
  {
   "cell_type": "code",
   "execution_count": null,
   "id": "3130e090",
   "metadata": {
    "scrolled": true
   },
   "outputs": [],
   "source": [
    "metrics(\"RandomForestRegressor\",y_test, forest_y_hat)"
   ]
  },
  {
   "cell_type": "markdown",
   "id": "0571ff46",
   "metadata": {},
   "source": [
    "# Gradient Boosting for regression"
   ]
  },
  {
   "cell_type": "code",
   "execution_count": null,
   "id": "7b8c413b",
   "metadata": {},
   "outputs": [],
   "source": [
    "from sklearn.ensemble import GradientBoostingRegressor"
   ]
  },
  {
   "cell_type": "code",
   "execution_count": null,
   "id": "a8d5c080",
   "metadata": {},
   "outputs": [],
   "source": [
    "reg = GradientBoostingRegressor(random_state=0)"
   ]
  },
  {
   "cell_type": "code",
   "execution_count": null,
   "id": "663c3580",
   "metadata": {},
   "outputs": [],
   "source": [
    "reg.fit(X_train, y_train)"
   ]
  },
  {
   "cell_type": "code",
   "execution_count": null,
   "id": "3cc42f1f",
   "metadata": {},
   "outputs": [],
   "source": [
    "gb_y_hat = reg.predict(X_test)\n"
   ]
  },
  {
   "cell_type": "code",
   "execution_count": null,
   "id": "e8a069f1",
   "metadata": {},
   "outputs": [],
   "source": [
    "metrics(\"GradientBoostingRegressor\",y_test, gb_y_hat)"
   ]
  },
  {
   "cell_type": "markdown",
   "id": "0d9c6abd",
   "metadata": {},
   "source": [
    "# Principal component analysis (PCA)"
   ]
  },
  {
   "cell_type": "markdown",
   "id": "ad0ebfe2",
   "metadata": {},
   "source": [
    "Ever wondered what PCA would do to your prediction?  "
   ]
  },
  {
   "cell_type": "code",
   "execution_count": null,
   "id": "1658660a",
   "metadata": {},
   "outputs": [],
   "source": [
    "from sklearn.decomposition import PCA"
   ]
  },
  {
   "cell_type": "code",
   "execution_count": null,
   "id": "b54353d6",
   "metadata": {},
   "outputs": [],
   "source": [
    "pca = PCA(n_components=8)\n",
    "principalComponents = pca.fit_transform(epa_X)\n",
    "principalDf = pd.DataFrame(data = principalComponents, columns = ['V1','V2','V3','V4','V5','V6','V7','V8'])"
   ]
  },
  {
   "cell_type": "code",
   "execution_count": null,
   "id": "c56f5ac9",
   "metadata": {},
   "outputs": [],
   "source": [
    "principalDf"
   ]
  },
  {
   "cell_type": "code",
   "execution_count": null,
   "id": "a1f23bce",
   "metadata": {},
   "outputs": [],
   "source": [
    "y = pd.DataFrame(epa[\"FuelEcon\"] )\n",
    "pd.concat([principalDf,y],axis=1)\n",
    "\n",
    "sns.set(rc={'figure.figsize':(12,8)})\n",
    "sns.heatmap(pd.concat([principalDf,y],axis=1).corr(), annot = True)"
   ]
  },
  {
   "cell_type": "code",
   "execution_count": null,
   "id": "d673a0b4",
   "metadata": {},
   "outputs": [],
   "source": [
    "epa_forest = RandomForestRegressor()\n",
    "epa_forest.fit(X_train, y_train)\n",
    "epa_pca_y_pred = epa_forest.predict(X_test)"
   ]
  },
  {
   "cell_type": "code",
   "execution_count": null,
   "id": "26f8a61d",
   "metadata": {},
   "outputs": [],
   "source": [
    "metrics(\"PCA W/ RandomForestRegressor\",y_test, epa_pca_y_pred)"
   ]
  },
  {
   "cell_type": "code",
   "execution_count": null,
   "id": "7cff7056",
   "metadata": {},
   "outputs": [],
   "source": []
  },
  {
   "cell_type": "code",
   "execution_count": null,
   "id": "b3c02234",
   "metadata": {},
   "outputs": [],
   "source": []
  },
  {
   "cell_type": "code",
   "execution_count": null,
   "id": "903aefd5",
   "metadata": {},
   "outputs": [],
   "source": []
  },
  {
   "cell_type": "code",
   "execution_count": null,
   "id": "a5542397",
   "metadata": {},
   "outputs": [],
   "source": []
  }
 ],
 "metadata": {
  "kernelspec": {
   "display_name": "Python 3",
   "language": "python",
   "name": "python3"
  },
  "language_info": {
   "codemirror_mode": {
    "name": "ipython",
    "version": 3
   },
   "file_extension": ".py",
   "mimetype": "text/x-python",
   "name": "python",
   "nbconvert_exporter": "python",
   "pygments_lexer": "ipython3",
   "version": "3.8.1"
  }
 },
 "nbformat": 4,
 "nbformat_minor": 5
}
