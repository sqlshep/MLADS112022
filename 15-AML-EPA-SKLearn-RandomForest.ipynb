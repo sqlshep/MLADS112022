{
 "cells": [
  {
   "cell_type": "code",
   "execution_count": null,
   "id": "a3bb5cd1",
   "metadata": {},
   "outputs": [],
   "source": [
    "import matplotlib.pyplot as plt\n",
    "import numpy as np\n",
    "import pandas as pd\n",
    "import seaborn as sns\n",
    "from sklearn.model_selection import train_test_split\n",
    "from sklearn.ensemble import RandomForestRegressor\n",
    "from sklearn.metrics import mean_squared_error, r2_score\n",
    "import joblib\n",
    "import math "
   ]
  },
  {
   "cell_type": "code",
   "execution_count": null,
   "id": "f64140d5",
   "metadata": {},
   "outputs": [],
   "source": [
    "print(pd.__version__)"
   ]
  },
  {
   "cell_type": "code",
   "execution_count": null,
   "id": "a8bb5d50",
   "metadata": {},
   "outputs": [],
   "source": [
    "from azureml.core import Workspace\n",
    "\n",
    "\n",
    "ws = Workspace.from_config()\n",
    "print(ws.name, ws.resource_group, ws.location, ws.subscription_id, sep='\\n')"
   ]
  },
  {
   "cell_type": "code",
   "execution_count": null,
   "id": "deb966b4",
   "metadata": {},
   "outputs": [],
   "source": [
    "model_metrics = pd.DataFrame(columns=[\"Model\", \"MSE\", \"RMSE\", \"R2\"], dtype=object)\n",
    "\n",
    "\n",
    "def metrics(model, y, y_hat):\n",
    "\n",
    "    model_metrics.loc[-1] = {\"Model\" : model, \n",
    "              \"MSE\" : mean_squared_error(y, y_hat),\n",
    "              \"RMSE\" : math.sqrt(mean_squared_error(y, y_hat)),\n",
    "              \"R2\" : r2_score(y, y_hat)}\n",
    "\n",
    "    model_metrics.index = model_metrics.index + 1\n",
    "    return model_metrics \n",
    "\n",
    "#metrics(\"PCA Forest\",y_test, epa_pca_y_pred)"
   ]
  },
  {
   "cell_type": "code",
   "execution_count": null,
   "id": "57e50c10",
   "metadata": {},
   "outputs": [],
   "source": [
    "epa = pd.read_csv('https://raw.githubusercontent.com/sqlshep/SQLShepBlog/master/data/epaMpg.csv')"
   ]
  },
  {
   "cell_type": "code",
   "execution_count": null,
   "id": "5242c3cf",
   "metadata": {},
   "outputs": [],
   "source": [
    "epa.head(10)"
   ]
  },
  {
   "cell_type": "code",
   "execution_count": null,
   "id": "c4e034b6",
   "metadata": {},
   "outputs": [],
   "source": [
    "epa.shape"
   ]
  },
  {
   "cell_type": "code",
   "execution_count": null,
   "id": "eef18e6f",
   "metadata": {},
   "outputs": [],
   "source": [
    "#Drop the row number\n",
    "epa = epa.drop(epa.columns[[0]], axis=1)\n",
    "\n",
    "#replace the \".\" in the column names with \"_\"\n",
    "epa.columns = epa.columns.str.replace('.', '_')\n",
    "\n",
    "# Drop the first three columns\n",
    "epa = epa.drop(epa.columns[[0,1,2]], axis=1)\n",
    "\n",
    "# drop descrition columns\n",
    "epa = epa.drop(epa.columns[[3,9,11]], axis=1)\n",
    "epa\n"
   ]
  },
  {
   "cell_type": "code",
   "execution_count": null,
   "id": "e2d79fb2",
   "metadata": {},
   "outputs": [],
   "source": [
    "epa['Tested_Transmission_Type_Code']= epa['Tested_Transmission_Type_Code'].astype('category')\n",
    "    \n",
    "epa['Drive_System_Code']= epa['Drive_System_Code'].astype('category')"
   ]
  },
  {
   "cell_type": "code",
   "execution_count": null,
   "id": "9e8c7318",
   "metadata": {},
   "outputs": [],
   "source": [
    "#One hot encode categories\n",
    "epa = pd.get_dummies(epa)"
   ]
  },
  {
   "cell_type": "code",
   "execution_count": null,
   "id": "0c8c13fa",
   "metadata": {},
   "outputs": [],
   "source": [
    "# Create the training dataset for scikit learn, you will need all varialbes except the labe you are trying to predict\n",
    "epa_X = epa.iloc[:, epa.columns !='FuelEcon']\n",
    "#epa_X = epa.iloc[:, epa.columns =='Weight']\n",
    "epa_X\n",
    "\n"
   ]
  },
  {
   "cell_type": "code",
   "execution_count": null,
   "id": "4860fa84",
   "metadata": {},
   "outputs": [],
   "source": [
    "epa_y = epa.iloc[:, epa.columns =='FuelEcon']"
   ]
  },
  {
   "cell_type": "code",
   "execution_count": null,
   "id": "6bcb0fd9",
   "metadata": {},
   "outputs": [],
   "source": [
    "# Split the training and test set \n",
    "X_train, X_test, y_train, y_test = train_test_split(epa_X, epa_y, test_size=0.20)"
   ]
  },
  {
   "cell_type": "code",
   "execution_count": null,
   "id": "c45acbfe",
   "metadata": {},
   "outputs": [],
   "source": [
    "epa_forest = RandomForestRegressor()\n",
    "epa_forest.fit(X_train, y_train)"
   ]
  },
  {
   "cell_type": "code",
   "execution_count": null,
   "id": "a67d4f05",
   "metadata": {},
   "outputs": [],
   "source": [
    "forest_y_hat = epa_forest.predict(X_test)"
   ]
  },
  {
   "cell_type": "code",
   "execution_count": null,
   "id": "8790d8ad",
   "metadata": {},
   "outputs": [],
   "source": [
    "metrics(\"RandomForestRegressor\",y_test, forest_y_hat)"
   ]
  },
  {
   "cell_type": "code",
   "execution_count": null,
   "id": "4ca0351d",
   "metadata": {},
   "outputs": [],
   "source": [
    "joblib.dump(epa_forest, 'EPA_sklearn_regression_model.pkl')"
   ]
  },
  {
   "cell_type": "code",
   "execution_count": null,
   "id": "8a944407",
   "metadata": {},
   "outputs": [],
   "source": [
    "import numpy as np\n",
    "\n",
    "from azureml.core import Dataset\n",
    "\n",
    "\n",
    "np.savetxt('EPA_features.csv', epa_X, delimiter=',')\n",
    "np.savetxt('EPA_labels.csv', epa_y, delimiter=',')\n",
    "\n",
    "datastore = ws.get_default_datastore()\n",
    "datastore.upload_files(files=['./EPA_features.csv', './EPA_labels.csv'],\n",
    "                       target_path='EPA_sklearn_regression/',\n",
    "                       overwrite=True)\n",
    "\n",
    "input_dataset = Dataset.Tabular.from_delimited_files(path=[(datastore, 'EPA_sklearn_regression/EPA_features.csv')])\n",
    "output_dataset = Dataset.Tabular.from_delimited_files(path=[(datastore, 'EPA_sklearn_regression/EPA_labels.csv')])"
   ]
  },
  {
   "cell_type": "code",
   "execution_count": null,
   "id": "d8dfc3f5",
   "metadata": {},
   "outputs": [],
   "source": [
    "import sklearn\n",
    "\n",
    "from azureml.core import Model\n",
    "from azureml.core.resource_configuration import ResourceConfiguration\n",
    "\n",
    "\n",
    "model = Model.register(workspace=ws,\n",
    "                       model_name='EPA-sklearn-model-R-Forest',                # Name of the registered model in your workspace.\n",
    "                       model_path='./EPA_sklearn_regression_model.pkl',  # Local file to upload and register as a model.\n",
    "                       model_framework=Model.Framework.SCIKITLEARN,  # Framework used to create the model.\n",
    "                       model_framework_version=sklearn.__version__,  # Version of scikit-learn used to create the model.\n",
    "                       sample_input_dataset=input_dataset,\n",
    "                       sample_output_dataset=output_dataset,\n",
    "                       resource_configuration=ResourceConfiguration(cpu=1, memory_in_gb=0.5),\n",
    "                       description='SKLearn Random Forest to predict EPA MPG.',\n",
    "                       tags={'area': 'EPA', 'type': 'regression'})\n",
    "\n",
    "print('Name:', model.name)\n",
    "print('Version:', model.version)"
   ]
  },
  {
   "cell_type": "code",
   "execution_count": null,
   "id": "15639ec0",
   "metadata": {},
   "outputs": [],
   "source": [
    "service_name = 'epa-sklearn-forest-service'\n",
    "\n",
    "service = Model.deploy(ws, service_name, [model], overwrite=True)\n",
    "service.wait_for_deployment(show_output=True)"
   ]
  },
  {
   "cell_type": "code",
   "execution_count": null,
   "id": "c1104c31",
   "metadata": {},
   "outputs": [],
   "source": [
    "X_test[0:1].to_numpy().tolist()"
   ]
  },
  {
   "cell_type": "code",
   "execution_count": null,
   "id": "e2692446",
   "metadata": {},
   "outputs": [],
   "source": [
    "import json\n",
    "\n",
    "input_payload = json.dumps({\n",
    "    'data': X_test[64:65].to_numpy().tolist(),\n",
    "    'method': 'predict'  # If you have a classification model, you can get probabilities by changing this to 'predict_proba'.\n",
    "})\n",
    "\n",
    "output = service.run(input_payload)\n",
    "\n",
    "print(output)"
   ]
  },
  {
   "cell_type": "code",
   "execution_count": null,
   "id": "dfb3ff1b",
   "metadata": {},
   "outputs": [],
   "source": [
    "#service.delete()"
   ]
  },
  {
   "cell_type": "code",
   "execution_count": null,
   "id": "271e8d96",
   "metadata": {},
   "outputs": [],
   "source": []
  }
 ],
 "metadata": {
  "kernelspec": {
   "display_name": "Python 3",
   "language": "python",
   "name": "python3"
  },
  "language_info": {
   "codemirror_mode": {
    "name": "ipython",
    "version": 3
   },
   "file_extension": ".py",
   "mimetype": "text/x-python",
   "name": "python",
   "nbconvert_exporter": "python",
   "pygments_lexer": "ipython3",
   "version": "3.8.1"
  }
 },
 "nbformat": 4,
 "nbformat_minor": 5
}
