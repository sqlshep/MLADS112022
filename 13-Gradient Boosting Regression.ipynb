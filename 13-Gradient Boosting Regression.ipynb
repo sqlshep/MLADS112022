{
 "cells": [
  {
   "cell_type": "markdown",
   "metadata": {},
   "source": [
    "# Gradient Tree Boosting\n",
    "\n",
    "Gradient Tree Boosting or Gradient Boosted Decision Trees (GBDT) is a generalization of boosting to arbitrary differentiable loss functions. GBDT is an accurate and effective off-the-shelf procedure that can be used for both regression and classification problems in a variety of areas including Web search ranking and ecology.\n",
    "\n",
    "The module sklearn.ensemble provides methods for both classification and regression via gradient boosted decision trees.\n",
    "\n",
    "https://scikit-learn.org/stable/modules/ensemble.html#gradient-boosting\n"
   ]
  },
  {
   "cell_type": "code",
   "execution_count": null,
   "metadata": {},
   "outputs": [],
   "source": [
    "import pandas as pd\n",
    "import seaborn as sns\n",
    "from sklearn.model_selection import train_test_split\n",
    "from sklearn.metrics import mean_squared_error, r2_score\n",
    "from sklearn.ensemble import RandomForestRegressor\n",
    "from sklearn import tree\n",
    "import graphviz \n",
    "from sklearn.datasets import make_regression\n",
    "from sklearn.ensemble import GradientBoostingRegressor\n",
    "import math"
   ]
  },
  {
   "cell_type": "code",
   "execution_count": null,
   "metadata": {},
   "outputs": [],
   "source": [
    "epa = pd.read_csv('https://raw.githubusercontent.com/sqlshep/SQLShepBlog/master/data/epaMpg.csv')\n",
    "\n",
    "#Drop the row number\n",
    "epa = epa.drop(epa.columns[[0]], axis=1)\n",
    "\n",
    "#replace the \".\" in the column names with \"_\"\n",
    "epa.columns = epa.columns.str.replace('.', '_')\n",
    "\n",
    "# Drop useless columns\n",
    "epa = epa.drop(epa.columns[[0,1,2]], axis=1)\n",
    "epa = epa.drop(epa.columns[[3,9,11]], axis=1)\n",
    "\n",
    "epa['Tested_Transmission_Type_Code']= epa['Tested_Transmission_Type_Code'].astype('category')    \n",
    "epa['Drive_System_Code']= epa['Drive_System_Code'].astype('category')\n",
    "\n",
    "#One hot encode categories\n",
    "epa = pd.get_dummies(epa)"
   ]
  },
  {
   "cell_type": "code",
   "execution_count": null,
   "metadata": {},
   "outputs": [],
   "source": [
    "#epa_X = epa.iloc[:, epa.columns =='Weight']\n",
    "epa_X = epa.iloc[:, epa.columns !='FuelEcon']\n",
    "epa_y = epa.iloc[:, epa.columns =='FuelEcon']"
   ]
  },
  {
   "cell_type": "code",
   "execution_count": null,
   "metadata": {},
   "outputs": [],
   "source": [
    "# Split the training and test set \n",
    "X_train, X_test, y_train, y_test = train_test_split(epa_X, epa_y, test_size=0.20)"
   ]
  },
  {
   "cell_type": "code",
   "execution_count": null,
   "metadata": {},
   "outputs": [],
   "source": [
    "print(X_train.shape, X_test.shape, y_train.shape, y_test.shape )"
   ]
  },
  {
   "cell_type": "code",
   "execution_count": null,
   "metadata": {},
   "outputs": [],
   "source": [
    "epa_gb = GradientBoostingRegressor(n_estimators=500, max_leaf_nodes=-1,random_state=0)"
   ]
  },
  {
   "cell_type": "code",
   "execution_count": null,
   "metadata": {},
   "outputs": [],
   "source": [
    "epa_gb.fit(X_train, y_train)"
   ]
  },
  {
   "cell_type": "code",
   "execution_count": null,
   "metadata": {},
   "outputs": [],
   "source": [
    "epa_y_pred = epa_gb.predict(X_test)"
   ]
  },
  {
   "cell_type": "code",
   "execution_count": null,
   "metadata": {},
   "outputs": [],
   "source": [
    "# The mean squared error\n",
    "print('Mean squared error: %.2f'\n",
    "      % mean_squared_error(y_test, epa_y_pred))\n",
    "\n",
    "# The root mean squared error\n",
    "print('Root Mean squared error: %.2f'\n",
    "      % math.sqrt(mean_squared_error(y_test, epa_y_pred)))\n",
    "\n",
    "# The coefficient of determination: 1 is perfect prediction\n",
    "print('Coefficient of determination: %.2f'\n",
    "      % r2_score(y_test, epa_y_pred))"
   ]
  },
  {
   "cell_type": "code",
   "execution_count": null,
   "metadata": {},
   "outputs": [],
   "source": [
    "epa_gb.estimators_[0,0]"
   ]
  },
  {
   "cell_type": "code",
   "execution_count": null,
   "metadata": {},
   "outputs": [],
   "source": [
    "dot_data = tree.export_graphviz(epa_gb.estimators_[0,0], out_file=None) \n",
    "graph = graphviz.Source(dot_data) \n",
    "graph.render(\"EPA_XGB\") "
   ]
  },
  {
   "cell_type": "code",
   "execution_count": null,
   "metadata": {},
   "outputs": [],
   "source": [
    "epa_gb.estimators_.shape"
   ]
  },
  {
   "cell_type": "code",
   "execution_count": null,
   "metadata": {},
   "outputs": [],
   "source": []
  }
 ],
 "metadata": {
  "kernelspec": {
   "display_name": "Python 3 (ipykernel)",
   "language": "python",
   "name": "python3"
  },
  "language_info": {
   "codemirror_mode": {
    "name": "ipython",
    "version": 3
   },
   "file_extension": ".py",
   "mimetype": "text/x-python",
   "name": "python",
   "nbconvert_exporter": "python",
   "pygments_lexer": "ipython3",
   "version": "3.8.5"
  }
 },
 "nbformat": 4,
 "nbformat_minor": 4
}
