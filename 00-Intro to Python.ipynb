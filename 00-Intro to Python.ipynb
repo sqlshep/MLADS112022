{
 "cells": [
  {
   "cell_type": "markdown",
   "metadata": {},
   "source": [
    "# Python "
   ]
  },
  {
   "cell_type": "markdown",
   "metadata": {},
   "source": [
    "### Getting Started with Print"
   ]
  },
  {
   "cell_type": "code",
   "execution_count": 1,
   "metadata": {
    "scrolled": true
   },
   "outputs": [
    {
     "name": "stdout",
     "output_type": "stream",
     "text": [
      "Hello Python\n"
     ]
    }
   ],
   "source": [
    "print(\"Hello Python\")"
   ]
  },
  {
   "cell_type": "code",
   "execution_count": null,
   "metadata": {},
   "outputs": [],
   "source": []
  },
  {
   "cell_type": "code",
   "execution_count": 2,
   "metadata": {},
   "outputs": [
    {
     "name": "stdout",
     "output_type": "stream",
     "text": [
      "3.0\n"
     ]
    }
   ],
   "source": [
    "print(9/3)"
   ]
  },
  {
   "cell_type": "code",
   "execution_count": null,
   "metadata": {},
   "outputs": [],
   "source": []
  },
  {
   "cell_type": "code",
   "execution_count": 3,
   "metadata": {},
   "outputs": [
    {
     "name": "stdout",
     "output_type": "stream",
     "text": [
      "Results of the 2019 Indy 500\n"
     ]
    }
   ],
   "source": [
    "\n",
    "x = '2019'\n",
    "y = 'Indy 500'\n",
    "\n",
    "print(\"Results of the {0} {1}\".format(x,y))"
   ]
  },
  {
   "cell_type": "code",
   "execution_count": null,
   "metadata": {},
   "outputs": [],
   "source": []
  },
  {
   "cell_type": "code",
   "execution_count": 4,
   "metadata": {},
   "outputs": [],
   "source": [
    "# this works in base python...\n",
    "#print(f'Results of the {x} {y}')"
   ]
  },
  {
   "cell_type": "code",
   "execution_count": 5,
   "metadata": {},
   "outputs": [
    {
     "name": "stdout",
     "output_type": "stream",
     "text": [
      "Results of the 2019 Indy 500\n"
     ]
    }
   ],
   "source": [
    "print('Results of the {} {}'.format(x,y))"
   ]
  },
  {
   "cell_type": "code",
   "execution_count": null,
   "metadata": {},
   "outputs": [],
   "source": []
  },
  {
   "cell_type": "code",
   "execution_count": 6,
   "metadata": {},
   "outputs": [
    {
     "name": "stdout",
     "output_type": "stream",
     "text": [
      "42,572,654 YES votes  49.67%\n"
     ]
    }
   ],
   "source": [
    "yes_votes = 42572654\n",
    "no_votes = 43132495\n",
    "\n",
    "percentage = yes_votes / (yes_votes + no_votes)\n",
    "\n",
    "print('{:,} YES votes  {:2.2%}'.format(yes_votes, percentage))"
   ]
  },
  {
   "cell_type": "code",
   "execution_count": null,
   "metadata": {},
   "outputs": [],
   "source": []
  },
  {
   "cell_type": "markdown",
   "metadata": {},
   "source": [
    "### Types"
   ]
  },
  {
   "cell_type": "markdown",
   "metadata": {},
   "source": [
    "#### Boolean"
   ]
  },
  {
   "cell_type": "code",
   "execution_count": 7,
   "metadata": {},
   "outputs": [
    {
     "name": "stdout",
     "output_type": "stream",
     "text": [
      "They do not Equal\n",
      "<class 'bool'>\n"
     ]
    }
   ],
   "source": [
    "myBool = True\n",
    "myOtherBool = False\n",
    "\n",
    "if (myBool == myOtherBool):\n",
    "    print(\"They Equal\")\n",
    "else: \n",
    "    print(\"They do not Equal\")\n",
    "        \n",
    "\n",
    "print(type(myBool))"
   ]
  },
  {
   "cell_type": "code",
   "execution_count": null,
   "metadata": {},
   "outputs": [],
   "source": []
  },
  {
   "cell_type": "code",
   "execution_count": 8,
   "metadata": {},
   "outputs": [
    {
     "name": "stdout",
     "output_type": "stream",
     "text": [
      "myInt is less than myOtherInt with 99\n"
     ]
    }
   ],
   "source": [
    "myInt = 99\n",
    "myOtherInt = 999\n",
    "\n",
    "if (myInt <= myOtherInt):\n",
    "    print(\"myInt is less than myOtherInt with {}\".format(myInt) )"
   ]
  },
  {
   "cell_type": "code",
   "execution_count": null,
   "metadata": {},
   "outputs": [],
   "source": []
  },
  {
   "cell_type": "markdown",
   "metadata": {},
   "source": [
    "#### Numeric Types"
   ]
  },
  {
   "cell_type": "code",
   "execution_count": 9,
   "metadata": {},
   "outputs": [
    {
     "data": {
      "text/plain": [
       "12.375"
      ]
     },
     "execution_count": 9,
     "metadata": {},
     "output_type": "execute_result"
    }
   ],
   "source": [
    "#Division\n",
    "99 / 8\n"
   ]
  },
  {
   "cell_type": "code",
   "execution_count": null,
   "metadata": {},
   "outputs": [],
   "source": []
  },
  {
   "cell_type": "code",
   "execution_count": 10,
   "metadata": {},
   "outputs": [
    {
     "data": {
      "text/plain": [
       "12"
      ]
     },
     "execution_count": 10,
     "metadata": {},
     "output_type": "execute_result"
    }
   ],
   "source": [
    "#Floor Division\n",
    "99 // 8"
   ]
  },
  {
   "cell_type": "code",
   "execution_count": null,
   "metadata": {},
   "outputs": [],
   "source": []
  },
  {
   "cell_type": "code",
   "execution_count": 11,
   "metadata": {},
   "outputs": [
    {
     "data": {
      "text/plain": [
       "3"
      ]
     },
     "execution_count": 11,
     "metadata": {},
     "output_type": "execute_result"
    }
   ],
   "source": [
    "# Remainder, Modulo\n",
    "99 % 8"
   ]
  },
  {
   "cell_type": "code",
   "execution_count": null,
   "metadata": {},
   "outputs": [],
   "source": []
  },
  {
   "cell_type": "code",
   "execution_count": 12,
   "metadata": {},
   "outputs": [
    {
     "data": {
      "text/plain": [
       "4500"
      ]
     },
     "execution_count": 12,
     "metadata": {},
     "output_type": "execute_result"
    }
   ],
   "source": [
    "# Absolute value\n",
    "abs(-4500)"
   ]
  },
  {
   "cell_type": "code",
   "execution_count": null,
   "metadata": {},
   "outputs": [],
   "source": []
  },
  {
   "cell_type": "code",
   "execution_count": 13,
   "metadata": {},
   "outputs": [
    {
     "data": {
      "text/plain": [
       "(12, 3)"
      ]
     },
     "execution_count": 13,
     "metadata": {},
     "output_type": "execute_result"
    }
   ],
   "source": [
    "#divmod\n",
    "divmod(99,8)"
   ]
  },
  {
   "cell_type": "code",
   "execution_count": null,
   "metadata": {},
   "outputs": [],
   "source": []
  },
  {
   "cell_type": "code",
   "execution_count": 14,
   "metadata": {},
   "outputs": [
    {
     "name": "stdout",
     "output_type": "stream",
     "text": [
      "16\n",
      "16\n"
     ]
    }
   ],
   "source": [
    "# Powers\n",
    "print(pow(2,4))\n",
    "\n",
    "print(2**4)"
   ]
  },
  {
   "cell_type": "code",
   "execution_count": null,
   "metadata": {},
   "outputs": [],
   "source": []
  },
  {
   "cell_type": "markdown",
   "metadata": {},
   "source": [
    "## Sequence types: Lists, tuples, range"
   ]
  },
  {
   "cell_type": "code",
   "execution_count": 15,
   "metadata": {},
   "outputs": [
    {
     "name": "stdout",
     "output_type": "stream",
     "text": [
      "<class 'list'>\n"
     ]
    }
   ],
   "source": [
    "\n",
    "myList = [\"One\", \"Two\", \"Three\", \"Four\",\"Five\", \"Six\", \"Seven\"]\n",
    "\n",
    "\n",
    "print(type(myList))"
   ]
  },
  {
   "cell_type": "code",
   "execution_count": null,
   "metadata": {},
   "outputs": [],
   "source": []
  },
  {
   "cell_type": "code",
   "execution_count": 16,
   "metadata": {},
   "outputs": [
    {
     "data": {
      "text/plain": [
       "'Two'"
      ]
     },
     "execution_count": 16,
     "metadata": {},
     "output_type": "execute_result"
    }
   ],
   "source": [
    "\n",
    "myList = [\"One\", \"Two\", \"Three\", \"Four\",\"Five\", \"Six\", \"Seven\"]\n",
    "\n",
    "\n",
    "# Element in index 1\n",
    "myList[1]\n",
    "\n",
    "# Element starting at index 1 inclusive\n",
    "#myList[1:]\n",
    "\n",
    "# Element starting at index 0 - 3 not inclusive of 4\n",
    "#myList[:4]\n",
    "\n",
    "# Element starting at index 2 - 3 not inclusive of 4\n",
    "#myList[2:4]"
   ]
  },
  {
   "cell_type": "code",
   "execution_count": 17,
   "metadata": {},
   "outputs": [
    {
     "data": {
      "text/plain": [
       "['Three', 'Four']"
      ]
     },
     "execution_count": 17,
     "metadata": {},
     "output_type": "execute_result"
    }
   ],
   "source": [
    "#slice a section from myList to make my tiny list \n",
    "myTinyList = myList[2:4]\n",
    "\n",
    "\n",
    "# Lets verify what i have in memory\n",
    "myTinyList"
   ]
  },
  {
   "cell_type": "code",
   "execution_count": 18,
   "metadata": {},
   "outputs": [
    {
     "data": {
      "text/plain": [
       "'T'"
      ]
     },
     "execution_count": 18,
     "metadata": {},
     "output_type": "execute_result"
    }
   ],
   "source": [
    "# Look at location 0,0\n",
    "myTinyList[0][0]"
   ]
  },
  {
   "cell_type": "markdown",
   "metadata": {},
   "source": [
    "### Sort and Reverse"
   ]
  },
  {
   "cell_type": "code",
   "execution_count": 19,
   "metadata": {},
   "outputs": [
    {
     "name": "stdout",
     "output_type": "stream",
     "text": [
      "['Five', 'Four', 'One', 'Seven', 'Six', 'Three', 'Two']\n",
      "['Two', 'Three', 'Six', 'Seven', 'One', 'Four', 'Five']\n"
     ]
    }
   ],
   "source": [
    "\n",
    "myList = [\"One\", \"Two\", \"Three\", \"Four\",\"Five\", \"Six\", \"Seven\"]\n",
    "\n",
    "#Sort \n",
    "myList.sort()\n",
    "print(myList)\n",
    "\n",
    "#Reverses\n",
    "myList.reverse()\n",
    "print(myList)"
   ]
  },
  {
   "cell_type": "markdown",
   "metadata": {},
   "source": [
    "### Updating a list"
   ]
  },
  {
   "cell_type": "code",
   "execution_count": 20,
   "metadata": {},
   "outputs": [
    {
     "data": {
      "text/plain": [
       "['Two', 'Zero', 'Six', 'Seven', 'One', 'Four', 'Five']"
      ]
     },
     "execution_count": 20,
     "metadata": {},
     "output_type": "execute_result"
    }
   ],
   "source": [
    "myList[1] = \"Zero\"\n",
    "\n",
    "myList\n",
    "\n"
   ]
  },
  {
   "cell_type": "markdown",
   "metadata": {},
   "source": [
    "### Add an element to a List"
   ]
  },
  {
   "cell_type": "code",
   "execution_count": 21,
   "metadata": {},
   "outputs": [
    {
     "data": {
      "text/plain": [
       "['Two', 'Zero', 'Six', 'Seven', 'One', 'Four', 'Five', 'Eight']"
      ]
     },
     "execution_count": 21,
     "metadata": {},
     "output_type": "execute_result"
    }
   ],
   "source": [
    "myList.append(\"Eight\")\n",
    "\n",
    "myList"
   ]
  },
  {
   "cell_type": "code",
   "execution_count": 22,
   "metadata": {},
   "outputs": [
    {
     "data": {
      "text/plain": [
       "list_iterator"
      ]
     },
     "execution_count": 22,
     "metadata": {},
     "output_type": "execute_result"
    }
   ],
   "source": [
    "myIterList = iter(myList)\n",
    "\n",
    "type(myIterList)"
   ]
  },
  {
   "cell_type": "code",
   "execution_count": 23,
   "metadata": {},
   "outputs": [
    {
     "name": "stdout",
     "output_type": "stream",
     "text": [
      "Two\n",
      "Zero\n",
      "Six\n",
      "Seven\n",
      "One\n",
      "Four\n",
      "Five\n",
      "Eight\n",
      "-999\n"
     ]
    }
   ],
   "source": [
    "print(next(myIterList))\n",
    "print(next(myIterList))\n",
    "print(next(myIterList))\n",
    "print(next(myIterList))\n",
    "print(next(myIterList))\n",
    "print(next(myIterList))\n",
    "print(next(myIterList))\n",
    "print(next(myIterList,\"-999\"))\n",
    "print(next(myIterList,\"-999\"))\n"
   ]
  },
  {
   "cell_type": "markdown",
   "metadata": {},
   "source": [
    "2d List"
   ]
  },
  {
   "cell_type": "code",
   "execution_count": 24,
   "metadata": {},
   "outputs": [
    {
     "data": {
      "text/plain": [
       "2"
      ]
     },
     "execution_count": 24,
     "metadata": {},
     "output_type": "execute_result"
    }
   ],
   "source": [
    "\n",
    "myList = [[\"One\",1], [\"Two\",2],[\"Three\",3], [\"Four\",4,], [\"Five\",5]]\n",
    "\n",
    "myList\n",
    "\n",
    "myList[1][1]"
   ]
  },
  {
   "cell_type": "markdown",
   "metadata": {},
   "source": [
    "### Removing elements from a list"
   ]
  },
  {
   "cell_type": "code",
   "execution_count": 25,
   "metadata": {},
   "outputs": [
    {
     "name": "stdout",
     "output_type": "stream",
     "text": [
      "['One', 2, 'Three', 4, 'Five', 6, 'Seven']\n",
      "['One', 2, 'Three', 4, 'Five', 'Seven']\n",
      "['One', 2, 'Three', 4, 'Seven']\n"
     ]
    }
   ],
   "source": [
    "\n",
    "myOtherList = [\"One\", 2, \"Three\", 4,\"Five\", 6, \"Seven\"]\n",
    "\n",
    "print(myOtherList)\n",
    "\n",
    "#pop 5th index element\n",
    "myOtherList.pop(5)\n",
    "\n",
    "print(myOtherList)\n",
    "\n",
    "#remove and \"Five\"\n",
    "myOtherList.remove(\"Five\")\n",
    "\n",
    "\n",
    "print(myOtherList)"
   ]
  },
  {
   "cell_type": "markdown",
   "metadata": {},
   "source": [
    "### Tuple"
   ]
  },
  {
   "cell_type": "code",
   "execution_count": 26,
   "metadata": {},
   "outputs": [
    {
     "name": "stdout",
     "output_type": "stream",
     "text": [
      "<class 'tuple'>\n"
     ]
    }
   ],
   "source": [
    "myTuple = (\"One\", \"Two\", \"Three\", \"Four\",\"Five\", \"Six\", \"Seven\")\n",
    "\n",
    "print(type(myTuple))"
   ]
  },
  {
   "cell_type": "code",
   "execution_count": 27,
   "metadata": {},
   "outputs": [
    {
     "name": "stdout",
     "output_type": "stream",
     "text": [
      "Two\n"
     ]
    }
   ],
   "source": [
    "print(myTuple[1])\n",
    "\n",
    "#myTuple[1] = \"Two\""
   ]
  },
  {
   "cell_type": "code",
   "execution_count": 28,
   "metadata": {},
   "outputs": [
    {
     "data": {
      "text/plain": [
       "('One', 2, 'Three', 4, 'Five', 6, 'Seven')"
      ]
     },
     "execution_count": 28,
     "metadata": {},
     "output_type": "execute_result"
    }
   ],
   "source": [
    "myOtherTuple = (\"One\", 2, \"Three\", 4,\"Five\", 6, \"Seven\")\n",
    "\n",
    "myOtherTuple"
   ]
  },
  {
   "cell_type": "markdown",
   "metadata": {},
   "source": [
    "### 2D Tuple"
   ]
  },
  {
   "cell_type": "code",
   "execution_count": 29,
   "metadata": {},
   "outputs": [
    {
     "data": {
      "text/plain": [
       "'Four'"
      ]
     },
     "execution_count": 29,
     "metadata": {},
     "output_type": "execute_result"
    }
   ],
   "source": [
    "\n",
    "my2dTuple = ([\"One\",1], [\"Two\",2],[\"Three\",3], [\"Four\",4,], [\"Five\",5])\n",
    "\n",
    "my2dTuple[3][0]"
   ]
  },
  {
   "cell_type": "code",
   "execution_count": 30,
   "metadata": {},
   "outputs": [
    {
     "name": "stdout",
     "output_type": "stream",
     "text": [
      "4\n",
      "2\n"
     ]
    }
   ],
   "source": [
    "myTuple = (\"One\", \"Two\", \"Three\", \"Three\", \"Three\", \"Three\",\"Four\",\"Five\", \"Six\", \"Seven\")\n",
    "\n",
    "\n",
    "# Find \"three, how may times does it occur\"\n",
    "print(myTuple.count(\"Three\"))\n",
    "\n",
    "# Where is three\n",
    "print(myTuple.index(\"Three\"))"
   ]
  },
  {
   "cell_type": "markdown",
   "metadata": {},
   "source": [
    "## Range"
   ]
  },
  {
   "cell_type": "code",
   "execution_count": 31,
   "metadata": {},
   "outputs": [
    {
     "data": {
      "text/plain": [
       "range(0, 10)"
      ]
     },
     "execution_count": 31,
     "metadata": {},
     "output_type": "execute_result"
    }
   ],
   "source": [
    "range(10)\n"
   ]
  },
  {
   "cell_type": "code",
   "execution_count": 32,
   "metadata": {},
   "outputs": [
    {
     "data": {
      "text/plain": [
       "[0, 5, 10, 15, 20, 25, 30, 35, 40, 45]"
      ]
     },
     "execution_count": 32,
     "metadata": {},
     "output_type": "execute_result"
    }
   ],
   "source": [
    "list(range(0,50,5))"
   ]
  },
  {
   "cell_type": "code",
   "execution_count": 33,
   "metadata": {},
   "outputs": [
    {
     "data": {
      "text/plain": [
       "[0, 1, 2, 3, 4, 5, 6, 7, 8, 9]"
      ]
     },
     "execution_count": 33,
     "metadata": {},
     "output_type": "execute_result"
    }
   ],
   "source": [
    "list(range(10))"
   ]
  },
  {
   "cell_type": "code",
   "execution_count": 34,
   "metadata": {},
   "outputs": [
    {
     "name": "stdout",
     "output_type": "stream",
     "text": [
      "<class 'list'>\n"
     ]
    }
   ],
   "source": [
    "x = list(range(10))\n",
    "x\n",
    "\n",
    "print(type(x))"
   ]
  },
  {
   "cell_type": "code",
   "execution_count": 35,
   "metadata": {},
   "outputs": [
    {
     "name": "stdout",
     "output_type": "stream",
     "text": [
      "0\n",
      "1\n",
      "2\n",
      "3\n",
      "4\n",
      "5\n",
      "6\n",
      "7\n",
      "8\n",
      "9\n"
     ]
    }
   ],
   "source": [
    "for i in range(0,10):\n",
    "    print (i)"
   ]
  },
  {
   "cell_type": "markdown",
   "metadata": {},
   "source": [
    "### Control Flow"
   ]
  },
  {
   "cell_type": "markdown",
   "metadata": {},
   "source": [
    "### if"
   ]
  },
  {
   "cell_type": "code",
   "execution_count": 36,
   "metadata": {},
   "outputs": [
    {
     "name": "stdout",
     "output_type": "stream",
     "text": [
      "x is less than 100 at 9\n"
     ]
    }
   ],
   "source": [
    "x = 9 \n",
    "\n",
    "if x < 100:\n",
    "    print(\"x is less than 100 at {}\".format(x))\n",
    "else: \n",
    "    print(\"x is greater than 100 at {}\".format(x))\n",
    "    "
   ]
  },
  {
   "cell_type": "code",
   "execution_count": 37,
   "metadata": {},
   "outputs": [
    {
     "name": "stdout",
     "output_type": "stream",
     "text": [
      "x is divisible by 2 at 5.0\n"
     ]
    }
   ],
   "source": [
    "x = 10\n",
    "\n",
    "if x % 2 == 0:\n",
    "    print(\"x is divisible by 2 at {}\".format(x/2))\n",
    "elif x % 3 == 0: \n",
    "    print(\"x is divisible by 3 at {}\".format(x/3))\n",
    "elif x % 5 == 0: \n",
    "    print(\"x is divisible by 5 at {}\".format(x/5))\n",
    "elif x % 7 == 0: \n",
    "    print(\"x is divisible by 7 at {}\".format(x/7))\n",
    "else:\n",
    "    print(\"{} is not divisible by 2,3,5,7 \".format(x))"
   ]
  },
  {
   "cell_type": "markdown",
   "metadata": {},
   "source": [
    "### for"
   ]
  },
  {
   "cell_type": "code",
   "execution_count": 38,
   "metadata": {},
   "outputs": [
    {
     "name": "stdout",
     "output_type": "stream",
     "text": [
      "0\n",
      "1\n",
      "2\n",
      "3\n",
      "4\n",
      "5\n",
      "6\n",
      "7\n",
      "8\n",
      "9\n"
     ]
    }
   ],
   "source": [
    "for x in range(10):\n",
    "    print(x)"
   ]
  },
  {
   "cell_type": "code",
   "execution_count": 39,
   "metadata": {},
   "outputs": [
    {
     "name": "stdout",
     "output_type": "stream",
     "text": [
      "One\n",
      "Two\n",
      "Three\n",
      "Four\n",
      "Five\n",
      "Six\n",
      "Seven\n"
     ]
    }
   ],
   "source": [
    "myList = [\"One\", \"Two\", \"Three\", \"Four\",\"Five\", \"Six\", \"Seven\"]\n",
    "\n",
    "for x in myList:\n",
    "    print(x)"
   ]
  },
  {
   "cell_type": "code",
   "execution_count": 40,
   "metadata": {},
   "outputs": [
    {
     "name": "stdout",
     "output_type": "stream",
     "text": [
      "One 3\n",
      "Two 3\n",
      "Three 5\n",
      "Four 4\n",
      "Five 4\n",
      "Six 3\n",
      "Omega 5\n"
     ]
    }
   ],
   "source": [
    "myList = [\"One\", \"Two\", \"Three\", \"Four\",\"Five\", \"Six\", \"Omega\", \"Seven\"]\n",
    "for x in myList:\n",
    "    print(x, len(x))\n",
    "    if x == \"Omega\":\n",
    "        break\n",
    "        "
   ]
  },
  {
   "cell_type": "code",
   "execution_count": 41,
   "metadata": {},
   "outputs": [
    {
     "name": "stdout",
     "output_type": "stream",
     "text": [
      "One 3\n",
      "Two 3\n",
      "Three 5\n",
      "Four 4\n",
      "Five 4\n",
      "Six 3\n",
      "Omega 5\n",
      "Seven 5\n"
     ]
    }
   ],
   "source": [
    "myList = [\"One\", \"Two\", \"Three\", \"Four\",\"Five\", \"Six\", \"Omega\", \"Seven\"]\n",
    "\n",
    "lenList = len(myList)-1\n",
    "i = 0\n",
    "while i <= lenList:\n",
    "    print(myList[i], len(myList[i]))\n",
    "    i = i + 1"
   ]
  },
  {
   "cell_type": "markdown",
   "metadata": {},
   "source": [
    "### Functions"
   ]
  },
  {
   "cell_type": "code",
   "execution_count": 42,
   "metadata": {},
   "outputs": [
    {
     "name": "stdout",
     "output_type": "stream",
     "text": [
      "Mary had a lttie lamb ,  Its fleece was white as snow\n"
     ]
    }
   ],
   "source": [
    "def printMary(x):\n",
    "        y = \"Its fleece was white as snow\"\n",
    "        print(x,\", \", y)\n",
    "    \n",
    "\n",
    "printMary(\"Mary had a lttie lamb\")"
   ]
  },
  {
   "cell_type": "code",
   "execution_count": 43,
   "metadata": {},
   "outputs": [
    {
     "name": "stdout",
     "output_type": "stream",
     "text": [
      "Mary had a lttie lamb ,  Its fleece was white as snow\n"
     ]
    }
   ],
   "source": [
    "def printMary(x,y):\n",
    "        print(x,\", \", y)\n",
    "\n",
    "        \n",
    "        \n",
    "y = \"Its fleece was white as snow\"\n",
    "\n",
    "printMary(\"Mary had a lttie lamb\",y)"
   ]
  },
  {
   "cell_type": "code",
   "execution_count": 44,
   "metadata": {},
   "outputs": [
    {
     "data": {
      "text/plain": [
       "28"
      ]
     },
     "execution_count": 44,
     "metadata": {},
     "output_type": "execute_result"
    }
   ],
   "source": [
    "def countString(x):\n",
    "        return len(x)\n",
    "\n",
    "y = \"Its fleece was white as snow\"    \n",
    "\n",
    "countString(y)"
   ]
  },
  {
   "cell_type": "code",
   "execution_count": 45,
   "metadata": {},
   "outputs": [
    {
     "data": {
      "text/plain": [
       "6"
      ]
     },
     "execution_count": 45,
     "metadata": {},
     "output_type": "execute_result"
    }
   ],
   "source": [
    "def countWords(x):\n",
    "        return len(x.split())\n",
    "\n",
    "y = \"Its fleece was white as snow\"    \n",
    "\n",
    "countWords(y)"
   ]
  },
  {
   "cell_type": "markdown",
   "metadata": {},
   "source": [
    "## Lamda, anonymous function"
   ]
  },
  {
   "cell_type": "code",
   "execution_count": 46,
   "metadata": {},
   "outputs": [
    {
     "data": {
      "text/plain": [
       "81"
      ]
     },
     "execution_count": 46,
     "metadata": {},
     "output_type": "execute_result"
    }
   ],
   "source": [
    "def square(x):\n",
    "    return x*x\n",
    "\n",
    "square(9)\n"
   ]
  },
  {
   "cell_type": "code",
   "execution_count": 47,
   "metadata": {},
   "outputs": [
    {
     "data": {
      "text/plain": [
       "81"
      ]
     },
     "execution_count": 47,
     "metadata": {},
     "output_type": "execute_result"
    }
   ],
   "source": [
    "square = (lambda x: x * x)\n",
    "\n",
    "square(9)"
   ]
  },
  {
   "cell_type": "code",
   "execution_count": 48,
   "metadata": {},
   "outputs": [
    {
     "name": "stdout",
     "output_type": "stream",
     "text": [
      "4\n",
      "16\n",
      "36\n",
      "64\n"
     ]
    }
   ],
   "source": [
    "myList = [2,4,6,8]\n",
    "\n",
    "square = map(lambda x: x * x, myList)\n",
    "\n",
    "for i in square:\n",
    "    print(i)"
   ]
  },
  {
   "cell_type": "code",
   "execution_count": 60,
   "metadata": {},
   "outputs": [],
   "source": [
    "import pandas as pd\n",
    "\n",
    "epaMpg = pd.read_csv (\"https://raw.githubusercontent.com/sqlshep/SQLShepBlog/master/data/epaMpg.csv\")\n",
    "\n",
    "\n"
   ]
  },
  {
   "cell_type": "markdown",
   "metadata": {},
   "source": [
    "Type, determine what type of object epaMPG is"
   ]
  },
  {
   "cell_type": "code",
   "execution_count": 61,
   "metadata": {},
   "outputs": [
    {
     "data": {
      "text/plain": [
       "pandas.core.frame.DataFrame"
      ]
     },
     "execution_count": 61,
     "metadata": {},
     "output_type": "execute_result"
    }
   ],
   "source": [
    "type(epaMpg)"
   ]
  },
  {
   "cell_type": "markdown",
   "metadata": {},
   "source": [
    "Head, get the first 5 and first rows of epaMPG"
   ]
  },
  {
   "cell_type": "code",
   "execution_count": 63,
   "metadata": {},
   "outputs": [
    {
     "data": {
      "text/html": [
       "<div>\n",
       "<style scoped>\n",
       "    .dataframe tbody tr th:only-of-type {\n",
       "        vertical-align: middle;\n",
       "    }\n",
       "\n",
       "    .dataframe tbody tr th {\n",
       "        vertical-align: top;\n",
       "    }\n",
       "\n",
       "    .dataframe thead th {\n",
       "        text-align: right;\n",
       "    }\n",
       "</style>\n",
       "<table border=\"1\" class=\"dataframe\">\n",
       "  <thead>\n",
       "    <tr style=\"text-align: right;\">\n",
       "      <th></th>\n",
       "      <th>RowNumber</th>\n",
       "      <th>Represented.Test.Veh.Make</th>\n",
       "      <th>Model</th>\n",
       "      <th>Vehicle.Type</th>\n",
       "      <th>HorsePower</th>\n",
       "      <th>Cylinders</th>\n",
       "      <th>Tested.Transmission.Type.Code</th>\n",
       "      <th>Tested.Transmission.Type</th>\n",
       "      <th>Gears</th>\n",
       "      <th>Drive.System.Code</th>\n",
       "      <th>Weight</th>\n",
       "      <th>AxleRatio</th>\n",
       "      <th>Test.Procedure.Cd</th>\n",
       "      <th>Test.Procedure.Description</th>\n",
       "      <th>Test.Fuel.Type.Cd</th>\n",
       "      <th>Test.Fuel.Type.Description</th>\n",
       "      <th>FuelEcon</th>\n",
       "    </tr>\n",
       "  </thead>\n",
       "  <tbody>\n",
       "    <tr>\n",
       "      <th>0</th>\n",
       "      <td>1</td>\n",
       "      <td>Aston Martin</td>\n",
       "      <td>Rapide S</td>\n",
       "      <td>Car</td>\n",
       "      <td>552</td>\n",
       "      <td>12</td>\n",
       "      <td>SA</td>\n",
       "      <td>Semi-Automatic</td>\n",
       "      <td>8</td>\n",
       "      <td>R</td>\n",
       "      <td>4750</td>\n",
       "      <td>2.73</td>\n",
       "      <td>21</td>\n",
       "      <td>Federal fuel 2-day exhaust (w/can load)</td>\n",
       "      <td>61</td>\n",
       "      <td>Tier 2 Cert Gasoline</td>\n",
       "      <td>17.3</td>\n",
       "    </tr>\n",
       "    <tr>\n",
       "      <th>1</th>\n",
       "      <td>2</td>\n",
       "      <td>Aston Martin</td>\n",
       "      <td>Vanquish</td>\n",
       "      <td>Car</td>\n",
       "      <td>568</td>\n",
       "      <td>12</td>\n",
       "      <td>SA</td>\n",
       "      <td>Semi-Automatic</td>\n",
       "      <td>8</td>\n",
       "      <td>R</td>\n",
       "      <td>4500</td>\n",
       "      <td>2.73</td>\n",
       "      <td>21</td>\n",
       "      <td>Federal fuel 2-day exhaust (w/can load)</td>\n",
       "      <td>61</td>\n",
       "      <td>Tier 2 Cert Gasoline</td>\n",
       "      <td>16.5</td>\n",
       "    </tr>\n",
       "    <tr>\n",
       "      <th>2</th>\n",
       "      <td>3</td>\n",
       "      <td>BENTLEY</td>\n",
       "      <td>Continental GT</td>\n",
       "      <td>Car</td>\n",
       "      <td>616</td>\n",
       "      <td>12</td>\n",
       "      <td>SA</td>\n",
       "      <td>Semi-Automatic</td>\n",
       "      <td>8</td>\n",
       "      <td>F</td>\n",
       "      <td>6000</td>\n",
       "      <td>2.85</td>\n",
       "      <td>90</td>\n",
       "      <td>US06</td>\n",
       "      <td>61</td>\n",
       "      <td>Tier 2 Cert Gasoline</td>\n",
       "      <td>17.4</td>\n",
       "    </tr>\n",
       "    <tr>\n",
       "      <th>3</th>\n",
       "      <td>4</td>\n",
       "      <td>BENTLEY</td>\n",
       "      <td>Continental GT</td>\n",
       "      <td>Car</td>\n",
       "      <td>616</td>\n",
       "      <td>12</td>\n",
       "      <td>SA</td>\n",
       "      <td>Semi-Automatic</td>\n",
       "      <td>8</td>\n",
       "      <td>F</td>\n",
       "      <td>6000</td>\n",
       "      <td>2.85</td>\n",
       "      <td>11</td>\n",
       "      <td>Cold CO</td>\n",
       "      <td>27</td>\n",
       "      <td>Cold CO Premium (Tier 2)</td>\n",
       "      <td>13.6</td>\n",
       "    </tr>\n",
       "    <tr>\n",
       "      <th>4</th>\n",
       "      <td>5</td>\n",
       "      <td>BMW</td>\n",
       "      <td>230i Convertible</td>\n",
       "      <td>Car</td>\n",
       "      <td>248</td>\n",
       "      <td>4</td>\n",
       "      <td>SA</td>\n",
       "      <td>Semi-Automatic</td>\n",
       "      <td>8</td>\n",
       "      <td>R</td>\n",
       "      <td>4000</td>\n",
       "      <td>2.81</td>\n",
       "      <td>3</td>\n",
       "      <td>HWFE</td>\n",
       "      <td>61</td>\n",
       "      <td>Tier 2 Cert Gasoline</td>\n",
       "      <td>45.8</td>\n",
       "    </tr>\n",
       "  </tbody>\n",
       "</table>\n",
       "</div>"
      ],
      "text/plain": [
       "   RowNumber Represented.Test.Veh.Make             Model Vehicle.Type  \\\n",
       "0          1              Aston Martin          Rapide S          Car   \n",
       "1          2              Aston Martin          Vanquish          Car   \n",
       "2          3                   BENTLEY    Continental GT          Car   \n",
       "3          4                   BENTLEY    Continental GT          Car   \n",
       "4          5                       BMW  230i Convertible          Car   \n",
       "\n",
       "   HorsePower  Cylinders Tested.Transmission.Type.Code  \\\n",
       "0         552         12                            SA   \n",
       "1         568         12                            SA   \n",
       "2         616         12                            SA   \n",
       "3         616         12                            SA   \n",
       "4         248          4                            SA   \n",
       "\n",
       "  Tested.Transmission.Type  Gears Drive.System.Code  Weight  AxleRatio  \\\n",
       "0           Semi-Automatic      8                 R    4750       2.73   \n",
       "1           Semi-Automatic      8                 R    4500       2.73   \n",
       "2           Semi-Automatic      8                 F    6000       2.85   \n",
       "3           Semi-Automatic      8                 F    6000       2.85   \n",
       "4           Semi-Automatic      8                 R    4000       2.81   \n",
       "\n",
       "   Test.Procedure.Cd               Test.Procedure.Description  \\\n",
       "0                 21  Federal fuel 2-day exhaust (w/can load)   \n",
       "1                 21  Federal fuel 2-day exhaust (w/can load)   \n",
       "2                 90                                     US06   \n",
       "3                 11                                  Cold CO   \n",
       "4                  3                                     HWFE   \n",
       "\n",
       "   Test.Fuel.Type.Cd Test.Fuel.Type.Description  FuelEcon  \n",
       "0                 61       Tier 2 Cert Gasoline      17.3  \n",
       "1                 61       Tier 2 Cert Gasoline      16.5  \n",
       "2                 61       Tier 2 Cert Gasoline      17.4  \n",
       "3                 27   Cold CO Premium (Tier 2)      13.6  \n",
       "4                 61       Tier 2 Cert Gasoline      45.8  "
      ]
     },
     "execution_count": 63,
     "metadata": {},
     "output_type": "execute_result"
    }
   ],
   "source": [
    "epaMpg.head(5)\n"
   ]
  },
  {
   "cell_type": "markdown",
   "metadata": {},
   "source": [
    "Return teh columns in the dataframe"
   ]
  },
  {
   "cell_type": "code",
   "execution_count": 64,
   "metadata": {},
   "outputs": [
    {
     "data": {
      "text/plain": [
       "Index(['RowNumber', 'Represented.Test.Veh.Make', 'Model', 'Vehicle.Type',\n",
       "       'HorsePower', 'Cylinders', 'Tested.Transmission.Type.Code',\n",
       "       'Tested.Transmission.Type', 'Gears', 'Drive.System.Code', 'Weight',\n",
       "       'AxleRatio', 'Test.Procedure.Cd', 'Test.Procedure.Description',\n",
       "       'Test.Fuel.Type.Cd', 'Test.Fuel.Type.Description', 'FuelEcon'],\n",
       "      dtype='object')"
      ]
     },
     "execution_count": 64,
     "metadata": {},
     "output_type": "execute_result"
    }
   ],
   "source": [
    "epaMpg.columns"
   ]
  },
  {
   "cell_type": "markdown",
   "metadata": {},
   "source": [
    "Return the entire datafrma, do no tuse this on large data sets"
   ]
  },
  {
   "cell_type": "code",
   "execution_count": 66,
   "metadata": {},
   "outputs": [
    {
     "data": {
      "text/html": [
       "<div>\n",
       "<style scoped>\n",
       "    .dataframe tbody tr th:only-of-type {\n",
       "        vertical-align: middle;\n",
       "    }\n",
       "\n",
       "    .dataframe tbody tr th {\n",
       "        vertical-align: top;\n",
       "    }\n",
       "\n",
       "    .dataframe thead th {\n",
       "        text-align: right;\n",
       "    }\n",
       "</style>\n",
       "<table border=\"1\" class=\"dataframe\">\n",
       "  <thead>\n",
       "    <tr style=\"text-align: right;\">\n",
       "      <th></th>\n",
       "      <th>RowNumber</th>\n",
       "      <th>Represented.Test.Veh.Make</th>\n",
       "      <th>Model</th>\n",
       "      <th>Vehicle.Type</th>\n",
       "      <th>HorsePower</th>\n",
       "      <th>Cylinders</th>\n",
       "      <th>Tested.Transmission.Type.Code</th>\n",
       "      <th>Tested.Transmission.Type</th>\n",
       "      <th>Gears</th>\n",
       "      <th>Drive.System.Code</th>\n",
       "      <th>Weight</th>\n",
       "      <th>AxleRatio</th>\n",
       "      <th>Test.Procedure.Cd</th>\n",
       "      <th>Test.Procedure.Description</th>\n",
       "      <th>Test.Fuel.Type.Cd</th>\n",
       "      <th>Test.Fuel.Type.Description</th>\n",
       "      <th>FuelEcon</th>\n",
       "    </tr>\n",
       "  </thead>\n",
       "  <tbody>\n",
       "    <tr>\n",
       "      <th>0</th>\n",
       "      <td>1</td>\n",
       "      <td>Aston Martin</td>\n",
       "      <td>Rapide S</td>\n",
       "      <td>Car</td>\n",
       "      <td>552</td>\n",
       "      <td>12</td>\n",
       "      <td>SA</td>\n",
       "      <td>Semi-Automatic</td>\n",
       "      <td>8</td>\n",
       "      <td>R</td>\n",
       "      <td>4750</td>\n",
       "      <td>2.73</td>\n",
       "      <td>21</td>\n",
       "      <td>Federal fuel 2-day exhaust (w/can load)</td>\n",
       "      <td>61</td>\n",
       "      <td>Tier 2 Cert Gasoline</td>\n",
       "      <td>17.3</td>\n",
       "    </tr>\n",
       "    <tr>\n",
       "      <th>1</th>\n",
       "      <td>2</td>\n",
       "      <td>Aston Martin</td>\n",
       "      <td>Vanquish</td>\n",
       "      <td>Car</td>\n",
       "      <td>568</td>\n",
       "      <td>12</td>\n",
       "      <td>SA</td>\n",
       "      <td>Semi-Automatic</td>\n",
       "      <td>8</td>\n",
       "      <td>R</td>\n",
       "      <td>4500</td>\n",
       "      <td>2.73</td>\n",
       "      <td>21</td>\n",
       "      <td>Federal fuel 2-day exhaust (w/can load)</td>\n",
       "      <td>61</td>\n",
       "      <td>Tier 2 Cert Gasoline</td>\n",
       "      <td>16.5</td>\n",
       "    </tr>\n",
       "    <tr>\n",
       "      <th>2</th>\n",
       "      <td>3</td>\n",
       "      <td>BENTLEY</td>\n",
       "      <td>Continental GT</td>\n",
       "      <td>Car</td>\n",
       "      <td>616</td>\n",
       "      <td>12</td>\n",
       "      <td>SA</td>\n",
       "      <td>Semi-Automatic</td>\n",
       "      <td>8</td>\n",
       "      <td>F</td>\n",
       "      <td>6000</td>\n",
       "      <td>2.85</td>\n",
       "      <td>90</td>\n",
       "      <td>US06</td>\n",
       "      <td>61</td>\n",
       "      <td>Tier 2 Cert Gasoline</td>\n",
       "      <td>17.4</td>\n",
       "    </tr>\n",
       "    <tr>\n",
       "      <th>3</th>\n",
       "      <td>4</td>\n",
       "      <td>BENTLEY</td>\n",
       "      <td>Continental GT</td>\n",
       "      <td>Car</td>\n",
       "      <td>616</td>\n",
       "      <td>12</td>\n",
       "      <td>SA</td>\n",
       "      <td>Semi-Automatic</td>\n",
       "      <td>8</td>\n",
       "      <td>F</td>\n",
       "      <td>6000</td>\n",
       "      <td>2.85</td>\n",
       "      <td>11</td>\n",
       "      <td>Cold CO</td>\n",
       "      <td>27</td>\n",
       "      <td>Cold CO Premium (Tier 2)</td>\n",
       "      <td>13.6</td>\n",
       "    </tr>\n",
       "    <tr>\n",
       "      <th>4</th>\n",
       "      <td>5</td>\n",
       "      <td>BMW</td>\n",
       "      <td>230i Convertible</td>\n",
       "      <td>Car</td>\n",
       "      <td>248</td>\n",
       "      <td>4</td>\n",
       "      <td>SA</td>\n",
       "      <td>Semi-Automatic</td>\n",
       "      <td>8</td>\n",
       "      <td>R</td>\n",
       "      <td>4000</td>\n",
       "      <td>2.81</td>\n",
       "      <td>3</td>\n",
       "      <td>HWFE</td>\n",
       "      <td>61</td>\n",
       "      <td>Tier 2 Cert Gasoline</td>\n",
       "      <td>45.8</td>\n",
       "    </tr>\n",
       "    <tr>\n",
       "      <th>5</th>\n",
       "      <td>6</td>\n",
       "      <td>BMW</td>\n",
       "      <td>230i Coupe</td>\n",
       "      <td>Car</td>\n",
       "      <td>248</td>\n",
       "      <td>4</td>\n",
       "      <td>M</td>\n",
       "      <td>Manual</td>\n",
       "      <td>6</td>\n",
       "      <td>R</td>\n",
       "      <td>3625</td>\n",
       "      <td>3.91</td>\n",
       "      <td>21</td>\n",
       "      <td>Federal fuel 2-day exhaust (w/can load)</td>\n",
       "      <td>61</td>\n",
       "      <td>Tier 2 Cert Gasoline</td>\n",
       "      <td>26.4</td>\n",
       "    </tr>\n",
       "    <tr>\n",
       "      <th>6</th>\n",
       "      <td>7</td>\n",
       "      <td>BMW</td>\n",
       "      <td>230i Coupe</td>\n",
       "      <td>Car</td>\n",
       "      <td>248</td>\n",
       "      <td>4</td>\n",
       "      <td>SA</td>\n",
       "      <td>Semi-Automatic</td>\n",
       "      <td>8</td>\n",
       "      <td>R</td>\n",
       "      <td>3625</td>\n",
       "      <td>2.81</td>\n",
       "      <td>3</td>\n",
       "      <td>HWFE</td>\n",
       "      <td>61</td>\n",
       "      <td>Tier 2 Cert Gasoline</td>\n",
       "      <td>50.6</td>\n",
       "    </tr>\n",
       "    <tr>\n",
       "      <th>7</th>\n",
       "      <td>8</td>\n",
       "      <td>BMW</td>\n",
       "      <td>230i xDrive Convertible</td>\n",
       "      <td>Car</td>\n",
       "      <td>248</td>\n",
       "      <td>4</td>\n",
       "      <td>SA</td>\n",
       "      <td>Semi-Automatic</td>\n",
       "      <td>8</td>\n",
       "      <td>R</td>\n",
       "      <td>4000</td>\n",
       "      <td>2.81</td>\n",
       "      <td>31</td>\n",
       "      <td>Federal fuel 3-day exhaust</td>\n",
       "      <td>61</td>\n",
       "      <td>Tier 2 Cert Gasoline</td>\n",
       "      <td>29.6</td>\n",
       "    </tr>\n",
       "    <tr>\n",
       "      <th>8</th>\n",
       "      <td>9</td>\n",
       "      <td>BMW</td>\n",
       "      <td>230i xDrive Coupe</td>\n",
       "      <td>Car</td>\n",
       "      <td>248</td>\n",
       "      <td>4</td>\n",
       "      <td>SA</td>\n",
       "      <td>Semi-Automatic</td>\n",
       "      <td>8</td>\n",
       "      <td>R</td>\n",
       "      <td>3750</td>\n",
       "      <td>2.81</td>\n",
       "      <td>21</td>\n",
       "      <td>Federal fuel 2-day exhaust (w/can load)</td>\n",
       "      <td>61</td>\n",
       "      <td>Tier 2 Cert Gasoline</td>\n",
       "      <td>30.3</td>\n",
       "    </tr>\n",
       "    <tr>\n",
       "      <th>9</th>\n",
       "      <td>10</td>\n",
       "      <td>BMW</td>\n",
       "      <td>320i</td>\n",
       "      <td>Both</td>\n",
       "      <td>181</td>\n",
       "      <td>4</td>\n",
       "      <td>A</td>\n",
       "      <td>Automatic</td>\n",
       "      <td>8</td>\n",
       "      <td>R</td>\n",
       "      <td>3625</td>\n",
       "      <td>3.20</td>\n",
       "      <td>31</td>\n",
       "      <td>Federal fuel 3-day exhaust</td>\n",
       "      <td>61</td>\n",
       "      <td>Tier 2 Cert Gasoline</td>\n",
       "      <td>30.4</td>\n",
       "    </tr>\n",
       "    <tr>\n",
       "      <th>10</th>\n",
       "      <td>11</td>\n",
       "      <td>BMW</td>\n",
       "      <td>320i</td>\n",
       "      <td>Both</td>\n",
       "      <td>180</td>\n",
       "      <td>4</td>\n",
       "      <td>M</td>\n",
       "      <td>Manual</td>\n",
       "      <td>6</td>\n",
       "      <td>R</td>\n",
       "      <td>3625</td>\n",
       "      <td>3.08</td>\n",
       "      <td>31</td>\n",
       "      <td>Federal fuel 3-day exhaust</td>\n",
       "      <td>61</td>\n",
       "      <td>Tier 2 Cert Gasoline</td>\n",
       "      <td>29.5</td>\n",
       "    </tr>\n",
       "    <tr>\n",
       "      <th>11</th>\n",
       "      <td>12</td>\n",
       "      <td>BMW</td>\n",
       "      <td>320i xDrive</td>\n",
       "      <td>Both</td>\n",
       "      <td>181</td>\n",
       "      <td>4</td>\n",
       "      <td>A</td>\n",
       "      <td>Automatic</td>\n",
       "      <td>8</td>\n",
       "      <td>R</td>\n",
       "      <td>3750</td>\n",
       "      <td>3.15</td>\n",
       "      <td>31</td>\n",
       "      <td>Federal fuel 3-day exhaust</td>\n",
       "      <td>61</td>\n",
       "      <td>Tier 2 Cert Gasoline</td>\n",
       "      <td>29.9</td>\n",
       "    </tr>\n",
       "    <tr>\n",
       "      <th>12</th>\n",
       "      <td>13</td>\n",
       "      <td>BMW</td>\n",
       "      <td>328d</td>\n",
       "      <td>Car</td>\n",
       "      <td>183</td>\n",
       "      <td>4</td>\n",
       "      <td>SA</td>\n",
       "      <td>Semi-Automatic</td>\n",
       "      <td>8</td>\n",
       "      <td>R</td>\n",
       "      <td>3750</td>\n",
       "      <td>2.81</td>\n",
       "      <td>2</td>\n",
       "      <td>CVS 75 and later (w/o can. load)</td>\n",
       "      <td>19</td>\n",
       "      <td>Federal Cert Diesel 7-15 PPM Sulfur</td>\n",
       "      <td>42.2</td>\n",
       "    </tr>\n",
       "    <tr>\n",
       "      <th>13</th>\n",
       "      <td>14</td>\n",
       "      <td>BMW</td>\n",
       "      <td>328d xDrive</td>\n",
       "      <td>Car</td>\n",
       "      <td>181</td>\n",
       "      <td>4</td>\n",
       "      <td>SA</td>\n",
       "      <td>Semi-Automatic</td>\n",
       "      <td>8</td>\n",
       "      <td>R</td>\n",
       "      <td>4000</td>\n",
       "      <td>2.81</td>\n",
       "      <td>2</td>\n",
       "      <td>CVS 75 and later (w/o can. load)</td>\n",
       "      <td>19</td>\n",
       "      <td>Federal Cert Diesel 7-15 PPM Sulfur</td>\n",
       "      <td>41.2</td>\n",
       "    </tr>\n",
       "    <tr>\n",
       "      <th>14</th>\n",
       "      <td>15</td>\n",
       "      <td>BMW</td>\n",
       "      <td>328d xDrive Sports Wagon</td>\n",
       "      <td>Car</td>\n",
       "      <td>181</td>\n",
       "      <td>4</td>\n",
       "      <td>SA</td>\n",
       "      <td>Semi-Automatic</td>\n",
       "      <td>8</td>\n",
       "      <td>R</td>\n",
       "      <td>4250</td>\n",
       "      <td>2.81</td>\n",
       "      <td>3</td>\n",
       "      <td>HWFE</td>\n",
       "      <td>19</td>\n",
       "      <td>Federal Cert Diesel 7-15 PPM Sulfur</td>\n",
       "      <td>57.2</td>\n",
       "    </tr>\n",
       "    <tr>\n",
       "      <th>15</th>\n",
       "      <td>16</td>\n",
       "      <td>BMW</td>\n",
       "      <td>330e</td>\n",
       "      <td>Car</td>\n",
       "      <td>180</td>\n",
       "      <td>4</td>\n",
       "      <td>SA</td>\n",
       "      <td>Semi-Automatic</td>\n",
       "      <td>8</td>\n",
       "      <td>R</td>\n",
       "      <td>4250</td>\n",
       "      <td>2.93</td>\n",
       "      <td>31</td>\n",
       "      <td>Federal fuel 3-day exhaust</td>\n",
       "      <td>61</td>\n",
       "      <td>Tier 2 Cert Gasoline</td>\n",
       "      <td>35.6</td>\n",
       "    </tr>\n",
       "    <tr>\n",
       "      <th>16</th>\n",
       "      <td>17</td>\n",
       "      <td>BMW</td>\n",
       "      <td>330i</td>\n",
       "      <td>Car</td>\n",
       "      <td>248</td>\n",
       "      <td>4</td>\n",
       "      <td>SA</td>\n",
       "      <td>Semi-Automatic</td>\n",
       "      <td>8</td>\n",
       "      <td>R</td>\n",
       "      <td>3875</td>\n",
       "      <td>2.81</td>\n",
       "      <td>31</td>\n",
       "      <td>Federal fuel 3-day exhaust</td>\n",
       "      <td>61</td>\n",
       "      <td>Tier 2 Cert Gasoline</td>\n",
       "      <td>30.8</td>\n",
       "    </tr>\n",
       "    <tr>\n",
       "      <th>17</th>\n",
       "      <td>18</td>\n",
       "      <td>BMW</td>\n",
       "      <td>330i</td>\n",
       "      <td>Car</td>\n",
       "      <td>248</td>\n",
       "      <td>4</td>\n",
       "      <td>M</td>\n",
       "      <td>Manual</td>\n",
       "      <td>6</td>\n",
       "      <td>R</td>\n",
       "      <td>3750</td>\n",
       "      <td>3.91</td>\n",
       "      <td>31</td>\n",
       "      <td>Federal fuel 3-day exhaust</td>\n",
       "      <td>61</td>\n",
       "      <td>Tier 2 Cert Gasoline</td>\n",
       "      <td>26.7</td>\n",
       "    </tr>\n",
       "    <tr>\n",
       "      <th>18</th>\n",
       "      <td>19</td>\n",
       "      <td>BMW</td>\n",
       "      <td>330i xDrive</td>\n",
       "      <td>Car</td>\n",
       "      <td>248</td>\n",
       "      <td>4</td>\n",
       "      <td>SA</td>\n",
       "      <td>Semi-Automatic</td>\n",
       "      <td>8</td>\n",
       "      <td>R</td>\n",
       "      <td>4000</td>\n",
       "      <td>2.81</td>\n",
       "      <td>31</td>\n",
       "      <td>Federal fuel 3-day exhaust</td>\n",
       "      <td>61</td>\n",
       "      <td>Tier 2 Cert Gasoline</td>\n",
       "      <td>29.7</td>\n",
       "    </tr>\n",
       "    <tr>\n",
       "      <th>19</th>\n",
       "      <td>20</td>\n",
       "      <td>BMW</td>\n",
       "      <td>330i xDrive Gran Turismo</td>\n",
       "      <td>Car</td>\n",
       "      <td>248</td>\n",
       "      <td>4</td>\n",
       "      <td>SA</td>\n",
       "      <td>Semi-Automatic</td>\n",
       "      <td>8</td>\n",
       "      <td>R</td>\n",
       "      <td>4250</td>\n",
       "      <td>2.93</td>\n",
       "      <td>31</td>\n",
       "      <td>Federal fuel 3-day exhaust</td>\n",
       "      <td>61</td>\n",
       "      <td>Tier 2 Cert Gasoline</td>\n",
       "      <td>29.3</td>\n",
       "    </tr>\n",
       "    <tr>\n",
       "      <th>20</th>\n",
       "      <td>21</td>\n",
       "      <td>BMW</td>\n",
       "      <td>330i xDrive Sports Wagon</td>\n",
       "      <td>Car</td>\n",
       "      <td>248</td>\n",
       "      <td>4</td>\n",
       "      <td>SA</td>\n",
       "      <td>Semi-Automatic</td>\n",
       "      <td>8</td>\n",
       "      <td>R</td>\n",
       "      <td>4250</td>\n",
       "      <td>2.81</td>\n",
       "      <td>31</td>\n",
       "      <td>Federal fuel 3-day exhaust</td>\n",
       "      <td>61</td>\n",
       "      <td>Tier 2 Cert Gasoline</td>\n",
       "      <td>28.6</td>\n",
       "    </tr>\n",
       "    <tr>\n",
       "      <th>21</th>\n",
       "      <td>22</td>\n",
       "      <td>BMW</td>\n",
       "      <td>340i</td>\n",
       "      <td>Car</td>\n",
       "      <td>320</td>\n",
       "      <td>6</td>\n",
       "      <td>SA</td>\n",
       "      <td>Semi-Automatic</td>\n",
       "      <td>8</td>\n",
       "      <td>R</td>\n",
       "      <td>4000</td>\n",
       "      <td>2.81</td>\n",
       "      <td>31</td>\n",
       "      <td>Federal fuel 3-day exhaust</td>\n",
       "      <td>61</td>\n",
       "      <td>Tier 2 Cert Gasoline</td>\n",
       "      <td>29.0</td>\n",
       "    </tr>\n",
       "    <tr>\n",
       "      <th>22</th>\n",
       "      <td>23</td>\n",
       "      <td>BMW</td>\n",
       "      <td>340i</td>\n",
       "      <td>Car</td>\n",
       "      <td>320</td>\n",
       "      <td>6</td>\n",
       "      <td>M</td>\n",
       "      <td>Manual</td>\n",
       "      <td>6</td>\n",
       "      <td>R</td>\n",
       "      <td>4000</td>\n",
       "      <td>3.23</td>\n",
       "      <td>3</td>\n",
       "      <td>HWFE</td>\n",
       "      <td>61</td>\n",
       "      <td>Tier 2 Cert Gasoline</td>\n",
       "      <td>41.2</td>\n",
       "    </tr>\n",
       "    <tr>\n",
       "      <th>23</th>\n",
       "      <td>24</td>\n",
       "      <td>BMW</td>\n",
       "      <td>340i xDrive</td>\n",
       "      <td>Car</td>\n",
       "      <td>320</td>\n",
       "      <td>6</td>\n",
       "      <td>SA</td>\n",
       "      <td>Semi-Automatic</td>\n",
       "      <td>8</td>\n",
       "      <td>R</td>\n",
       "      <td>4000</td>\n",
       "      <td>2.81</td>\n",
       "      <td>31</td>\n",
       "      <td>Federal fuel 3-day exhaust</td>\n",
       "      <td>61</td>\n",
       "      <td>Tier 2 Cert Gasoline</td>\n",
       "      <td>29.2</td>\n",
       "    </tr>\n",
       "    <tr>\n",
       "      <th>24</th>\n",
       "      <td>25</td>\n",
       "      <td>BMW</td>\n",
       "      <td>340i xDrive</td>\n",
       "      <td>Car</td>\n",
       "      <td>320</td>\n",
       "      <td>6</td>\n",
       "      <td>M</td>\n",
       "      <td>Manual</td>\n",
       "      <td>6</td>\n",
       "      <td>R</td>\n",
       "      <td>4000</td>\n",
       "      <td>3.23</td>\n",
       "      <td>31</td>\n",
       "      <td>Federal fuel 3-day exhaust</td>\n",
       "      <td>61</td>\n",
       "      <td>Tier 2 Cert Gasoline</td>\n",
       "      <td>24.7</td>\n",
       "    </tr>\n",
       "    <tr>\n",
       "      <th>25</th>\n",
       "      <td>26</td>\n",
       "      <td>BMW</td>\n",
       "      <td>340i xDrive Gran Turismo</td>\n",
       "      <td>Car</td>\n",
       "      <td>322</td>\n",
       "      <td>6</td>\n",
       "      <td>SA</td>\n",
       "      <td>Semi-Automatic</td>\n",
       "      <td>8</td>\n",
       "      <td>R</td>\n",
       "      <td>4500</td>\n",
       "      <td>2.93</td>\n",
       "      <td>31</td>\n",
       "      <td>Federal fuel 3-day exhaust</td>\n",
       "      <td>61</td>\n",
       "      <td>Tier 2 Cert Gasoline</td>\n",
       "      <td>27.4</td>\n",
       "    </tr>\n",
       "    <tr>\n",
       "      <th>26</th>\n",
       "      <td>27</td>\n",
       "      <td>BMW</td>\n",
       "      <td>430i Convertible</td>\n",
       "      <td>Car</td>\n",
       "      <td>248</td>\n",
       "      <td>4</td>\n",
       "      <td>SA</td>\n",
       "      <td>Semi-Automatic</td>\n",
       "      <td>8</td>\n",
       "      <td>R</td>\n",
       "      <td>4250</td>\n",
       "      <td>2.81</td>\n",
       "      <td>31</td>\n",
       "      <td>Federal fuel 3-day exhaust</td>\n",
       "      <td>61</td>\n",
       "      <td>Tier 2 Cert Gasoline</td>\n",
       "      <td>30.2</td>\n",
       "    </tr>\n",
       "    <tr>\n",
       "      <th>27</th>\n",
       "      <td>28</td>\n",
       "      <td>BMW</td>\n",
       "      <td>430i Coupe</td>\n",
       "      <td>Car</td>\n",
       "      <td>248</td>\n",
       "      <td>4</td>\n",
       "      <td>SA</td>\n",
       "      <td>Semi-Automatic</td>\n",
       "      <td>8</td>\n",
       "      <td>R</td>\n",
       "      <td>3875</td>\n",
       "      <td>2.81</td>\n",
       "      <td>31</td>\n",
       "      <td>Federal fuel 3-day exhaust</td>\n",
       "      <td>61</td>\n",
       "      <td>Tier 2 Cert Gasoline</td>\n",
       "      <td>30.7</td>\n",
       "    </tr>\n",
       "    <tr>\n",
       "      <th>28</th>\n",
       "      <td>29</td>\n",
       "      <td>BMW</td>\n",
       "      <td>430i Coupe</td>\n",
       "      <td>Car</td>\n",
       "      <td>248</td>\n",
       "      <td>4</td>\n",
       "      <td>M</td>\n",
       "      <td>Manual</td>\n",
       "      <td>6</td>\n",
       "      <td>R</td>\n",
       "      <td>3875</td>\n",
       "      <td>3.91</td>\n",
       "      <td>31</td>\n",
       "      <td>Federal fuel 3-day exhaust</td>\n",
       "      <td>61</td>\n",
       "      <td>Tier 2 Cert Gasoline</td>\n",
       "      <td>26.6</td>\n",
       "    </tr>\n",
       "    <tr>\n",
       "      <th>29</th>\n",
       "      <td>30</td>\n",
       "      <td>BMW</td>\n",
       "      <td>430i Gran Coupe</td>\n",
       "      <td>Car</td>\n",
       "      <td>248</td>\n",
       "      <td>4</td>\n",
       "      <td>SA</td>\n",
       "      <td>Semi-Automatic</td>\n",
       "      <td>8</td>\n",
       "      <td>R</td>\n",
       "      <td>4000</td>\n",
       "      <td>2.81</td>\n",
       "      <td>31</td>\n",
       "      <td>Federal fuel 3-day exhaust</td>\n",
       "      <td>61</td>\n",
       "      <td>Tier 2 Cert Gasoline</td>\n",
       "      <td>30.0</td>\n",
       "    </tr>\n",
       "    <tr>\n",
       "      <th>...</th>\n",
       "      <td>...</td>\n",
       "      <td>...</td>\n",
       "      <td>...</td>\n",
       "      <td>...</td>\n",
       "      <td>...</td>\n",
       "      <td>...</td>\n",
       "      <td>...</td>\n",
       "      <td>...</td>\n",
       "      <td>...</td>\n",
       "      <td>...</td>\n",
       "      <td>...</td>\n",
       "      <td>...</td>\n",
       "      <td>...</td>\n",
       "      <td>...</td>\n",
       "      <td>...</td>\n",
       "      <td>...</td>\n",
       "      <td>...</td>\n",
       "    </tr>\n",
       "    <tr>\n",
       "      <th>1004</th>\n",
       "      <td>1011</td>\n",
       "      <td>VOLKSWAGEN</td>\n",
       "      <td>Jetta</td>\n",
       "      <td>Car</td>\n",
       "      <td>170</td>\n",
       "      <td>4</td>\n",
       "      <td>SA</td>\n",
       "      <td>Semi-Automatic</td>\n",
       "      <td>6</td>\n",
       "      <td>F</td>\n",
       "      <td>3500</td>\n",
       "      <td>3.23</td>\n",
       "      <td>21</td>\n",
       "      <td>Federal fuel 2-day exhaust (w/can load)</td>\n",
       "      <td>61</td>\n",
       "      <td>Tier 2 Cert Gasoline</td>\n",
       "      <td>31.0</td>\n",
       "    </tr>\n",
       "    <tr>\n",
       "      <th>1005</th>\n",
       "      <td>1012</td>\n",
       "      <td>VOLKSWAGEN</td>\n",
       "      <td>Jetta</td>\n",
       "      <td>Car</td>\n",
       "      <td>150</td>\n",
       "      <td>4</td>\n",
       "      <td>M</td>\n",
       "      <td>Manual</td>\n",
       "      <td>5</td>\n",
       "      <td>F</td>\n",
       "      <td>3250</td>\n",
       "      <td>3.65</td>\n",
       "      <td>21</td>\n",
       "      <td>Federal fuel 2-day exhaust (w/can load)</td>\n",
       "      <td>61</td>\n",
       "      <td>Tier 2 Cert Gasoline</td>\n",
       "      <td>37.3</td>\n",
       "    </tr>\n",
       "    <tr>\n",
       "      <th>1006</th>\n",
       "      <td>1013</td>\n",
       "      <td>VOLKSWAGEN</td>\n",
       "      <td>Jetta</td>\n",
       "      <td>Car</td>\n",
       "      <td>150</td>\n",
       "      <td>4</td>\n",
       "      <td>SA</td>\n",
       "      <td>Semi-Automatic</td>\n",
       "      <td>6</td>\n",
       "      <td>F</td>\n",
       "      <td>3375</td>\n",
       "      <td>3.23</td>\n",
       "      <td>3</td>\n",
       "      <td>HWFE</td>\n",
       "      <td>61</td>\n",
       "      <td>Tier 2 Cert Gasoline</td>\n",
       "      <td>56.1</td>\n",
       "    </tr>\n",
       "    <tr>\n",
       "      <th>1007</th>\n",
       "      <td>1014</td>\n",
       "      <td>VOLKSWAGEN</td>\n",
       "      <td>Passat</td>\n",
       "      <td>Car</td>\n",
       "      <td>174</td>\n",
       "      <td>4</td>\n",
       "      <td>SA</td>\n",
       "      <td>Semi-Automatic</td>\n",
       "      <td>6</td>\n",
       "      <td>F</td>\n",
       "      <td>3625</td>\n",
       "      <td>3.23</td>\n",
       "      <td>90</td>\n",
       "      <td>US06</td>\n",
       "      <td>61</td>\n",
       "      <td>Tier 2 Cert Gasoline</td>\n",
       "      <td>31.7</td>\n",
       "    </tr>\n",
       "    <tr>\n",
       "      <th>1008</th>\n",
       "      <td>1015</td>\n",
       "      <td>VOLKSWAGEN</td>\n",
       "      <td>Passat</td>\n",
       "      <td>Car</td>\n",
       "      <td>174</td>\n",
       "      <td>4</td>\n",
       "      <td>SA</td>\n",
       "      <td>Semi-Automatic</td>\n",
       "      <td>6</td>\n",
       "      <td>F</td>\n",
       "      <td>3625</td>\n",
       "      <td>3.23</td>\n",
       "      <td>11</td>\n",
       "      <td>Cold CO</td>\n",
       "      <td>27</td>\n",
       "      <td>Cold CO Premium (Tier 2)</td>\n",
       "      <td>26.9</td>\n",
       "    </tr>\n",
       "    <tr>\n",
       "      <th>1009</th>\n",
       "      <td>1016</td>\n",
       "      <td>VOLKSWAGEN</td>\n",
       "      <td>Passat</td>\n",
       "      <td>Car</td>\n",
       "      <td>280</td>\n",
       "      <td>6</td>\n",
       "      <td>AMS</td>\n",
       "      <td>Automated Manual- Selectable (e.g. Automated M...</td>\n",
       "      <td>6</td>\n",
       "      <td>F</td>\n",
       "      <td>3875</td>\n",
       "      <td>3.44</td>\n",
       "      <td>21</td>\n",
       "      <td>Federal fuel 2-day exhaust (w/can load)</td>\n",
       "      <td>61</td>\n",
       "      <td>Tier 2 Cert Gasoline</td>\n",
       "      <td>23.4</td>\n",
       "    </tr>\n",
       "    <tr>\n",
       "      <th>1010</th>\n",
       "      <td>1017</td>\n",
       "      <td>VOLKSWAGEN</td>\n",
       "      <td>Passat</td>\n",
       "      <td>Car</td>\n",
       "      <td>280</td>\n",
       "      <td>6</td>\n",
       "      <td>AMS</td>\n",
       "      <td>Automated Manual- Selectable (e.g. Automated M...</td>\n",
       "      <td>6</td>\n",
       "      <td>F</td>\n",
       "      <td>3875</td>\n",
       "      <td>3.44</td>\n",
       "      <td>11</td>\n",
       "      <td>Cold CO</td>\n",
       "      <td>27</td>\n",
       "      <td>Cold CO Premium (Tier 2)</td>\n",
       "      <td>21.3</td>\n",
       "    </tr>\n",
       "    <tr>\n",
       "      <th>1011</th>\n",
       "      <td>1018</td>\n",
       "      <td>VOLKSWAGEN</td>\n",
       "      <td>Tiguan</td>\n",
       "      <td>Both</td>\n",
       "      <td>186</td>\n",
       "      <td>4</td>\n",
       "      <td>SA</td>\n",
       "      <td>Semi-Automatic</td>\n",
       "      <td>8</td>\n",
       "      <td>F</td>\n",
       "      <td>4250</td>\n",
       "      <td>3.33</td>\n",
       "      <td>90</td>\n",
       "      <td>US06</td>\n",
       "      <td>61</td>\n",
       "      <td>Tier 2 Cert Gasoline</td>\n",
       "      <td>23.5</td>\n",
       "    </tr>\n",
       "    <tr>\n",
       "      <th>1012</th>\n",
       "      <td>1019</td>\n",
       "      <td>VOLKSWAGEN</td>\n",
       "      <td>Tiguan</td>\n",
       "      <td>Both</td>\n",
       "      <td>186</td>\n",
       "      <td>4</td>\n",
       "      <td>SA</td>\n",
       "      <td>Semi-Automatic</td>\n",
       "      <td>8</td>\n",
       "      <td>F</td>\n",
       "      <td>4250</td>\n",
       "      <td>3.33</td>\n",
       "      <td>11</td>\n",
       "      <td>Cold CO</td>\n",
       "      <td>27</td>\n",
       "      <td>Cold CO Premium (Tier 2)</td>\n",
       "      <td>23.5</td>\n",
       "    </tr>\n",
       "    <tr>\n",
       "      <th>1013</th>\n",
       "      <td>1020</td>\n",
       "      <td>VOLKSWAGEN</td>\n",
       "      <td>Tiguan 4Motion</td>\n",
       "      <td>Both</td>\n",
       "      <td>186</td>\n",
       "      <td>4</td>\n",
       "      <td>SA</td>\n",
       "      <td>Semi-Automatic</td>\n",
       "      <td>8</td>\n",
       "      <td>A</td>\n",
       "      <td>4250</td>\n",
       "      <td>3.33</td>\n",
       "      <td>11</td>\n",
       "      <td>Cold CO</td>\n",
       "      <td>27</td>\n",
       "      <td>Cold CO Premium (Tier 2)</td>\n",
       "      <td>22.8</td>\n",
       "    </tr>\n",
       "    <tr>\n",
       "      <th>1014</th>\n",
       "      <td>1021</td>\n",
       "      <td>VOLKSWAGEN</td>\n",
       "      <td>Tiguan 4Motion</td>\n",
       "      <td>Both</td>\n",
       "      <td>186</td>\n",
       "      <td>4</td>\n",
       "      <td>SA</td>\n",
       "      <td>Semi-Automatic</td>\n",
       "      <td>8</td>\n",
       "      <td>A</td>\n",
       "      <td>4250</td>\n",
       "      <td>3.33</td>\n",
       "      <td>95</td>\n",
       "      <td>SC03</td>\n",
       "      <td>61</td>\n",
       "      <td>Tier 2 Cert Gasoline</td>\n",
       "      <td>21.5</td>\n",
       "    </tr>\n",
       "    <tr>\n",
       "      <th>1015</th>\n",
       "      <td>1022</td>\n",
       "      <td>Volvo</td>\n",
       "      <td>S60 Inscription T5 AWD</td>\n",
       "      <td>Both</td>\n",
       "      <td>240</td>\n",
       "      <td>4</td>\n",
       "      <td>SA</td>\n",
       "      <td>Semi-Automatic</td>\n",
       "      <td>8</td>\n",
       "      <td>F</td>\n",
       "      <td>4250</td>\n",
       "      <td>3.08</td>\n",
       "      <td>31</td>\n",
       "      <td>Federal fuel 3-day exhaust</td>\n",
       "      <td>61</td>\n",
       "      <td>Tier 2 Cert Gasoline</td>\n",
       "      <td>28.7</td>\n",
       "    </tr>\n",
       "    <tr>\n",
       "      <th>1016</th>\n",
       "      <td>1023</td>\n",
       "      <td>Volvo</td>\n",
       "      <td>S60 Inscription T5 FWD</td>\n",
       "      <td>Both</td>\n",
       "      <td>240</td>\n",
       "      <td>4</td>\n",
       "      <td>SA</td>\n",
       "      <td>Semi-Automatic</td>\n",
       "      <td>8</td>\n",
       "      <td>F</td>\n",
       "      <td>4000</td>\n",
       "      <td>2.77</td>\n",
       "      <td>31</td>\n",
       "      <td>Federal fuel 3-day exhaust</td>\n",
       "      <td>61</td>\n",
       "      <td>Tier 2 Cert Gasoline</td>\n",
       "      <td>32.6</td>\n",
       "    </tr>\n",
       "    <tr>\n",
       "      <th>1017</th>\n",
       "      <td>1024</td>\n",
       "      <td>Volvo</td>\n",
       "      <td>S60 Polestar AWD</td>\n",
       "      <td>Car</td>\n",
       "      <td>362</td>\n",
       "      <td>4</td>\n",
       "      <td>SA</td>\n",
       "      <td>Semi-Automatic</td>\n",
       "      <td>8</td>\n",
       "      <td>F</td>\n",
       "      <td>4250</td>\n",
       "      <td>3.33</td>\n",
       "      <td>3</td>\n",
       "      <td>HWFE</td>\n",
       "      <td>61</td>\n",
       "      <td>Tier 2 Cert Gasoline</td>\n",
       "      <td>38.9</td>\n",
       "    </tr>\n",
       "    <tr>\n",
       "      <th>1018</th>\n",
       "      <td>1025</td>\n",
       "      <td>Volvo</td>\n",
       "      <td>S60 T6 AWD</td>\n",
       "      <td>Car</td>\n",
       "      <td>302</td>\n",
       "      <td>4</td>\n",
       "      <td>SA</td>\n",
       "      <td>Semi-Automatic</td>\n",
       "      <td>8</td>\n",
       "      <td>F</td>\n",
       "      <td>4000</td>\n",
       "      <td>3.08</td>\n",
       "      <td>3</td>\n",
       "      <td>HWFE</td>\n",
       "      <td>61</td>\n",
       "      <td>Tier 2 Cert Gasoline</td>\n",
       "      <td>45.4</td>\n",
       "    </tr>\n",
       "    <tr>\n",
       "      <th>1019</th>\n",
       "      <td>1026</td>\n",
       "      <td>Volvo</td>\n",
       "      <td>S90 T5 AWD</td>\n",
       "      <td>Both</td>\n",
       "      <td>250</td>\n",
       "      <td>4</td>\n",
       "      <td>SA</td>\n",
       "      <td>Semi-Automatic</td>\n",
       "      <td>8</td>\n",
       "      <td>F</td>\n",
       "      <td>4250</td>\n",
       "      <td>3.20</td>\n",
       "      <td>31</td>\n",
       "      <td>Federal fuel 3-day exhaust</td>\n",
       "      <td>61</td>\n",
       "      <td>Tier 2 Cert Gasoline</td>\n",
       "      <td>30.0</td>\n",
       "    </tr>\n",
       "    <tr>\n",
       "      <th>1020</th>\n",
       "      <td>1027</td>\n",
       "      <td>Volvo</td>\n",
       "      <td>S90 T5 FWD</td>\n",
       "      <td>Both</td>\n",
       "      <td>250</td>\n",
       "      <td>4</td>\n",
       "      <td>SA</td>\n",
       "      <td>Semi-Automatic</td>\n",
       "      <td>8</td>\n",
       "      <td>F</td>\n",
       "      <td>4250</td>\n",
       "      <td>3.08</td>\n",
       "      <td>31</td>\n",
       "      <td>Federal fuel 3-day exhaust</td>\n",
       "      <td>61</td>\n",
       "      <td>Tier 2 Cert Gasoline</td>\n",
       "      <td>30.6</td>\n",
       "    </tr>\n",
       "    <tr>\n",
       "      <th>1021</th>\n",
       "      <td>1028</td>\n",
       "      <td>Volvo</td>\n",
       "      <td>S90 T6 AWD</td>\n",
       "      <td>Both</td>\n",
       "      <td>316</td>\n",
       "      <td>4</td>\n",
       "      <td>SA</td>\n",
       "      <td>Semi-Automatic</td>\n",
       "      <td>8</td>\n",
       "      <td>F</td>\n",
       "      <td>4500</td>\n",
       "      <td>3.20</td>\n",
       "      <td>31</td>\n",
       "      <td>Federal fuel 3-day exhaust</td>\n",
       "      <td>61</td>\n",
       "      <td>Tier 2 Cert Gasoline</td>\n",
       "      <td>27.4</td>\n",
       "    </tr>\n",
       "    <tr>\n",
       "      <th>1022</th>\n",
       "      <td>1029</td>\n",
       "      <td>Volvo</td>\n",
       "      <td>S90 T8 AWD</td>\n",
       "      <td>Car</td>\n",
       "      <td>313</td>\n",
       "      <td>4</td>\n",
       "      <td>SA</td>\n",
       "      <td>Semi-Automatic</td>\n",
       "      <td>8</td>\n",
       "      <td>A</td>\n",
       "      <td>5000</td>\n",
       "      <td>3.20</td>\n",
       "      <td>3</td>\n",
       "      <td>HWFE</td>\n",
       "      <td>61</td>\n",
       "      <td>Tier 2 Cert Gasoline</td>\n",
       "      <td>48.2</td>\n",
       "    </tr>\n",
       "    <tr>\n",
       "      <th>1023</th>\n",
       "      <td>1030</td>\n",
       "      <td>Volvo</td>\n",
       "      <td>V60 CC T5 AWD</td>\n",
       "      <td>Both</td>\n",
       "      <td>240</td>\n",
       "      <td>4</td>\n",
       "      <td>SA</td>\n",
       "      <td>Semi-Automatic</td>\n",
       "      <td>8</td>\n",
       "      <td>F</td>\n",
       "      <td>4250</td>\n",
       "      <td>3.33</td>\n",
       "      <td>31</td>\n",
       "      <td>Federal fuel 3-day exhaust</td>\n",
       "      <td>61</td>\n",
       "      <td>Tier 2 Cert Gasoline</td>\n",
       "      <td>27.8</td>\n",
       "    </tr>\n",
       "    <tr>\n",
       "      <th>1024</th>\n",
       "      <td>1031</td>\n",
       "      <td>Volvo</td>\n",
       "      <td>V60 Polestar AWD</td>\n",
       "      <td>Car</td>\n",
       "      <td>362</td>\n",
       "      <td>4</td>\n",
       "      <td>SA</td>\n",
       "      <td>Semi-Automatic</td>\n",
       "      <td>8</td>\n",
       "      <td>F</td>\n",
       "      <td>4250</td>\n",
       "      <td>3.33</td>\n",
       "      <td>31</td>\n",
       "      <td>Federal fuel 3-day exhaust</td>\n",
       "      <td>61</td>\n",
       "      <td>Tier 2 Cert Gasoline</td>\n",
       "      <td>24.7</td>\n",
       "    </tr>\n",
       "    <tr>\n",
       "      <th>1025</th>\n",
       "      <td>1032</td>\n",
       "      <td>Volvo</td>\n",
       "      <td>V90CC T5 AWD</td>\n",
       "      <td>Both</td>\n",
       "      <td>250</td>\n",
       "      <td>4</td>\n",
       "      <td>SA</td>\n",
       "      <td>Semi-Automatic</td>\n",
       "      <td>8</td>\n",
       "      <td>F</td>\n",
       "      <td>4500</td>\n",
       "      <td>3.33</td>\n",
       "      <td>31</td>\n",
       "      <td>Federal fuel 3-day exhaust</td>\n",
       "      <td>61</td>\n",
       "      <td>Tier 2 Cert Gasoline</td>\n",
       "      <td>28.9</td>\n",
       "    </tr>\n",
       "    <tr>\n",
       "      <th>1026</th>\n",
       "      <td>1033</td>\n",
       "      <td>Volvo</td>\n",
       "      <td>V90CC T6 AWD</td>\n",
       "      <td>Both</td>\n",
       "      <td>316</td>\n",
       "      <td>4</td>\n",
       "      <td>SA</td>\n",
       "      <td>Semi-Automatic</td>\n",
       "      <td>8</td>\n",
       "      <td>F</td>\n",
       "      <td>4500</td>\n",
       "      <td>3.33</td>\n",
       "      <td>31</td>\n",
       "      <td>Federal fuel 3-day exhaust</td>\n",
       "      <td>61</td>\n",
       "      <td>Tier 2 Cert Gasoline</td>\n",
       "      <td>27.4</td>\n",
       "    </tr>\n",
       "    <tr>\n",
       "      <th>1027</th>\n",
       "      <td>1034</td>\n",
       "      <td>Volvo</td>\n",
       "      <td>XC60 T5 AWD</td>\n",
       "      <td>Both</td>\n",
       "      <td>250</td>\n",
       "      <td>4</td>\n",
       "      <td>SA</td>\n",
       "      <td>Semi-Automatic</td>\n",
       "      <td>8</td>\n",
       "      <td>F</td>\n",
       "      <td>4500</td>\n",
       "      <td>3.33</td>\n",
       "      <td>31</td>\n",
       "      <td>Federal fuel 3-day exhaust</td>\n",
       "      <td>61</td>\n",
       "      <td>Tier 2 Cert Gasoline</td>\n",
       "      <td>27.9</td>\n",
       "    </tr>\n",
       "    <tr>\n",
       "      <th>1028</th>\n",
       "      <td>1035</td>\n",
       "      <td>Volvo</td>\n",
       "      <td>XC60 T6 AWD</td>\n",
       "      <td>Both</td>\n",
       "      <td>250</td>\n",
       "      <td>4</td>\n",
       "      <td>SA</td>\n",
       "      <td>Semi-Automatic</td>\n",
       "      <td>8</td>\n",
       "      <td>F</td>\n",
       "      <td>4500</td>\n",
       "      <td>3.33</td>\n",
       "      <td>3</td>\n",
       "      <td>HWFE</td>\n",
       "      <td>61</td>\n",
       "      <td>Tier 2 Cert Gasoline</td>\n",
       "      <td>38.2</td>\n",
       "    </tr>\n",
       "    <tr>\n",
       "      <th>1029</th>\n",
       "      <td>1036</td>\n",
       "      <td>Volvo</td>\n",
       "      <td>XC60 T8 AWD</td>\n",
       "      <td>Both</td>\n",
       "      <td>313</td>\n",
       "      <td>4</td>\n",
       "      <td>SA</td>\n",
       "      <td>Semi-Automatic</td>\n",
       "      <td>8</td>\n",
       "      <td>A</td>\n",
       "      <td>5000</td>\n",
       "      <td>3.33</td>\n",
       "      <td>21</td>\n",
       "      <td>Federal fuel 2-day exhaust (w/can load)</td>\n",
       "      <td>61</td>\n",
       "      <td>Tier 2 Cert Gasoline</td>\n",
       "      <td>33.1</td>\n",
       "    </tr>\n",
       "    <tr>\n",
       "      <th>1030</th>\n",
       "      <td>1037</td>\n",
       "      <td>Volvo</td>\n",
       "      <td>XC90 T5 AWD</td>\n",
       "      <td>Both</td>\n",
       "      <td>250</td>\n",
       "      <td>4</td>\n",
       "      <td>SA</td>\n",
       "      <td>Semi-Automatic</td>\n",
       "      <td>8</td>\n",
       "      <td>F</td>\n",
       "      <td>5000</td>\n",
       "      <td>3.33</td>\n",
       "      <td>31</td>\n",
       "      <td>Federal fuel 3-day exhaust</td>\n",
       "      <td>61</td>\n",
       "      <td>Tier 2 Cert Gasoline</td>\n",
       "      <td>27.4</td>\n",
       "    </tr>\n",
       "    <tr>\n",
       "      <th>1031</th>\n",
       "      <td>1038</td>\n",
       "      <td>Volvo</td>\n",
       "      <td>XC90 T5 FWD</td>\n",
       "      <td>Both</td>\n",
       "      <td>250</td>\n",
       "      <td>4</td>\n",
       "      <td>SA</td>\n",
       "      <td>Semi-Automatic</td>\n",
       "      <td>8</td>\n",
       "      <td>F</td>\n",
       "      <td>4750</td>\n",
       "      <td>3.33</td>\n",
       "      <td>31</td>\n",
       "      <td>Federal fuel 3-day exhaust</td>\n",
       "      <td>61</td>\n",
       "      <td>Tier 2 Cert Gasoline</td>\n",
       "      <td>28.6</td>\n",
       "    </tr>\n",
       "    <tr>\n",
       "      <th>1032</th>\n",
       "      <td>1039</td>\n",
       "      <td>Volvo</td>\n",
       "      <td>XC90 T6 AWD</td>\n",
       "      <td>Both</td>\n",
       "      <td>316</td>\n",
       "      <td>4</td>\n",
       "      <td>SA</td>\n",
       "      <td>Semi-Automatic</td>\n",
       "      <td>8</td>\n",
       "      <td>F</td>\n",
       "      <td>5000</td>\n",
       "      <td>3.33</td>\n",
       "      <td>3</td>\n",
       "      <td>HWFE</td>\n",
       "      <td>61</td>\n",
       "      <td>Tier 2 Cert Gasoline</td>\n",
       "      <td>37.9</td>\n",
       "    </tr>\n",
       "    <tr>\n",
       "      <th>1033</th>\n",
       "      <td>1040</td>\n",
       "      <td>Volvo</td>\n",
       "      <td>XC90 T8 AWD</td>\n",
       "      <td>Both</td>\n",
       "      <td>313</td>\n",
       "      <td>4</td>\n",
       "      <td>SA</td>\n",
       "      <td>Semi-Automatic</td>\n",
       "      <td>8</td>\n",
       "      <td>A</td>\n",
       "      <td>5500</td>\n",
       "      <td>3.33</td>\n",
       "      <td>21</td>\n",
       "      <td>Federal fuel 2-day exhaust (w/can load)</td>\n",
       "      <td>61</td>\n",
       "      <td>Tier 2 Cert Gasoline</td>\n",
       "      <td>33.3</td>\n",
       "    </tr>\n",
       "  </tbody>\n",
       "</table>\n",
       "<p>1034 rows × 17 columns</p>\n",
       "</div>"
      ],
      "text/plain": [
       "      RowNumber Represented.Test.Veh.Make                     Model  \\\n",
       "0             1              Aston Martin                  Rapide S   \n",
       "1             2              Aston Martin                  Vanquish   \n",
       "2             3                   BENTLEY            Continental GT   \n",
       "3             4                   BENTLEY            Continental GT   \n",
       "4             5                       BMW          230i Convertible   \n",
       "5             6                       BMW                230i Coupe   \n",
       "6             7                       BMW                230i Coupe   \n",
       "7             8                       BMW   230i xDrive Convertible   \n",
       "8             9                       BMW         230i xDrive Coupe   \n",
       "9            10                       BMW                      320i   \n",
       "10           11                       BMW                      320i   \n",
       "11           12                       BMW               320i xDrive   \n",
       "12           13                       BMW                      328d   \n",
       "13           14                       BMW               328d xDrive   \n",
       "14           15                       BMW  328d xDrive Sports Wagon   \n",
       "15           16                       BMW                      330e   \n",
       "16           17                       BMW                      330i   \n",
       "17           18                       BMW                      330i   \n",
       "18           19                       BMW               330i xDrive   \n",
       "19           20                       BMW  330i xDrive Gran Turismo   \n",
       "20           21                       BMW  330i xDrive Sports Wagon   \n",
       "21           22                       BMW                      340i   \n",
       "22           23                       BMW                      340i   \n",
       "23           24                       BMW               340i xDrive   \n",
       "24           25                       BMW               340i xDrive   \n",
       "25           26                       BMW  340i xDrive Gran Turismo   \n",
       "26           27                       BMW          430i Convertible   \n",
       "27           28                       BMW                430i Coupe   \n",
       "28           29                       BMW                430i Coupe   \n",
       "29           30                       BMW           430i Gran Coupe   \n",
       "...         ...                       ...                       ...   \n",
       "1004       1011                VOLKSWAGEN                     Jetta   \n",
       "1005       1012                VOLKSWAGEN                     Jetta   \n",
       "1006       1013                VOLKSWAGEN                     Jetta   \n",
       "1007       1014                VOLKSWAGEN                    Passat   \n",
       "1008       1015                VOLKSWAGEN                    Passat   \n",
       "1009       1016                VOLKSWAGEN                    Passat   \n",
       "1010       1017                VOLKSWAGEN                    Passat   \n",
       "1011       1018                VOLKSWAGEN                    Tiguan   \n",
       "1012       1019                VOLKSWAGEN                    Tiguan   \n",
       "1013       1020                VOLKSWAGEN            Tiguan 4Motion   \n",
       "1014       1021                VOLKSWAGEN            Tiguan 4Motion   \n",
       "1015       1022                     Volvo    S60 Inscription T5 AWD   \n",
       "1016       1023                     Volvo    S60 Inscription T5 FWD   \n",
       "1017       1024                     Volvo          S60 Polestar AWD   \n",
       "1018       1025                     Volvo                S60 T6 AWD   \n",
       "1019       1026                     Volvo                S90 T5 AWD   \n",
       "1020       1027                     Volvo                S90 T5 FWD   \n",
       "1021       1028                     Volvo                S90 T6 AWD   \n",
       "1022       1029                     Volvo                S90 T8 AWD   \n",
       "1023       1030                     Volvo             V60 CC T5 AWD   \n",
       "1024       1031                     Volvo          V60 Polestar AWD   \n",
       "1025       1032                     Volvo              V90CC T5 AWD   \n",
       "1026       1033                     Volvo              V90CC T6 AWD   \n",
       "1027       1034                     Volvo               XC60 T5 AWD   \n",
       "1028       1035                     Volvo               XC60 T6 AWD   \n",
       "1029       1036                     Volvo               XC60 T8 AWD   \n",
       "1030       1037                     Volvo               XC90 T5 AWD   \n",
       "1031       1038                     Volvo               XC90 T5 FWD   \n",
       "1032       1039                     Volvo               XC90 T6 AWD   \n",
       "1033       1040                     Volvo               XC90 T8 AWD   \n",
       "\n",
       "     Vehicle.Type  HorsePower  Cylinders Tested.Transmission.Type.Code  \\\n",
       "0             Car         552         12                            SA   \n",
       "1             Car         568         12                            SA   \n",
       "2             Car         616         12                            SA   \n",
       "3             Car         616         12                            SA   \n",
       "4             Car         248          4                            SA   \n",
       "5             Car         248          4                             M   \n",
       "6             Car         248          4                            SA   \n",
       "7             Car         248          4                            SA   \n",
       "8             Car         248          4                            SA   \n",
       "9            Both         181          4                             A   \n",
       "10           Both         180          4                             M   \n",
       "11           Both         181          4                             A   \n",
       "12            Car         183          4                            SA   \n",
       "13            Car         181          4                            SA   \n",
       "14            Car         181          4                            SA   \n",
       "15            Car         180          4                            SA   \n",
       "16            Car         248          4                            SA   \n",
       "17            Car         248          4                             M   \n",
       "18            Car         248          4                            SA   \n",
       "19            Car         248          4                            SA   \n",
       "20            Car         248          4                            SA   \n",
       "21            Car         320          6                            SA   \n",
       "22            Car         320          6                             M   \n",
       "23            Car         320          6                            SA   \n",
       "24            Car         320          6                             M   \n",
       "25            Car         322          6                            SA   \n",
       "26            Car         248          4                            SA   \n",
       "27            Car         248          4                            SA   \n",
       "28            Car         248          4                             M   \n",
       "29            Car         248          4                            SA   \n",
       "...           ...         ...        ...                           ...   \n",
       "1004          Car         170          4                            SA   \n",
       "1005          Car         150          4                             M   \n",
       "1006          Car         150          4                            SA   \n",
       "1007          Car         174          4                            SA   \n",
       "1008          Car         174          4                            SA   \n",
       "1009          Car         280          6                           AMS   \n",
       "1010          Car         280          6                           AMS   \n",
       "1011         Both         186          4                            SA   \n",
       "1012         Both         186          4                            SA   \n",
       "1013         Both         186          4                            SA   \n",
       "1014         Both         186          4                            SA   \n",
       "1015         Both         240          4                            SA   \n",
       "1016         Both         240          4                            SA   \n",
       "1017          Car         362          4                            SA   \n",
       "1018          Car         302          4                            SA   \n",
       "1019         Both         250          4                            SA   \n",
       "1020         Both         250          4                            SA   \n",
       "1021         Both         316          4                            SA   \n",
       "1022          Car         313          4                            SA   \n",
       "1023         Both         240          4                            SA   \n",
       "1024          Car         362          4                            SA   \n",
       "1025         Both         250          4                            SA   \n",
       "1026         Both         316          4                            SA   \n",
       "1027         Both         250          4                            SA   \n",
       "1028         Both         250          4                            SA   \n",
       "1029         Both         313          4                            SA   \n",
       "1030         Both         250          4                            SA   \n",
       "1031         Both         250          4                            SA   \n",
       "1032         Both         316          4                            SA   \n",
       "1033         Both         313          4                            SA   \n",
       "\n",
       "                               Tested.Transmission.Type  Gears  \\\n",
       "0                                        Semi-Automatic      8   \n",
       "1                                        Semi-Automatic      8   \n",
       "2                                        Semi-Automatic      8   \n",
       "3                                        Semi-Automatic      8   \n",
       "4                                        Semi-Automatic      8   \n",
       "5                                                Manual      6   \n",
       "6                                        Semi-Automatic      8   \n",
       "7                                        Semi-Automatic      8   \n",
       "8                                        Semi-Automatic      8   \n",
       "9                                             Automatic      8   \n",
       "10                                               Manual      6   \n",
       "11                                            Automatic      8   \n",
       "12                                       Semi-Automatic      8   \n",
       "13                                       Semi-Automatic      8   \n",
       "14                                       Semi-Automatic      8   \n",
       "15                                       Semi-Automatic      8   \n",
       "16                                       Semi-Automatic      8   \n",
       "17                                               Manual      6   \n",
       "18                                       Semi-Automatic      8   \n",
       "19                                       Semi-Automatic      8   \n",
       "20                                       Semi-Automatic      8   \n",
       "21                                       Semi-Automatic      8   \n",
       "22                                               Manual      6   \n",
       "23                                       Semi-Automatic      8   \n",
       "24                                               Manual      6   \n",
       "25                                       Semi-Automatic      8   \n",
       "26                                       Semi-Automatic      8   \n",
       "27                                       Semi-Automatic      8   \n",
       "28                                               Manual      6   \n",
       "29                                       Semi-Automatic      8   \n",
       "...                                                 ...    ...   \n",
       "1004                                     Semi-Automatic      6   \n",
       "1005                                             Manual      5   \n",
       "1006                                     Semi-Automatic      6   \n",
       "1007                                     Semi-Automatic      6   \n",
       "1008                                     Semi-Automatic      6   \n",
       "1009  Automated Manual- Selectable (e.g. Automated M...      6   \n",
       "1010  Automated Manual- Selectable (e.g. Automated M...      6   \n",
       "1011                                     Semi-Automatic      8   \n",
       "1012                                     Semi-Automatic      8   \n",
       "1013                                     Semi-Automatic      8   \n",
       "1014                                     Semi-Automatic      8   \n",
       "1015                                     Semi-Automatic      8   \n",
       "1016                                     Semi-Automatic      8   \n",
       "1017                                     Semi-Automatic      8   \n",
       "1018                                     Semi-Automatic      8   \n",
       "1019                                     Semi-Automatic      8   \n",
       "1020                                     Semi-Automatic      8   \n",
       "1021                                     Semi-Automatic      8   \n",
       "1022                                     Semi-Automatic      8   \n",
       "1023                                     Semi-Automatic      8   \n",
       "1024                                     Semi-Automatic      8   \n",
       "1025                                     Semi-Automatic      8   \n",
       "1026                                     Semi-Automatic      8   \n",
       "1027                                     Semi-Automatic      8   \n",
       "1028                                     Semi-Automatic      8   \n",
       "1029                                     Semi-Automatic      8   \n",
       "1030                                     Semi-Automatic      8   \n",
       "1031                                     Semi-Automatic      8   \n",
       "1032                                     Semi-Automatic      8   \n",
       "1033                                     Semi-Automatic      8   \n",
       "\n",
       "     Drive.System.Code  Weight  AxleRatio  Test.Procedure.Cd  \\\n",
       "0                    R    4750       2.73                 21   \n",
       "1                    R    4500       2.73                 21   \n",
       "2                    F    6000       2.85                 90   \n",
       "3                    F    6000       2.85                 11   \n",
       "4                    R    4000       2.81                  3   \n",
       "5                    R    3625       3.91                 21   \n",
       "6                    R    3625       2.81                  3   \n",
       "7                    R    4000       2.81                 31   \n",
       "8                    R    3750       2.81                 21   \n",
       "9                    R    3625       3.20                 31   \n",
       "10                   R    3625       3.08                 31   \n",
       "11                   R    3750       3.15                 31   \n",
       "12                   R    3750       2.81                  2   \n",
       "13                   R    4000       2.81                  2   \n",
       "14                   R    4250       2.81                  3   \n",
       "15                   R    4250       2.93                 31   \n",
       "16                   R    3875       2.81                 31   \n",
       "17                   R    3750       3.91                 31   \n",
       "18                   R    4000       2.81                 31   \n",
       "19                   R    4250       2.93                 31   \n",
       "20                   R    4250       2.81                 31   \n",
       "21                   R    4000       2.81                 31   \n",
       "22                   R    4000       3.23                  3   \n",
       "23                   R    4000       2.81                 31   \n",
       "24                   R    4000       3.23                 31   \n",
       "25                   R    4500       2.93                 31   \n",
       "26                   R    4250       2.81                 31   \n",
       "27                   R    3875       2.81                 31   \n",
       "28                   R    3875       3.91                 31   \n",
       "29                   R    4000       2.81                 31   \n",
       "...                ...     ...        ...                ...   \n",
       "1004                 F    3500       3.23                 21   \n",
       "1005                 F    3250       3.65                 21   \n",
       "1006                 F    3375       3.23                  3   \n",
       "1007                 F    3625       3.23                 90   \n",
       "1008                 F    3625       3.23                 11   \n",
       "1009                 F    3875       3.44                 21   \n",
       "1010                 F    3875       3.44                 11   \n",
       "1011                 F    4250       3.33                 90   \n",
       "1012                 F    4250       3.33                 11   \n",
       "1013                 A    4250       3.33                 11   \n",
       "1014                 A    4250       3.33                 95   \n",
       "1015                 F    4250       3.08                 31   \n",
       "1016                 F    4000       2.77                 31   \n",
       "1017                 F    4250       3.33                  3   \n",
       "1018                 F    4000       3.08                  3   \n",
       "1019                 F    4250       3.20                 31   \n",
       "1020                 F    4250       3.08                 31   \n",
       "1021                 F    4500       3.20                 31   \n",
       "1022                 A    5000       3.20                  3   \n",
       "1023                 F    4250       3.33                 31   \n",
       "1024                 F    4250       3.33                 31   \n",
       "1025                 F    4500       3.33                 31   \n",
       "1026                 F    4500       3.33                 31   \n",
       "1027                 F    4500       3.33                 31   \n",
       "1028                 F    4500       3.33                  3   \n",
       "1029                 A    5000       3.33                 21   \n",
       "1030                 F    5000       3.33                 31   \n",
       "1031                 F    4750       3.33                 31   \n",
       "1032                 F    5000       3.33                  3   \n",
       "1033                 A    5500       3.33                 21   \n",
       "\n",
       "                   Test.Procedure.Description  Test.Fuel.Type.Cd  \\\n",
       "0     Federal fuel 2-day exhaust (w/can load)                 61   \n",
       "1     Federal fuel 2-day exhaust (w/can load)                 61   \n",
       "2                                        US06                 61   \n",
       "3                                     Cold CO                 27   \n",
       "4                                        HWFE                 61   \n",
       "5     Federal fuel 2-day exhaust (w/can load)                 61   \n",
       "6                                        HWFE                 61   \n",
       "7                  Federal fuel 3-day exhaust                 61   \n",
       "8     Federal fuel 2-day exhaust (w/can load)                 61   \n",
       "9                  Federal fuel 3-day exhaust                 61   \n",
       "10                 Federal fuel 3-day exhaust                 61   \n",
       "11                 Federal fuel 3-day exhaust                 61   \n",
       "12           CVS 75 and later (w/o can. load)                 19   \n",
       "13           CVS 75 and later (w/o can. load)                 19   \n",
       "14                                       HWFE                 19   \n",
       "15                 Federal fuel 3-day exhaust                 61   \n",
       "16                 Federal fuel 3-day exhaust                 61   \n",
       "17                 Federal fuel 3-day exhaust                 61   \n",
       "18                 Federal fuel 3-day exhaust                 61   \n",
       "19                 Federal fuel 3-day exhaust                 61   \n",
       "20                 Federal fuel 3-day exhaust                 61   \n",
       "21                 Federal fuel 3-day exhaust                 61   \n",
       "22                                       HWFE                 61   \n",
       "23                 Federal fuel 3-day exhaust                 61   \n",
       "24                 Federal fuel 3-day exhaust                 61   \n",
       "25                 Federal fuel 3-day exhaust                 61   \n",
       "26                 Federal fuel 3-day exhaust                 61   \n",
       "27                 Federal fuel 3-day exhaust                 61   \n",
       "28                 Federal fuel 3-day exhaust                 61   \n",
       "29                 Federal fuel 3-day exhaust                 61   \n",
       "...                                       ...                ...   \n",
       "1004  Federal fuel 2-day exhaust (w/can load)                 61   \n",
       "1005  Federal fuel 2-day exhaust (w/can load)                 61   \n",
       "1006                                     HWFE                 61   \n",
       "1007                                     US06                 61   \n",
       "1008                                  Cold CO                 27   \n",
       "1009  Federal fuel 2-day exhaust (w/can load)                 61   \n",
       "1010                                  Cold CO                 27   \n",
       "1011                                     US06                 61   \n",
       "1012                                  Cold CO                 27   \n",
       "1013                                  Cold CO                 27   \n",
       "1014                                     SC03                 61   \n",
       "1015               Federal fuel 3-day exhaust                 61   \n",
       "1016               Federal fuel 3-day exhaust                 61   \n",
       "1017                                     HWFE                 61   \n",
       "1018                                     HWFE                 61   \n",
       "1019               Federal fuel 3-day exhaust                 61   \n",
       "1020               Federal fuel 3-day exhaust                 61   \n",
       "1021               Federal fuel 3-day exhaust                 61   \n",
       "1022                                     HWFE                 61   \n",
       "1023               Federal fuel 3-day exhaust                 61   \n",
       "1024               Federal fuel 3-day exhaust                 61   \n",
       "1025               Federal fuel 3-day exhaust                 61   \n",
       "1026               Federal fuel 3-day exhaust                 61   \n",
       "1027               Federal fuel 3-day exhaust                 61   \n",
       "1028                                     HWFE                 61   \n",
       "1029  Federal fuel 2-day exhaust (w/can load)                 61   \n",
       "1030               Federal fuel 3-day exhaust                 61   \n",
       "1031               Federal fuel 3-day exhaust                 61   \n",
       "1032                                     HWFE                 61   \n",
       "1033  Federal fuel 2-day exhaust (w/can load)                 61   \n",
       "\n",
       "               Test.Fuel.Type.Description  FuelEcon  \n",
       "0                    Tier 2 Cert Gasoline      17.3  \n",
       "1                    Tier 2 Cert Gasoline      16.5  \n",
       "2                    Tier 2 Cert Gasoline      17.4  \n",
       "3                Cold CO Premium (Tier 2)      13.6  \n",
       "4                    Tier 2 Cert Gasoline      45.8  \n",
       "5                    Tier 2 Cert Gasoline      26.4  \n",
       "6                    Tier 2 Cert Gasoline      50.6  \n",
       "7                    Tier 2 Cert Gasoline      29.6  \n",
       "8                    Tier 2 Cert Gasoline      30.3  \n",
       "9                    Tier 2 Cert Gasoline      30.4  \n",
       "10                   Tier 2 Cert Gasoline      29.5  \n",
       "11                   Tier 2 Cert Gasoline      29.9  \n",
       "12    Federal Cert Diesel 7-15 PPM Sulfur      42.2  \n",
       "13    Federal Cert Diesel 7-15 PPM Sulfur      41.2  \n",
       "14    Federal Cert Diesel 7-15 PPM Sulfur      57.2  \n",
       "15                   Tier 2 Cert Gasoline      35.6  \n",
       "16                   Tier 2 Cert Gasoline      30.8  \n",
       "17                   Tier 2 Cert Gasoline      26.7  \n",
       "18                   Tier 2 Cert Gasoline      29.7  \n",
       "19                   Tier 2 Cert Gasoline      29.3  \n",
       "20                   Tier 2 Cert Gasoline      28.6  \n",
       "21                   Tier 2 Cert Gasoline      29.0  \n",
       "22                   Tier 2 Cert Gasoline      41.2  \n",
       "23                   Tier 2 Cert Gasoline      29.2  \n",
       "24                   Tier 2 Cert Gasoline      24.7  \n",
       "25                   Tier 2 Cert Gasoline      27.4  \n",
       "26                   Tier 2 Cert Gasoline      30.2  \n",
       "27                   Tier 2 Cert Gasoline      30.7  \n",
       "28                   Tier 2 Cert Gasoline      26.6  \n",
       "29                   Tier 2 Cert Gasoline      30.0  \n",
       "...                                   ...       ...  \n",
       "1004                 Tier 2 Cert Gasoline      31.0  \n",
       "1005                 Tier 2 Cert Gasoline      37.3  \n",
       "1006                 Tier 2 Cert Gasoline      56.1  \n",
       "1007                 Tier 2 Cert Gasoline      31.7  \n",
       "1008             Cold CO Premium (Tier 2)      26.9  \n",
       "1009                 Tier 2 Cert Gasoline      23.4  \n",
       "1010             Cold CO Premium (Tier 2)      21.3  \n",
       "1011                 Tier 2 Cert Gasoline      23.5  \n",
       "1012             Cold CO Premium (Tier 2)      23.5  \n",
       "1013             Cold CO Premium (Tier 2)      22.8  \n",
       "1014                 Tier 2 Cert Gasoline      21.5  \n",
       "1015                 Tier 2 Cert Gasoline      28.7  \n",
       "1016                 Tier 2 Cert Gasoline      32.6  \n",
       "1017                 Tier 2 Cert Gasoline      38.9  \n",
       "1018                 Tier 2 Cert Gasoline      45.4  \n",
       "1019                 Tier 2 Cert Gasoline      30.0  \n",
       "1020                 Tier 2 Cert Gasoline      30.6  \n",
       "1021                 Tier 2 Cert Gasoline      27.4  \n",
       "1022                 Tier 2 Cert Gasoline      48.2  \n",
       "1023                 Tier 2 Cert Gasoline      27.8  \n",
       "1024                 Tier 2 Cert Gasoline      24.7  \n",
       "1025                 Tier 2 Cert Gasoline      28.9  \n",
       "1026                 Tier 2 Cert Gasoline      27.4  \n",
       "1027                 Tier 2 Cert Gasoline      27.9  \n",
       "1028                 Tier 2 Cert Gasoline      38.2  \n",
       "1029                 Tier 2 Cert Gasoline      33.1  \n",
       "1030                 Tier 2 Cert Gasoline      27.4  \n",
       "1031                 Tier 2 Cert Gasoline      28.6  \n",
       "1032                 Tier 2 Cert Gasoline      37.9  \n",
       "1033                 Tier 2 Cert Gasoline      33.3  \n",
       "\n",
       "[1034 rows x 17 columns]"
      ]
     },
     "execution_count": 66,
     "metadata": {},
     "output_type": "execute_result"
    }
   ],
   "source": [
    "epaMpg"
   ]
  },
  {
   "cell_type": "markdown",
   "metadata": {},
   "source": [
    "Get the summary stats of the datafrmae"
   ]
  },
  {
   "cell_type": "code",
   "execution_count": 74,
   "metadata": {},
   "outputs": [
    {
     "data": {
      "text/html": [
       "<div>\n",
       "<style scoped>\n",
       "    .dataframe tbody tr th:only-of-type {\n",
       "        vertical-align: middle;\n",
       "    }\n",
       "\n",
       "    .dataframe tbody tr th {\n",
       "        vertical-align: top;\n",
       "    }\n",
       "\n",
       "    .dataframe thead th {\n",
       "        text-align: right;\n",
       "    }\n",
       "</style>\n",
       "<table border=\"1\" class=\"dataframe\">\n",
       "  <thead>\n",
       "    <tr style=\"text-align: right;\">\n",
       "      <th></th>\n",
       "      <th>count</th>\n",
       "      <th>mean</th>\n",
       "      <th>std</th>\n",
       "      <th>min</th>\n",
       "      <th>25%</th>\n",
       "      <th>50%</th>\n",
       "      <th>75%</th>\n",
       "      <th>max</th>\n",
       "    </tr>\n",
       "  </thead>\n",
       "  <tbody>\n",
       "    <tr>\n",
       "      <th>RowNumber</th>\n",
       "      <td>1034.0</td>\n",
       "      <td>521.361702</td>\n",
       "      <td>300.241933</td>\n",
       "      <td>1.00</td>\n",
       "      <td>262.250</td>\n",
       "      <td>520.50</td>\n",
       "      <td>781.75</td>\n",
       "      <td>1040.00</td>\n",
       "    </tr>\n",
       "    <tr>\n",
       "      <th>HorsePower</th>\n",
       "      <td>1034.0</td>\n",
       "      <td>291.824952</td>\n",
       "      <td>144.294932</td>\n",
       "      <td>72.00</td>\n",
       "      <td>181.000</td>\n",
       "      <td>271.50</td>\n",
       "      <td>355.00</td>\n",
       "      <td>1500.00</td>\n",
       "    </tr>\n",
       "    <tr>\n",
       "      <th>Cylinders</th>\n",
       "      <td>1034.0</td>\n",
       "      <td>5.431335</td>\n",
       "      <td>1.905214</td>\n",
       "      <td>3.00</td>\n",
       "      <td>4.000</td>\n",
       "      <td>4.00</td>\n",
       "      <td>6.00</td>\n",
       "      <td>16.00</td>\n",
       "    </tr>\n",
       "    <tr>\n",
       "      <th>Gears</th>\n",
       "      <td>1034.0</td>\n",
       "      <td>6.509671</td>\n",
       "      <td>1.992824</td>\n",
       "      <td>1.00</td>\n",
       "      <td>6.000</td>\n",
       "      <td>7.00</td>\n",
       "      <td>8.00</td>\n",
       "      <td>10.00</td>\n",
       "    </tr>\n",
       "    <tr>\n",
       "      <th>Weight</th>\n",
       "      <td>1034.0</td>\n",
       "      <td>4191.852031</td>\n",
       "      <td>787.821434</td>\n",
       "      <td>2375.00</td>\n",
       "      <td>3625.000</td>\n",
       "      <td>4000.00</td>\n",
       "      <td>4750.00</td>\n",
       "      <td>6500.00</td>\n",
       "    </tr>\n",
       "    <tr>\n",
       "      <th>AxleRatio</th>\n",
       "      <td>1034.0</td>\n",
       "      <td>3.411064</td>\n",
       "      <td>0.586484</td>\n",
       "      <td>1.56</td>\n",
       "      <td>3.070</td>\n",
       "      <td>3.36</td>\n",
       "      <td>3.70</td>\n",
       "      <td>5.44</td>\n",
       "    </tr>\n",
       "    <tr>\n",
       "      <th>Test.Procedure.Cd</th>\n",
       "      <td>1034.0</td>\n",
       "      <td>24.993230</td>\n",
       "      <td>22.078601</td>\n",
       "      <td>2.00</td>\n",
       "      <td>11.000</td>\n",
       "      <td>21.00</td>\n",
       "      <td>31.00</td>\n",
       "      <td>95.00</td>\n",
       "    </tr>\n",
       "    <tr>\n",
       "      <th>Test.Fuel.Type.Cd</th>\n",
       "      <td>1034.0</td>\n",
       "      <td>56.366538</td>\n",
       "      <td>11.633650</td>\n",
       "      <td>19.00</td>\n",
       "      <td>61.000</td>\n",
       "      <td>61.00</td>\n",
       "      <td>61.00</td>\n",
       "      <td>61.00</td>\n",
       "    </tr>\n",
       "    <tr>\n",
       "      <th>FuelEcon</th>\n",
       "      <td>1034.0</td>\n",
       "      <td>28.216538</td>\n",
       "      <td>9.496233</td>\n",
       "      <td>9.20</td>\n",
       "      <td>21.525</td>\n",
       "      <td>26.80</td>\n",
       "      <td>33.40</td>\n",
       "      <td>71.60</td>\n",
       "    </tr>\n",
       "  </tbody>\n",
       "</table>\n",
       "</div>"
      ],
      "text/plain": [
       "                    count         mean         std      min       25%  \\\n",
       "RowNumber          1034.0   521.361702  300.241933     1.00   262.250   \n",
       "HorsePower         1034.0   291.824952  144.294932    72.00   181.000   \n",
       "Cylinders          1034.0     5.431335    1.905214     3.00     4.000   \n",
       "Gears              1034.0     6.509671    1.992824     1.00     6.000   \n",
       "Weight             1034.0  4191.852031  787.821434  2375.00  3625.000   \n",
       "AxleRatio          1034.0     3.411064    0.586484     1.56     3.070   \n",
       "Test.Procedure.Cd  1034.0    24.993230   22.078601     2.00    11.000   \n",
       "Test.Fuel.Type.Cd  1034.0    56.366538   11.633650    19.00    61.000   \n",
       "FuelEcon           1034.0    28.216538    9.496233     9.20    21.525   \n",
       "\n",
       "                       50%      75%      max  \n",
       "RowNumber           520.50   781.75  1040.00  \n",
       "HorsePower          271.50   355.00  1500.00  \n",
       "Cylinders             4.00     6.00    16.00  \n",
       "Gears                 7.00     8.00    10.00  \n",
       "Weight             4000.00  4750.00  6500.00  \n",
       "AxleRatio             3.36     3.70     5.44  \n",
       "Test.Procedure.Cd    21.00    31.00    95.00  \n",
       "Test.Fuel.Type.Cd    61.00    61.00    61.00  \n",
       "FuelEcon             26.80    33.40    71.60  "
      ]
     },
     "execution_count": 74,
     "metadata": {},
     "output_type": "execute_result"
    }
   ],
   "source": [
    "epaMpg.describe().T"
   ]
  },
  {
   "cell_type": "code",
   "execution_count": null,
   "metadata": {},
   "outputs": [],
   "source": []
  }
 ],
 "metadata": {
  "kernelspec": {
   "display_name": "Python 3",
   "language": "python",
   "name": "python3"
  },
  "language_info": {
   "codemirror_mode": {
    "name": "ipython",
    "version": 3
   },
   "file_extension": ".py",
   "mimetype": "text/x-python",
   "name": "python",
   "nbconvert_exporter": "python",
   "pygments_lexer": "ipython3",
   "version": "3.8.8"
  },
  "name": "Lab Python Pt 1",
  "notebookId": 708371272747119
 },
 "nbformat": 4,
 "nbformat_minor": 1
}
